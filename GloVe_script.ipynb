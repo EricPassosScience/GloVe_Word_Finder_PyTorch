{
 "cells": [
  {
   "cell_type": "code",
   "execution_count": 0,
   "metadata": {
    "application/vnd.databricks.v1+cell": {
     "cellMetadata": {
      "byteLimit": 2048000,
      "rowLimit": 10000
     },
     "inputWidgets": {},
     "nuid": "f5999348-bda4-4d6c-9e0e-d4aa8243d2e4",
     "showTitle": false,
     "title": ""
    }
   },
   "outputs": [
    {
     "output_type": "stream",
     "name": "stdout",
     "output_type": "stream",
     "text": [
      "Versão da Linguagem Python Usada Neste Jupyter Notebook: 3.9.5\n"
     ]
    }
   ],
   "source": [
    "# Versão da Linguagem Python\n",
    "from platform import python_version\n",
    "print('Versão da Linguagem Python Usada Neste Jupyter Notebook:', python_version())"
   ]
  },
  {
   "cell_type": "code",
   "execution_count": 0,
   "metadata": {
    "application/vnd.databricks.v1+cell": {
     "cellMetadata": {
      "byteLimit": 2048000,
      "rowLimit": 10000
     },
     "inputWidgets": {},
     "nuid": "4cf22ec9-b8d4-4620-8e7f-764865f3f14e",
     "showTitle": false,
     "title": ""
    }
   },
   "outputs": [
    {
     "output_type": "stream",
     "name": "stdout",
     "output_type": "stream",
     "text": [
      "\u001B[33mWARNING: You are using pip version 21.2.4; however, version 23.1.1 is available.\r\nYou should consider upgrading via the '/local_disk0/.ephemeral_nfs/envs/pythonEnv-f2aebf61-1f88-462e-b9b1-fa48d36f38fc/bin/python -m pip install --upgrade pip' command.\u001B[0m\r\n"
     ]
    }
   ],
   "source": [
    "# Instala o pacote watermark. \n",
    "# Esse pacote é usado para gravar as versões de outros pacotes usados neste jupyter notebook.\n",
    "!pip install -q -U watermark"
   ]
  },
  {
   "cell_type": "code",
   "execution_count": 0,
   "metadata": {
    "application/vnd.databricks.v1+cell": {
     "cellMetadata": {
      "byteLimit": 2048000,
      "rowLimit": 10000
     },
     "inputWidgets": {},
     "nuid": "2f1ea8fa-c53c-4661-b80a-18555e226e0f",
     "showTitle": false,
     "title": ""
    }
   },
   "outputs": [
    {
     "output_type": "stream",
     "name": "stdout",
     "output_type": "stream",
     "text": [
      "\u001B[33mWARNING: You are using pip version 21.2.4; however, version 23.1.1 is available.\r\nYou should consider upgrading via the '/local_disk0/.ephemeral_nfs/envs/pythonEnv-f2aebf61-1f88-462e-b9b1-fa48d36f38fc/bin/python -m pip install --upgrade pip' command.\u001B[0m\r\n"
     ]
    }
   ],
   "source": [
    "# Instala o PyTorch\n",
    "!pip install -q torch "
   ]
  },
  {
   "cell_type": "code",
   "execution_count": 0,
   "metadata": {
    "application/vnd.databricks.v1+cell": {
     "cellMetadata": {
      "byteLimit": 2048000,
      "rowLimit": 10000
     },
     "inputWidgets": {},
     "nuid": "58d1f13a-1f8a-4f94-a985-70e4b6b7fc4f",
     "showTitle": false,
     "title": ""
    }
   },
   "outputs": [
    {
     "output_type": "stream",
     "name": "stdout",
     "output_type": "stream",
     "text": [
      "[nltk_data] Downloading package punkt to /root/nltk_data...\n[nltk_data]   Unzipping tokenizers/punkt.zip.\nOut[4]: True"
     ]
    }
   ],
   "source": [
    "# Import e Dowload NLTK\n",
    "import nltk\n",
    "nltk.download('punkt') "
   ]
  },
  {
   "cell_type": "code",
   "execution_count": 0,
   "metadata": {
    "application/vnd.databricks.v1+cell": {
     "cellMetadata": {
      "byteLimit": 2048000,
      "rowLimit": 10000
     },
     "inputWidgets": {},
     "nuid": "f1af3bb0-df73-4896-a8ee-a2c457db3409",
     "showTitle": false,
     "title": ""
    }
   },
   "outputs": [
    {
     "output_type": "stream",
     "name": "stdout",
     "output_type": "stream",
     "text": [
      "Out[5]: <torch._C.Generator at 0x7f04161a63b0>"
     ]
    }
   ],
   "source": [
    "# Imports\n",
    "import torch\n",
    "import numpy as np\n",
    "import torch.nn as nn\n",
    "import torch.optim as optim\n",
    "import matplotlib\n",
    "import matplotlib.pyplot as plt\n",
    "from tqdm import tqdm\n",
    "from torch.autograd import Variable\n",
    "from nltk.tokenize import word_tokenize\n",
    "%matplotlib inline\n",
    "torch.manual_seed(1)"
   ]
  },
  {
   "cell_type": "code",
   "execution_count": 0,
   "metadata": {
    "application/vnd.databricks.v1+cell": {
     "cellMetadata": {
      "byteLimit": 2048000,
      "rowLimit": 10000
     },
     "inputWidgets": {},
     "nuid": "40c5b2a6-819a-4770-b689-7849903811ac",
     "showTitle": false,
     "title": ""
    }
   },
   "outputs": [
    {
     "output_type": "stream",
     "name": "stdout",
     "output_type": "stream",
     "text": [
      "Author: Eric Passos\n\nnltk      : 3.6.5\ntorch     : 1.12.1+cpu\nnumpy     : 1.20.3\nmatplotlib: 3.4.3\n\n"
     ]
    }
   ],
   "source": [
    "# Versões dos pacotes usados neste jupyter notebook\n",
    "%reload_ext watermark\n",
    "%watermark -a \"Eric Passos\" --iversions"
   ]
  },
  {
   "cell_type": "code",
   "execution_count": 0,
   "metadata": {
    "application/vnd.databricks.v1+cell": {
     "cellMetadata": {
      "byteLimit": 2048000,
      "rowLimit": 10000
     },
     "inputWidgets": {},
     "nuid": "9a09b029-1863-43f2-ab27-0dafb6c2612d",
     "showTitle": false,
     "title": ""
    }
   },
   "outputs": [],
   "source": [
    "# Abre o arquivo para leitura e carrega na variável arquivo_texto\n",
    "arquivo_texto = open('/dbfs/FileStore/shared_uploads/eric.passos@dataside.com.br/asimov.txt', 'r')\n",
    "\n",
    "# Converte as palavars para minúsculo\n",
    "texto = arquivo_texto.read().lower()"
   ]
  },
  {
   "cell_type": "code",
   "execution_count": 0,
   "metadata": {
    "application/vnd.databricks.v1+cell": {
     "cellMetadata": {
      "byteLimit": 2048000,
      "rowLimit": 10000
     },
     "inputWidgets": {},
     "nuid": "7b0df2f6-f4c6-4837-9302-8738303acd95",
     "showTitle": false,
     "title": ""
    }
   },
   "outputs": [],
   "source": [
    "# Fecha o arquivo\n",
    "arquivo_texto.close()"
   ]
  },
  {
   "cell_type": "code",
   "execution_count": 0,
   "metadata": {
    "application/vnd.databricks.v1+cell": {
     "cellMetadata": {
      "byteLimit": 2048000,
      "rowLimit": 10000
     },
     "inputWidgets": {},
     "nuid": "dc697432-e895-4acf-951a-4e126f086c32",
     "showTitle": false,
     "title": ""
    }
   },
   "outputs": [],
   "source": [
    "# Tokenização do texto\n",
    "texto_token = word_tokenize(texto)"
   ]
  },
  {
   "cell_type": "code",
   "execution_count": 0,
   "metadata": {
    "application/vnd.databricks.v1+cell": {
     "cellMetadata": {
      "byteLimit": 2048000,
      "rowLimit": 10000
     },
     "inputWidgets": {},
     "nuid": "f84751ab-9ca5-42f9-8a3a-ae3372e6c91e",
     "showTitle": false,
     "title": ""
    }
   },
   "outputs": [],
   "source": [
    "# Variável para o comprimento total dos tokens\n",
    "comp_tokens = len(texto_token)"
   ]
  },
  {
   "cell_type": "code",
   "execution_count": 0,
   "metadata": {
    "application/vnd.databricks.v1+cell": {
     "cellMetadata": {
      "byteLimit": 2048000,
      "rowLimit": 10000
     },
     "inputWidgets": {},
     "nuid": "97b31280-a98c-4265-8dce-47e25fc5b079",
     "showTitle": false,
     "title": ""
    }
   },
   "outputs": [
    {
     "output_type": "stream",
     "name": "stdout",
     "output_type": "stream",
     "text": [
      "Número de Tokens:  5282\n"
     ]
    }
   ],
   "source": [
    "print(\"Número de Tokens: \", comp_tokens)"
   ]
  },
  {
   "cell_type": "markdown",
   "metadata": {
    "application/vnd.databricks.v1+cell": {
     "cellMetadata": {},
     "inputWidgets": {},
     "nuid": "5dce273b-0e26-4522-a5e4-b73e67c75cc7",
     "showTitle": false,
     "title": ""
    }
   },
   "source": [
    "### Crear el vocabulario"
   ]
  },
  {
   "cell_type": "code",
   "execution_count": 0,
   "metadata": {
    "application/vnd.databricks.v1+cell": {
     "cellMetadata": {
      "byteLimit": 2048000,
      "rowLimit": 10000
     },
     "inputWidgets": {},
     "nuid": "9433c1bc-3516-444c-b90a-6b5d3e1d20ed",
     "showTitle": false,
     "title": ""
    }
   },
   "outputs": [
    {
     "output_type": "stream",
     "name": "stdout",
     "output_type": "stream",
     "text": [
      "Tamanho do Vocabulário: 1397\n"
     ]
    }
   ],
   "source": [
    "# Criando o vocabulário\n",
    "vocab = set(texto_token)\n",
    "vocab_size = len(vocab)\n",
    "print(\"Tamanho do Vocabulário:\", vocab_size)"
   ]
  },
  {
   "cell_type": "code",
   "execution_count": 0,
   "metadata": {
    "application/vnd.databricks.v1+cell": {
     "cellMetadata": {
      "byteLimit": 2048000,
      "rowLimit": 10000
     },
     "inputWidgets": {},
     "nuid": "c8903a70-3700-4ecb-ba5c-9d07408bedf7",
     "showTitle": false,
     "title": ""
    }
   },
   "outputs": [
    {
     "output_type": "stream",
     "name": "stdout",
     "output_type": "stream",
     "text": [
      "{'vez': 0, 'nos': 1, 'respondida': 2, 'nem': 3, 'largo': 4, 'turbilhões': 5, 'para': 6, 'parte': 7, 'ela': 8, 'esbanjadoras': 9, 'capazes': 10, 'altos': 11, 'antigo': 12, 'lábios': 13, 'entender': 14, 'letras': 15, 'escolhido': 16, 'peso': 17, 'deu': 18, 'proporções.': 19, 'único': 20, 'levou': 21, 'dobra': 22, 'estão': 23, 'hà': 24, 'feixes': 25, 'maneira': 26, 'aproveitamos': 27, 'história': 28, 'tinham': 29, 'gelo': 30, 'lar.': 31, 'benéfico': 32, 'fino': 33, 'momentos': 34, 'através': 35, 'só': 36, 'meu': 37, 'precisavam': 38, 'à': 39, 'precisar': 40, 'ajustava-se': 41, 'circuitos': 42, 'possa': 43, 'polegadas': 44, 'leu': 45, 'milhões': 46, 'nada': 47, 'inserida': 48, 'sozinho': 49, 'gasto': 50, 'anjinhos': 51, 'agora': 52, 'gentil': 53, 'sensação': 54, 'trocar': 55, 'explosão': 56, 'destruídas': 57, 'fazer': 58, 'orbitando': 59, 'terminar': 60, 'estelar': 61, 'eternidade': 62, 'fumaça': 63, 'termos': 64, 'lembrar': 65, 'abaixo': 66, 'atenção': 67, 'nossos': 68, 'pensamentos': 69, 'direito': 70, 'adicionais.': 71, 'computador': 72, 'ridículo': 73, 'prontamente': 74, 'papai': 75, 'pálpebras': 76, 'cósmica': 77, 'princípio': 78, 'computação': 79, 'tubo': 80, 'incomodado': 81, 'aumentar': 82, 'devem': 83, 'contaremos': 84, 'incrível': 85, 'caos': 86, 'grande': 87, 'hesitei': 88, 'populações': 89, 'vida': 90, 'utilização': 91, 'descansar': 92, 'significativa.': 93, 'mental': 94, 'unidades': 95, 'robô': 96, 'ficando': 97, 'a': 98, 'segredo': 99, 'aparências': 100, 'verdadeira': 101, 'fissões': 102, 'apagam': 103, 'acender': 104, 'transformar': 105, 'ocupada': 106, '!': 107, 'visto': 108, 'onde': 109, 'esta': 110, 'pelo': 111, 'vaga': 112, 'iremos': 113, 'poucos': 114, 'enormes': 115, 'progressão': 116, 'hiperespacial': 117, 'sentido': 118, 'controlada': 119, 'volume': 120, 'risadas': 121, 'necessidades': 122, 'expandiu': 123, 'corrigia-se': 124, 'daquela': 125, 'diretamente': 126, 'continuava': 127, 'reconstruir': 128, 'fixou': 129, 'solucionou': 130, 'anã': 131, 'utensílios': 132, 'fim': 133, 'pai': 134, 'ter': 135, 'tom': 136, 'migração': 137, 'tenho': 138, 'podiam': 139, 'urânio': 140, 'sequer': 141, 'pára': 142, 'colocar': 143, 'pontilhavam': 144, 'conheciam': 145, 'muitas': 146, 'complexo': 147, 'eles': 148, 'primitivo': 149, 'domou': 150, 'berço': 151, 'conhecimento': 152, 'aos': 153, 'tristeza': 154, 'certamente': 155, 'cheguei': 156, 'adicionando': 157, 'perguntas': 158, 'funções': 159, 'mundo': 160, 'pequeno': 161, 'terão': 162, 'mil': 163, 'aguardar': 164, 'observavam': 165, 'abarcou': 166, 'ir': 167, 'agite-os': 168, 'cem': 169, 'conhecido': 170, 'presença': 171, '*': 172, 'ocupado': 173, 'concebíveis': 174, 'planetários': 175, 'semelhanças': 176, 'terá': 177, 'sóbrio': 178, 'muitos': 179, 'pareciam': 180, 'ver': 181, 'outras': 182, 'devíamos': 183, 'disponível': 184, 'dispensou': 185, 'falando': 186, 'jeito': 187, 'vou.': 188, 'diminuir': 189, 'ajustavam': 190, 'há': 191, 'entropia': 192, 'destruí-lo': 193, 'ano': 194, 'ele': 195, 'nadando': 196, 'construir': 197, 'afigurava': 198, 'antigos': 199, 'bisneto': 200, 'acabaram': 201, 'definição': 202, 'encontrar-se': 203, 'são': 204, 'pessoas': 205, 'indivíduos': 206, 'crescente': 207, 'teve': 208, 'tanto': 209, 'parece-me': 210, 'nas': 211, 'morto': 212, 'conhecimentos': 213, 'perguntar': 214, 'duzentos': 215, 'abandonar': 216, 'dados': 217, 'ombros': 218, 'em': 219, 'sentiríamos': 220, 'fizeram': 221, 'erguido': 222, 'deixava': 223, 'cujo': 224, 'bêbado': 225, 'ficou': 226, 'colapso': 227, 'quadradas': 228, 'voltando': 229, 'guardava': 230, 'modo': 231, 'reconstituir': 232, 'álcool': 233, 'distantes': 234, 'pensaria': 235, 'colete': 236, 'tentar': 237, 'subutilizado': 238, 'povoado.': 239, 'sabemos': 240, 'suspensão': 241, 'nós': 242, 'conta': 243, 'asperamente': 244, 'chorar': 245, 'algo': 246, 'saiba.': 247, 'possível': 248, 'oh': 249, 'fazia-se': 250, 'personagem': 251, 'simples': 252, 'fria': 253, 'viagem': 254, 'precisa': 255, 'cama': 256, 'soltou-se': 257, 'e': 258, 'família': 259, 'microvac': 260, 'poderíamos': 261, '14': 262, 'nenhuma': 263, 'duram': 264, 'pigarreou': 265, 'famílias': 266, 'foram': 267, 'oceano': 268, 'qualquer': 269, 'certo': 270, 'dignidade': 271, 'intenção': 272, 'multivac.': 273, 'pergunte': 274, 'carregar': 275, 'incorruptível': 276, 'mais.': 277, 'viram': 278, 'fraco': 279, 'seu': 280, 'dê': 281, 'perguntou': 282, '(': 283, 'incrivelmente': 284, 'pequenas': 285, 'algumas': 286, 'deus': 287, 'coleta': 288, 'pensar': 289, 'branca.': 290, 'consistia': 291, 'crianças': 292, 'época': 293, 'vou': 294, 'lameth': 295, 'finos': 296, 'zero': 297, 'merecer': 298, 'abriu': 299, 'partir': 300, 'isso': 301, 'noção': 302, 'novo.': 303, 'procurá-los': 304, 'passos': 305, 'agora.': 306, 'viviam': 307, 'jerrodette': 308, 'sala': 309, 'suspirou': 310, 'chamava': 311, 'outra.': 312, 'pararam': 313, 'toda': 314, 'retornaram': 315, 'perdeu-se': 316, 'bert.': 317, 'cruzados': 318, 'opacas': 319, 'duas.': 320, 'era': 321, 'morreram': 322, 'olhos': 323, 'foi': 324, 'sim': 325, 'velocidade': 326, 'metal': 327, 'função': 328, 'iriam.': 329, 'agitada': 330, 'mq-17j': 331, 'novas': 332, 'organizou': 333, 'quantidade': 334, 'natureza': 335, 'teoria': 336, 'pouco.': 337, 'terra': 338, 'apagarem': 339, 'alimentava': 340, 'aquela': 341, 'enredar': 342, 'girando': 343, 'cúbicas': 344, 'eles.': 345, 'estas': 346, 'restos': 347, 'maio': 348, 'desajeitadas': 349, 'recuperá-la': 350, 'alavanca': 351, 'geração': 352, 'parar': 353, 'alimentavam': 354, 'paisagem': 355, 'estiverem': 356, 'comprimento': 357, 'orientação': 358, 'fez': 359, 'possamos': 360, 'superficialmente': 361, 'ficaram': 362, 'sob': 363, 'aconteça': 364, 'relatório': 365, 'peça': 366, 'correr': 367, 'precisaremos': 368, 'idade': 369, 'quantas': 370, 'me': 371, 'exploração': 372, 'poupada': 373, 'primeiros': 374, 'conectou': 375, 'eventualmente': 376, 'pergunta.': 377, 'incomodá-lo': 378, 'mãe': 379, 'nunca.': 380, 'estarão': 381, 'experimentado': 382, 'disso': 383, 'faziam-se': 384, 'pausa': 385, 'nossa': 386, 'conseguiria': 387, 'observando': 388, 'acabado.': 389, 'assim': 390, 'ah': 391, 'milhão': 392, 'ouvimos': 393, 'te': 394, 'implementadas': 395, 'super': 396, 'colidirse': 397, 'passado': 398, 'breve': 399, 'lhe': 400, 'seca': 401, 'metálica': 402, 'lentamente': 403, 'cercava-os': 404, 'das': 405, 'importava': 406, 'cósmico': 407, 'adequada': 408, 'receptores': 409, 'consumava-se': 410, 'permanecia': 411, 'força': 412, 'transporte': 413, 'saber': 414, 'segurar': 415, 'teremos': 416, 'palavra': 417, 'no': 418, 'porções': 419, 'coletar': 420, 'dissipado': 421, 'anos…': 422, 'título': 423, 'gás': 424, 'pálidas': 425, 'dava': 426, 'computer': 427, 'milhas': 428, 'imerso': 429, 'costas': 430, 'olhou': 431, 'grupo': 432, 'máquina': 433, 'recursos': 434, 'energética': 435, 'três': 436, 'leve': 437, 'inglês': 438, 'necessário': 439, 'deixar': 440, 'intervalo': 441, 'início': 442, 'pioneira': 443, 'apagar': 444, 'anãs': 445, 'demanda': 446, 'afinal': 447, 'produzia': 448, 'veio': 449, 'anos': 450, 'sete': 451, 'perfeitos': 452, 'respondeu': 453, 'crianças.': 454, 'talvez': 455, 'permanecem': 456, 'elas': 457, 'programa': 458, 'responder': 459, 'obtidos': 460, 'pessoal': 461, 'viagens': 462, 'suas': 463, 'nunca': 464, 'chegamos': 465, 'seguros': 466, 'nisso': 467, 'reduzido': 468, 'assustadas': 469, 'trilhão': 470, 'corpo': 471, 'infinidade': 472, 'construídas': 473, 'haverá': 474, 'permitindo': 475, 'atividade': 476, 'quanto': 477, 'estalos': 478, 'suficiente': 479, 'silenciassem': 480, 'trilhões': 481, 'idéia': 482, 'únicos': 483, 'servia': 484, 'pensando': 485, '–': 486, 'computadores': 487, 'nova': 488, 'diante': 489, 'câmaras': 490, 'insuficientes': 491, 'válvulas': 492, 'navegou': 493, 'já': 494, 'mentes': 495, 'igualmente': 496, 'antes': 497, 'negros': 498, 'entanto': 499, 'tomou': 500, 'quantos': 501, 'do': 502, 'o': 503, 'rosto': 504, 'recebido': 505, 'assentava': 506, 'desafio': 507, 'parede': 508, 'dor': 509, 'operações': 510, 'sido': 511, 'interestelar': 512, 'sobrepujou': 513, 'tomaria': 514, 'permaneçam': 515, 'palavras': 516, 'como': 517, 'acelerada': 518, 'acs': 519, 'estava': 520, 'deixou': 521, 'suficientes': 522, 'fração': 523, 'pois': 524, 'tudo.': 525, 'retirou': 526, 'carga': 527, 'lugar': 528, 'fulgurante': 529, 'passo': 530, 'lá': 531, 'agir': 532, 'fornecer': 533, 'jerodettes': 534, 'questão': 535, 'trate': 536, 'suponho': 537, 'ajudar.': 538, 'agradecer': 539, 'graça': 540, 'operavam': 541, 'acerca': 542, 'habitava': 543, 'negro': 544, 'feliz': 545, 'acaba': 546, 'apagaram': 547, 'torna': 548, 'vazio': 549, 'quietas': 550, 'acostumei': 551, 'novos': 552, 'sabia': 553, 'seguinte': 554, 'perda': 555, 'absoluto': 556, 'remoto': 557, 'forma': 558, 'plano': 559, 'erguiam-se': 560, 'livremente': 561, 'definições': 562, 'desperdiçada': 563, 'começaram': 564, 'cálculos': 565, 'acho': 566, 'estações': 567, 'dos': 568, 'queria': 569, 'feito.': 570, 'homem': 571, 'curioso.': 572, 'ocasionalmente': 573, 'enquanto': 574, 'estação': 575, 'abrigando': 576, 'passagem': 577, 'realmente': 578, 'chuva': 579, 'sou': 580, 'podemos': 581, 'trêmulo': 582, 'gole': 583, 'infinito': 584, 'diabos': 585, 'receptor': 586, 'descansaram': 587, 'lembra': 588, 'reflexiva': 589, 'emendando': 590, 'saber.': 591, 'apreciavam': 592, 'espesso': 593, 'processando': 594, 'companhia': 595, 'mais': 596, 'impressas': 597, 'eons': 598, 'visor': 599, 'pudesse': 600, 'haviam': 601, 'molhada': 602, 'homens': 603, 'precisávamos': 604, 'ligar': 605, 'tudo': 606, 'morrendo': 607, 'porque': 608, 'contrariar': 609, 'capturada': 610, 'parou': 611, 'desaparecendo': 612, 'jerrodine': 613, 'zee': 614, 'parcos': 615, 'desde': 616, 'posta': 617, 'trás': 618, 'esfumaçados': 619, 'cinco': 620, 'incidente': 621, 'chamados': 622, 'planetária': 623, 'punhado': 624, 'informações': 625, 'estrela': 626, 'profundas': 627, 'técnicos': 628, 'sub-galácticas': 629, 'acabar': 630, 'segundo': 631, 'tampouco': 632, 'relaxar': 633, '100': 634, 'vai': 635, 'velhas': 636, 'preocupação': 637, 'combustível': 638, 'entre': 639, 'fundamentação': 640, 'correlacionados': 641, 'mal': 642, 'confidência': 643, 'pra': 644, 'estou': 645, 'encher': 646, 'subterrâneas': 647, 'está': 648, 'eu': 649, 'árvores': 650, 'poderia': 651, 'transbordando': 652, 'confortáveis': 653, 'com': 654, 'ponto': 655, 'luzes': 656, 'precisava': 657, 'feito': 658, 'lados': 659, 'particular': 660, 'imprima': 661, 'filamentos': 662, 'manhã': 663, 'existe': 664, 'ora': 665, 'pouco': 666, 'mantendo': 667, 'arcaico': 668, 'súbita': 669, 'carvão': 670, 'viável': 671, 'necessária': 672, 'significativa': 673, 'adiar': 674, 'preocupar.': 675, 'sobre': 676, 'quatro': 677, 'gritando': 678, 'levá-la': 679, 'solitário': 680, 'seres': 681, 'imensurável': 682, 'galáxias': 683, 'movimentou': 684, 'cósmico.': 685, 'corpos': 686, 'trabalhando': 687, 'apagariam': 688, 'planejava': 689, 'calor': 690, 'mostrou': 691, 'prime': 692, 'transformassem': 693, 'faltem': 694, 'origem': 695, 'pergunto': 696, 'resultantes': 697, 'difícil': 698, 'abriram': 699, 'morrer': 700, 'guiada': 701, 'assegurar': 702, 'teto': 703, 'tempo': 704, 'impedir': 705, 'pensar…': 706, 'você.': 707, 'presentes': 708, 'corre': 709, 'preguiçosos': 710, 'interrompeu': 711, 'comunicador-ac': 712, 'haver': 713, 'evitada': 714, 'revertida': 715, 'as': 716, 'fecharam': 717, 'viu': 718, 'voltar': 719, 'dia': 720, 'tenham': 721, 'multidão': 722, 'próprias': 723, 'melodiosa': 724, 'dentro': 725, 'acumulou': 726, 'última': 727, 'ninguém': 728, 'lupov': 729, 'energia': 730, 'também': 731, 'morte': 732, 'estaremos': 733, 'morta.': 734, 'aguardar.': 735, 'viabilizado': 736, 'juntar': 737, 'multivac': 738, 'todos': 739, 'semelhante': 740, 'até': 741, 'bilhão': 742, 'décadas': 743, 'reservas': 744, 'conseguir': 745, '%': 746, 'boa': 747, 'jazia': 748, 'juventude': 749, 'conseguiram': 750, 'longas': 751, 'restará': 752, '´para': 753, 'paralisou': 754, 'acabado': 755, 'pré-estabelecido': 756, 'maneiras': 757, ',': 758, 'esvaindo-se': 759, 'metade': 760, 'galáctico': 761, 'essa': 762, 'pensamento': 763, 'uniu-se': 764, 'resto': 765, 'autômatos': 766, 'globo': 767, 'vizinha': 768, 'fim.': 769, 'compartilhar': 770, 'conselho': 771, 'máximo': 772, 'tomar-lhe': 773, 'esse': 774, 'moleculares': 775, 'encolhessem': 776, 'serviu': 777, 'escala': 778, 'ondas': 779, 'chegar': 780, 'naves': 781, 'teria': 782, 'duas': 783, 'silêncio': 784, 'descansando': 785, 'individual': 786, 'sozinha': 787, 'viver': 788, 'se': 789, 'algum': 790, 'sem': 791, ':': 792, 'guiar': 793, 'usinas': 794, 'bolso': 795, 'invisíveis': 796, 'identidade': 797, 'explorava': 798, 'perplexo': 799, 'refinamento': 800, 'chacoalhá-los': 801, 'deixe': 802, 'tenha': 803, 'propôs': 804, 'observava': 805, 'plutão': 806, 'outro': 807, 'vida.': 808, 'fornecidas': 809, 'enviar': 810, 'dissipava': 811, 'abrigava': 812, ';': 813, 'olhando': 814, 'cuidadosamente': 815, 'delas': 816, 'escuridão': 817, 'final': 818, 'chamam': 819, '“': 820, 'mergulhou': 821, 'vagarosamente': 822, 'bertram': 823, 'percepção': 824, 'espera': 825, 'ligava-se': 826, 'rede': 827, 'crescido': 828, 'copo': 829, 'fica': 830, 'os': 831, 'lógica': 832, 'verdade': 833, 'linhas': 834, 'entrou': 835, 'apenas': 836, 'raça': 837, 'acordo': 838, 'espaços': 839, 'planetas': 840, 'ajudou': 841, 'pensava': 842, 'sutil': 843, 'lotada': 844, 'técnico': 845, 'presente': 846, 'empreendimento': 847, 'máquinas': 848, 'tínhamos': 849, 'aquietá-las.': 850, 'sussurrou': 851, 'levemente': 852, 'geométrica': 853, 'nave': 854, 'todos.': 855, 'sorriso': 856, 'brincadeira': 857, 'projetar': 858, 'gasta': 859, 'permitiram': 860, 'saltos': 861, 'produz': 862, 'quem': 863, 'vezes': 864, 'querida': 865, 'finais': 866, 'cabelo': 867, 'pensando.': 868, 'posso': 869, 'limitados': 870, 'repente': 871, 'podia': 872, 'contando': 873, 'deve': 874, 'durante': 875, 'população': 876, 'benção': 877, 'consome': 878, 'vinham': 879, 'bebida': 880, 'nascerem': 881, 'construía': 882, 'rarefeita': 883, 'utilizada': 884, 'após': 885, 'luminosa': 886, 'eram': 887, 'exasperada': 888, 'incontáveis': 889, 'ser': 890, 'entendi': 891, 'cima': 892, 'desengonçados': 893, 'fato': 894, 'mapa': 895, 'universal': 896, 'úmidos': 897, 'ac': 898, 'fazê-lo': 899, 'permitido': 900, 'destes': 901, 'agitava': 902, 'podem': 903, 'destino': 904, 'expandido': 905, 'direção': 906, 'encheremos': 907, 'transistores': 908, 'aumentar.': 909, 'novo': 910, 'geral': 911, 'vagavam': 912, 'levar': 913, 'árvore': 914, 'isso.': 915, 'creio': 916, 'cruzar': 917, 'cuidar': 918, 'estamos': 919, 'dizendo': 920, 'chamou': 921, 'material': 922, 'sub': 923, 'cuidados': 924, 'calmamente': 925, 'sabe': 926, 'pedaço': 927, 'preocupa': 928, 'campo': 929, 'coisas': 930, 'compreensíveis': 931, 'próprio': 932, 'primeira': 933, 'chamamos': 934, 'fundiu-se': 935, 'galáctico.': 936, 'dizia': 937, 'devemos': 938, 'àquela': 939, 'satisfeito': 940, 'junto': 941, 'vinte': 942, 'consigo': 943, 'alisando': 944, 'predescessores': 945, 'conquistas.': 946, 'colocou': 947, 'irá': 948, 'estar': 949, 'insuficientes.': 950, 'feita': 951, 'glória': 952, 'tomado': 953, 'este': 954, 'acredita': 955, 'penetrado': 956, 'fizesse': 957, 'drink': 958, 'menos': 959, 'maior': 960, 'estes': 961, 'infinitamente': 962, 'apontou': 963, 'daquele': 964, 'ouviu': 965, 'fizera': 966, 'havia': 967, 'nível': 968, 'começando': 969, 'ótima': 970, 'será': 971, 'símbolos': 972, 'respostas': 973, 'não': 974, 'simplesmente': 975, 'tantos': 976, 'desapontado': 977, 'sustentar': 978, 'eficiência': 979, 'interesse': 980, 'quiséssemos': 981, 'tornou': 982, 'gigantes': 983, 'movida': 984, 'perdendo': 985, 'marte': 986, 'inteligência': 987, 'acompanhara': 988, 'prontificou': 989, 'década': 990, 'todo': 991, 'desertas': 992, 'vênus': 993, '”': 994, 'milha': 995, 'jerrodd': 996, 'planetário': 997, 'resultado': 998, 'mim': 999, 'trazido': 1000, 'pés': 1001, 'i': 1002, 'admito': 1003, 'singular': 1004, 'questões': 1005, 'dia.': 1006, 'certeza': 1007, 'falta': 1008, 'aposta': 1009, 'espaçonave': 1010, 'dois': 1011, 'exemplo': 1012, 'homem.': 1013, 'nasceu': 1014, 'umas': 1015, 'imortais': 1016, 'passou': 1017, 'às': 1018, 'balançou': 1019, 'outra': 1020, 'total': 1021, 'durar': 1022, 'cabeça': 1023, 'realizar': 1024, 'derradeira': 1025, 'chegado': 1026, 'alexander': 1027, '`': 1028, 'praticamente': 1029, 'surpreendido': 1030, 'luz': 1031, 'farei': 1032, 'fusão': 1033, 'qual': 1034, 'vê-la': 1035, 'frente': 1036, 'acontecimento': 1037, 'mas': 1038, 'ao': 1039, 'mesa': 1040, 'humana': 1041, 'sólido': 1042, 'corresponderia': 1043, 'físico': 1044, 'concebíveis.': 1045, 'problemas': 1046, 'tomada': 1047, 'ficaremos': 1048, 'fiéis': 1049, 'mundos': 1050, 'disse': 1051, 'inteiro': 1052, 'negativo': 1053, 'ii': 1054, 'for': 1055, 'possíveis': 1056, 'têm': 1057, 'ou': 1058, 'seus': 1059, 'da': 1060, 'deste': 1061, 'expansão': 1062, 'dessas': 1063, 'uma': 1064, 'mente': 1065, 'insolúvel': 1066, 'escapar': 1067, 'tempos': 1068, 'si': 1069, 'dele': 1070, 'eternamente.': 1071, 'real': 1072, 'lado': 1073, 'ia': 1074, 'proporção': 1075, 'brilhantes': 1076, 'planeta': 1077, 'humanamente': 1078, 'tem': 1079, 'companheiro': 1080, 'sua': 1081, 'estará': 1082, 'imaginar': 1083, 'dar': 1084, 'dedicado': 1085, 'vá': 1086, 'férias': 1087, 'eternamente': 1088, 'possuía': 1089, 'pense': 1090, 'respiração': 1091, 'gigante': 1092, 'segundos': 1093, 'tantas': 1094, 'existem': 1095, 'assistentes': 1096, 'especial': 1097, 'consciência': 1098, 'poderoso': 1099, 'imortalidade': 1100, 'séculos': 1101, 'claro': 1102, 'filha': 1103, 'abriga-se': 1104, 'terra.': 1105, 'ainda': 1106, 'alguma': 1107, 'apresentar': 1108, 'sentiu': 1109, 'cujos': 1110, 'pode': 1111, 'milhar': 1112, 'centralizada': 1113, 'gente': 1114, 'movimentar': 1115, 'difusos': 1116, 'tamanho': 1117, 'faziam': 1118, 'única': 1119, 'trajetórias': 1120, 'olha': 1121, 'gota': 1122, 'descaso': 1123, 'finalmente': 1124, 'enxergar': 1125, 'ritmo': 1126, 'então': 1127, 'neste': 1128, 'abastecer-se': 1129, 'momentânea': 1130, 'duvido': 1131, 'existiam': 1132, 'centenas': 1133, 'lembravam': 1134, 'humanidade': 1135, 'porção': 1136, 'essência': 1137, 'solucionadas': 1138, 'dedo': 1139, 'apesar': 1140, 'conectado': 1141, 'imortal': 1142, 'nosso': 1143, 'tornou-se': 1144, 'robozinho': 1145, 'longa': 1146, 'quase': 1147, 'pálidos': 1148, 'dólares': 1149, 'hiperespaço': 1150, 'espaço': 1151, 'ambos': 1152, 'desgaste': 1153, 'velho': 1154, 'tão': 1155, 'bom': 1156, 'pequena': 1157, 'vidas': 1158, ')': 1159, 'garrafa': 1160, 'diferente.': 1161, 'nenhum': 1162, 'sol': 1163, 'aprender': 1164, 'bem': 1165, 'cada': 1166, 'período': 1167, 'sério': 1168, 'ruidosa': 1169, 'maciça': 1170, 'estiver': 1171, 'acabadas': 1172, 'preocuparmos': 1173, 'na': 1174, 'circunstâncias': 1175, 'paradigma': 1176, 'morrendo.': 1177, 'pilhas.': 1178, 'distante': 1179, 'forças': 1180, 'galáxia': 1181, 'boca': 1182, 'quer': 1183, 'natural': 1184, 'olhar': 1185, 'juntas': 1186, 'assustados': 1187, 'matéria': 1188, 'incorruptíveis': 1189, 'ocupando': 1190, 'irão': 1191, 'televisor': 1192, 'convertida': 1193, 'completamente': 1194, 'enfrentar': 1195, 'resta': 1196, 'negra': 1197, 'houve': 1198, 'integrado': 1199, 'todas': 1200, 'várias': 1201, 'cinzas.': 1202, 'apertaram': 1203, 'lançou': 1204, 'ficassem': 1205, 'máximo.': 1206, 'mãos': 1207, 'adell': 1208, 'distância': 1209, 'compartimentos': 1210, 'raios': 1211, 'líquido': 1212, 'som': 1213, 'wun': 1214, 'automatic': 1215, 'submésons': 1216, 'poderá': 1217, 'lua': 1218, 'preciso': 1219, 'iguais.': 1220, 'estavam': 1221, 'inquiriu': 1222, 'abarrotar': 1223, 'esplendoroso': 1224, 'preocupem': 1225, 'sei': 1226, 'meus': 1227, 'sucessor': 1228, 'pelos': 1229, 'dez': 1230, 'cubos': 1231, 'além': 1232, 'conscientes': 1233, 'incontável': 1234, 'precisamos': 1235, 'brilhar': 1236, 'partiremos': 1237, 'raros': 1238, 'demorou': 1239, 'sentiu-se': 1240, '.': 1241, 'sistema': 1242, 'quero': 1243, 'venha': 1244, 'enterrado': 1245, 'hora': 1246, 'envelhecimento': 1247, 'aposto': 1248, 'gritar': 1249, 'virtualmente': 1250, 'pela': 1251, 'bastante': 1252, 'x-23': 1253, 'apaguem.': 1254, 'questão.': 1255, 'controle': 1256, 'fundir-se': 1257, '?': 1258, 'encontravam': 1259, 'poeira': 1260, 'quando': 1261, 'nervosamente': 1262, 'humanos': 1263, 'papel': 1264, 'extremidade': 1265, 'pessimista': 1266, 'demais': 1267, 'bela': 1268, 'logo': 1269, 'tornavam-se': 1270, 'espécie': 1271, 'ferro': 1272, 'depois': 1273, 'dizer': 1274, 'humano': 1275, 'chance': 1276, 'permanece': 1277, 'voz': 1278, 'que': 1279, 'traduziam': 1280, 'alegremente': 1281, 'brotou': 1282, 'elevado': 1283, 'protuberância': 1284, 'descobriu': 1285, 'resposta': 1286, 'tontura': 1287, 'extremamente': 1288, 'mármore': 1289, 'aconchegante': 1290, 'colegas': 1291, 'estrelas': 1292, 'reverter': 1293, 'continuar': 1294, 'nicron': 1295, 'tonto': 1296, 'conseguiam': 1297, 'melhor': 1298, 'pontos': 1299, 'momento': 1300, 'diâmetro': 1301, 'faça-se': 1302, 'súbito': 1303, 'processo': 1304, 'hidrogênio': 1305, 'ficariam': 1306, 'rápido': 1307, 'bagagem': 1308, 'quaisquer': 1309, 'serão': 1310, 'etéreos': 1311, 'tempo.': 1312, 'carcaça': 1313, 'você': 1314, 'acontecia': 1315, 'interessada': 1316, 'universo': 1317, 'expandiu-se': 1318, 'tridimensional': 1319, 'embriagado': 1320, 'pergunta': 1321, 'baixo': 1322, 'embaixo': 1323, 'devaneios': 1324, 'tido': 1325, 'fios': 1326, 'finas': 1327, 'gostaria': 1328, 'interestelar.': 1329, 'derreter': 1330, 'problema': 1331, 'fosse': 1332, 'é': 1333, 'capaz': 1334, 'gigantesco': 1335, 'pensou': 1336, 'alguém': 1337, 'sarcástico': 1338, 'procurar': 1339, 'mesmo': 1340, 'consistiam-se': 1341, 'de': 1342, 'dias': 1343, 'lhes': 1344, 'tipo': 1345, 'volta': 1346, 'necessárias': 1347, 'vamos': 1348, 'quinze': 1349, 'dedos': 1350, 'vj-23x': 1351, 'fundo': 1352, 'brilhante': 1353, '2061': 1354, 'brancas': 1355, 'abrigar': 1356, 'surpreso': 1357, 'significavam': 1358, 'costumava': 1359, '21': 1360, 'um': 1361, 'ano.': 1362, 'integral': 1363, 'anos.': 1364, 'indistintamente': 1365, 'monstruosas': 1366, 'cuja': 1367, 'aconteceu': 1368, 'original': 1369, 'disco': 1370, 'bilhões': 1371, 'solar': 1372, 'emaranhados': 1373, 'pilhas': 1374, 'aleatoriamente': 1375, 'murmurou': 1376, 'tinha': 1377, 'passava': 1378, 'componentes': 1379, 'existir': 1380, 'por': 1381, 'alcançou': 1382, 'fez-se': 1383, 'sentença': 1384, 'curiosidade': 1385, 'públicas': 1386, 'cessaram': 1387, 'jerrodete': 1388, 'desconhecido': 1389, 'dee': 1390, 'meio': 1391, 'muito': 1392, 'limite': 1393, 'sempre': 1394, 'procura': 1395, 'cheia': 1396}\n"
     ]
    }
   ],
   "source": [
    "# Dicionário para mapear as palavras aos índices\n",
    "palavra_indice = {palavra: i for i, palavra in enumerate(vocab)}\n",
    "print(palavra_indice)"
   ]
  },
  {
   "cell_type": "code",
   "execution_count": 0,
   "metadata": {
    "application/vnd.databricks.v1+cell": {
     "cellMetadata": {
      "byteLimit": 2048000,
      "rowLimit": 10000
     },
     "inputWidgets": {},
     "nuid": "12e74658-adc1-41cf-aa33-2820085b4504",
     "showTitle": false,
     "title": ""
    }
   },
   "outputs": [
    {
     "output_type": "stream",
     "name": "stdout",
     "output_type": "stream",
     "text": [
      "{0: 'vez', 1: 'nos', 2: 'respondida', 3: 'nem', 4: 'largo', 5: 'turbilhões', 6: 'para', 7: 'parte', 8: 'ela', 9: 'esbanjadoras', 10: 'capazes', 11: 'altos', 12: 'antigo', 13: 'lábios', 14: 'entender', 15: 'letras', 16: 'escolhido', 17: 'peso', 18: 'deu', 19: 'proporções.', 20: 'único', 21: 'levou', 22: 'dobra', 23: 'estão', 24: 'hà', 25: 'feixes', 26: 'maneira', 27: 'aproveitamos', 28: 'história', 29: 'tinham', 30: 'gelo', 31: 'lar.', 32: 'benéfico', 33: 'fino', 34: 'momentos', 35: 'através', 36: 'só', 37: 'meu', 38: 'precisavam', 39: 'à', 40: 'precisar', 41: 'ajustava-se', 42: 'circuitos', 43: 'possa', 44: 'polegadas', 45: 'leu', 46: 'milhões', 47: 'nada', 48: 'inserida', 49: 'sozinho', 50: 'gasto', 51: 'anjinhos', 52: 'agora', 53: 'gentil', 54: 'sensação', 55: 'trocar', 56: 'explosão', 57: 'destruídas', 58: 'fazer', 59: 'orbitando', 60: 'terminar', 61: 'estelar', 62: 'eternidade', 63: 'fumaça', 64: 'termos', 65: 'lembrar', 66: 'abaixo', 67: 'atenção', 68: 'nossos', 69: 'pensamentos', 70: 'direito', 71: 'adicionais.', 72: 'computador', 73: 'ridículo', 74: 'prontamente', 75: 'papai', 76: 'pálpebras', 77: 'cósmica', 78: 'princípio', 79: 'computação', 80: 'tubo', 81: 'incomodado', 82: 'aumentar', 83: 'devem', 84: 'contaremos', 85: 'incrível', 86: 'caos', 87: 'grande', 88: 'hesitei', 89: 'populações', 90: 'vida', 91: 'utilização', 92: 'descansar', 93: 'significativa.', 94: 'mental', 95: 'unidades', 96: 'robô', 97: 'ficando', 98: 'a', 99: 'segredo', 100: 'aparências', 101: 'verdadeira', 102: 'fissões', 103: 'apagam', 104: 'acender', 105: 'transformar', 106: 'ocupada', 107: '!', 108: 'visto', 109: 'onde', 110: 'esta', 111: 'pelo', 112: 'vaga', 113: 'iremos', 114: 'poucos', 115: 'enormes', 116: 'progressão', 117: 'hiperespacial', 118: 'sentido', 119: 'controlada', 120: 'volume', 121: 'risadas', 122: 'necessidades', 123: 'expandiu', 124: 'corrigia-se', 125: 'daquela', 126: 'diretamente', 127: 'continuava', 128: 'reconstruir', 129: 'fixou', 130: 'solucionou', 131: 'anã', 132: 'utensílios', 133: 'fim', 134: 'pai', 135: 'ter', 136: 'tom', 137: 'migração', 138: 'tenho', 139: 'podiam', 140: 'urânio', 141: 'sequer', 142: 'pára', 143: 'colocar', 144: 'pontilhavam', 145: 'conheciam', 146: 'muitas', 147: 'complexo', 148: 'eles', 149: 'primitivo', 150: 'domou', 151: 'berço', 152: 'conhecimento', 153: 'aos', 154: 'tristeza', 155: 'certamente', 156: 'cheguei', 157: 'adicionando', 158: 'perguntas', 159: 'funções', 160: 'mundo', 161: 'pequeno', 162: 'terão', 163: 'mil', 164: 'aguardar', 165: 'observavam', 166: 'abarcou', 167: 'ir', 168: 'agite-os', 169: 'cem', 170: 'conhecido', 171: 'presença', 172: '*', 173: 'ocupado', 174: 'concebíveis', 175: 'planetários', 176: 'semelhanças', 177: 'terá', 178: 'sóbrio', 179: 'muitos', 180: 'pareciam', 181: 'ver', 182: 'outras', 183: 'devíamos', 184: 'disponível', 185: 'dispensou', 186: 'falando', 187: 'jeito', 188: 'vou.', 189: 'diminuir', 190: 'ajustavam', 191: 'há', 192: 'entropia', 193: 'destruí-lo', 194: 'ano', 195: 'ele', 196: 'nadando', 197: 'construir', 198: 'afigurava', 199: 'antigos', 200: 'bisneto', 201: 'acabaram', 202: 'definição', 203: 'encontrar-se', 204: 'são', 205: 'pessoas', 206: 'indivíduos', 207: 'crescente', 208: 'teve', 209: 'tanto', 210: 'parece-me', 211: 'nas', 212: 'morto', 213: 'conhecimentos', 214: 'perguntar', 215: 'duzentos', 216: 'abandonar', 217: 'dados', 218: 'ombros', 219: 'em', 220: 'sentiríamos', 221: 'fizeram', 222: 'erguido', 223: 'deixava', 224: 'cujo', 225: 'bêbado', 226: 'ficou', 227: 'colapso', 228: 'quadradas', 229: 'voltando', 230: 'guardava', 231: 'modo', 232: 'reconstituir', 233: 'álcool', 234: 'distantes', 235: 'pensaria', 236: 'colete', 237: 'tentar', 238: 'subutilizado', 239: 'povoado.', 240: 'sabemos', 241: 'suspensão', 242: 'nós', 243: 'conta', 244: 'asperamente', 245: 'chorar', 246: 'algo', 247: 'saiba.', 248: 'possível', 249: 'oh', 250: 'fazia-se', 251: 'personagem', 252: 'simples', 253: 'fria', 254: 'viagem', 255: 'precisa', 256: 'cama', 257: 'soltou-se', 258: 'e', 259: 'família', 260: 'microvac', 261: 'poderíamos', 262: '14', 263: 'nenhuma', 264: 'duram', 265: 'pigarreou', 266: 'famílias', 267: 'foram', 268: 'oceano', 269: 'qualquer', 270: 'certo', 271: 'dignidade', 272: 'intenção', 273: 'multivac.', 274: 'pergunte', 275: 'carregar', 276: 'incorruptível', 277: 'mais.', 278: 'viram', 279: 'fraco', 280: 'seu', 281: 'dê', 282: 'perguntou', 283: '(', 284: 'incrivelmente', 285: 'pequenas', 286: 'algumas', 287: 'deus', 288: 'coleta', 289: 'pensar', 290: 'branca.', 291: 'consistia', 292: 'crianças', 293: 'época', 294: 'vou', 295: 'lameth', 296: 'finos', 297: 'zero', 298: 'merecer', 299: 'abriu', 300: 'partir', 301: 'isso', 302: 'noção', 303: 'novo.', 304: 'procurá-los', 305: 'passos', 306: 'agora.', 307: 'viviam', 308: 'jerrodette', 309: 'sala', 310: 'suspirou', 311: 'chamava', 312: 'outra.', 313: 'pararam', 314: 'toda', 315: 'retornaram', 316: 'perdeu-se', 317: 'bert.', 318: 'cruzados', 319: 'opacas', 320: 'duas.', 321: 'era', 322: 'morreram', 323: 'olhos', 324: 'foi', 325: 'sim', 326: 'velocidade', 327: 'metal', 328: 'função', 329: 'iriam.', 330: 'agitada', 331: 'mq-17j', 332: 'novas', 333: 'organizou', 334: 'quantidade', 335: 'natureza', 336: 'teoria', 337: 'pouco.', 338: 'terra', 339: 'apagarem', 340: 'alimentava', 341: 'aquela', 342: 'enredar', 343: 'girando', 344: 'cúbicas', 345: 'eles.', 346: 'estas', 347: 'restos', 348: 'maio', 349: 'desajeitadas', 350: 'recuperá-la', 351: 'alavanca', 352: 'geração', 353: 'parar', 354: 'alimentavam', 355: 'paisagem', 356: 'estiverem', 357: 'comprimento', 358: 'orientação', 359: 'fez', 360: 'possamos', 361: 'superficialmente', 362: 'ficaram', 363: 'sob', 364: 'aconteça', 365: 'relatório', 366: 'peça', 367: 'correr', 368: 'precisaremos', 369: 'idade', 370: 'quantas', 371: 'me', 372: 'exploração', 373: 'poupada', 374: 'primeiros', 375: 'conectou', 376: 'eventualmente', 377: 'pergunta.', 378: 'incomodá-lo', 379: 'mãe', 380: 'nunca.', 381: 'estarão', 382: 'experimentado', 383: 'disso', 384: 'faziam-se', 385: 'pausa', 386: 'nossa', 387: 'conseguiria', 388: 'observando', 389: 'acabado.', 390: 'assim', 391: 'ah', 392: 'milhão', 393: 'ouvimos', 394: 'te', 395: 'implementadas', 396: 'super', 397: 'colidirse', 398: 'passado', 399: 'breve', 400: 'lhe', 401: 'seca', 402: 'metálica', 403: 'lentamente', 404: 'cercava-os', 405: 'das', 406: 'importava', 407: 'cósmico', 408: 'adequada', 409: 'receptores', 410: 'consumava-se', 411: 'permanecia', 412: 'força', 413: 'transporte', 414: 'saber', 415: 'segurar', 416: 'teremos', 417: 'palavra', 418: 'no', 419: 'porções', 420: 'coletar', 421: 'dissipado', 422: 'anos…', 423: 'título', 424: 'gás', 425: 'pálidas', 426: 'dava', 427: 'computer', 428: 'milhas', 429: 'imerso', 430: 'costas', 431: 'olhou', 432: 'grupo', 433: 'máquina', 434: 'recursos', 435: 'energética', 436: 'três', 437: 'leve', 438: 'inglês', 439: 'necessário', 440: 'deixar', 441: 'intervalo', 442: 'início', 443: 'pioneira', 444: 'apagar', 445: 'anãs', 446: 'demanda', 447: 'afinal', 448: 'produzia', 449: 'veio', 450: 'anos', 451: 'sete', 452: 'perfeitos', 453: 'respondeu', 454: 'crianças.', 455: 'talvez', 456: 'permanecem', 457: 'elas', 458: 'programa', 459: 'responder', 460: 'obtidos', 461: 'pessoal', 462: 'viagens', 463: 'suas', 464: 'nunca', 465: 'chegamos', 466: 'seguros', 467: 'nisso', 468: 'reduzido', 469: 'assustadas', 470: 'trilhão', 471: 'corpo', 472: 'infinidade', 473: 'construídas', 474: 'haverá', 475: 'permitindo', 476: 'atividade', 477: 'quanto', 478: 'estalos', 479: 'suficiente', 480: 'silenciassem', 481: 'trilhões', 482: 'idéia', 483: 'únicos', 484: 'servia', 485: 'pensando', 486: '–', 487: 'computadores', 488: 'nova', 489: 'diante', 490: 'câmaras', 491: 'insuficientes', 492: 'válvulas', 493: 'navegou', 494: 'já', 495: 'mentes', 496: 'igualmente', 497: 'antes', 498: 'negros', 499: 'entanto', 500: 'tomou', 501: 'quantos', 502: 'do', 503: 'o', 504: 'rosto', 505: 'recebido', 506: 'assentava', 507: 'desafio', 508: 'parede', 509: 'dor', 510: 'operações', 511: 'sido', 512: 'interestelar', 513: 'sobrepujou', 514: 'tomaria', 515: 'permaneçam', 516: 'palavras', 517: 'como', 518: 'acelerada', 519: 'acs', 520: 'estava', 521: 'deixou', 522: 'suficientes', 523: 'fração', 524: 'pois', 525: 'tudo.', 526: 'retirou', 527: 'carga', 528: 'lugar', 529: 'fulgurante', 530: 'passo', 531: 'lá', 532: 'agir', 533: 'fornecer', 534: 'jerodettes', 535: 'questão', 536: 'trate', 537: 'suponho', 538: 'ajudar.', 539: 'agradecer', 540: 'graça', 541: 'operavam', 542: 'acerca', 543: 'habitava', 544: 'negro', 545: 'feliz', 546: 'acaba', 547: 'apagaram', 548: 'torna', 549: 'vazio', 550: 'quietas', 551: 'acostumei', 552: 'novos', 553: 'sabia', 554: 'seguinte', 555: 'perda', 556: 'absoluto', 557: 'remoto', 558: 'forma', 559: 'plano', 560: 'erguiam-se', 561: 'livremente', 562: 'definições', 563: 'desperdiçada', 564: 'começaram', 565: 'cálculos', 566: 'acho', 567: 'estações', 568: 'dos', 569: 'queria', 570: 'feito.', 571: 'homem', 572: 'curioso.', 573: 'ocasionalmente', 574: 'enquanto', 575: 'estação', 576: 'abrigando', 577: 'passagem', 578: 'realmente', 579: 'chuva', 580: 'sou', 581: 'podemos', 582: 'trêmulo', 583: 'gole', 584: 'infinito', 585: 'diabos', 586: 'receptor', 587: 'descansaram', 588: 'lembra', 589: 'reflexiva', 590: 'emendando', 591: 'saber.', 592: 'apreciavam', 593: 'espesso', 594: 'processando', 595: 'companhia', 596: 'mais', 597: 'impressas', 598: 'eons', 599: 'visor', 600: 'pudesse', 601: 'haviam', 602: 'molhada', 603: 'homens', 604: 'precisávamos', 605: 'ligar', 606: 'tudo', 607: 'morrendo', 608: 'porque', 609: 'contrariar', 610: 'capturada', 611: 'parou', 612: 'desaparecendo', 613: 'jerrodine', 614: 'zee', 615: 'parcos', 616: 'desde', 617: 'posta', 618: 'trás', 619: 'esfumaçados', 620: 'cinco', 621: 'incidente', 622: 'chamados', 623: 'planetária', 624: 'punhado', 625: 'informações', 626: 'estrela', 627: 'profundas', 628: 'técnicos', 629: 'sub-galácticas', 630: 'acabar', 631: 'segundo', 632: 'tampouco', 633: 'relaxar', 634: '100', 635: 'vai', 636: 'velhas', 637: 'preocupação', 638: 'combustível', 639: 'entre', 640: 'fundamentação', 641: 'correlacionados', 642: 'mal', 643: 'confidência', 644: 'pra', 645: 'estou', 646: 'encher', 647: 'subterrâneas', 648: 'está', 649: 'eu', 650: 'árvores', 651: 'poderia', 652: 'transbordando', 653: 'confortáveis', 654: 'com', 655: 'ponto', 656: 'luzes', 657: 'precisava', 658: 'feito', 659: 'lados', 660: 'particular', 661: 'imprima', 662: 'filamentos', 663: 'manhã', 664: 'existe', 665: 'ora', 666: 'pouco', 667: 'mantendo', 668: 'arcaico', 669: 'súbita', 670: 'carvão', 671: 'viável', 672: 'necessária', 673: 'significativa', 674: 'adiar', 675: 'preocupar.', 676: 'sobre', 677: 'quatro', 678: 'gritando', 679: 'levá-la', 680: 'solitário', 681: 'seres', 682: 'imensurável', 683: 'galáxias', 684: 'movimentou', 685: 'cósmico.', 686: 'corpos', 687: 'trabalhando', 688: 'apagariam', 689: 'planejava', 690: 'calor', 691: 'mostrou', 692: 'prime', 693: 'transformassem', 694: 'faltem', 695: 'origem', 696: 'pergunto', 697: 'resultantes', 698: 'difícil', 699: 'abriram', 700: 'morrer', 701: 'guiada', 702: 'assegurar', 703: 'teto', 704: 'tempo', 705: 'impedir', 706: 'pensar…', 707: 'você.', 708: 'presentes', 709: 'corre', 710: 'preguiçosos', 711: 'interrompeu', 712: 'comunicador-ac', 713: 'haver', 714: 'evitada', 715: 'revertida', 716: 'as', 717: 'fecharam', 718: 'viu', 719: 'voltar', 720: 'dia', 721: 'tenham', 722: 'multidão', 723: 'próprias', 724: 'melodiosa', 725: 'dentro', 726: 'acumulou', 727: 'última', 728: 'ninguém', 729: 'lupov', 730: 'energia', 731: 'também', 732: 'morte', 733: 'estaremos', 734: 'morta.', 735: 'aguardar.', 736: 'viabilizado', 737: 'juntar', 738: 'multivac', 739: 'todos', 740: 'semelhante', 741: 'até', 742: 'bilhão', 743: 'décadas', 744: 'reservas', 745: 'conseguir', 746: '%', 747: 'boa', 748: 'jazia', 749: 'juventude', 750: 'conseguiram', 751: 'longas', 752: 'restará', 753: '´para', 754: 'paralisou', 755: 'acabado', 756: 'pré-estabelecido', 757: 'maneiras', 758: ',', 759: 'esvaindo-se', 760: 'metade', 761: 'galáctico', 762: 'essa', 763: 'pensamento', 764: 'uniu-se', 765: 'resto', 766: 'autômatos', 767: 'globo', 768: 'vizinha', 769: 'fim.', 770: 'compartilhar', 771: 'conselho', 772: 'máximo', 773: 'tomar-lhe', 774: 'esse', 775: 'moleculares', 776: 'encolhessem', 777: 'serviu', 778: 'escala', 779: 'ondas', 780: 'chegar', 781: 'naves', 782: 'teria', 783: 'duas', 784: 'silêncio', 785: 'descansando', 786: 'individual', 787: 'sozinha', 788: 'viver', 789: 'se', 790: 'algum', 791: 'sem', 792: ':', 793: 'guiar', 794: 'usinas', 795: 'bolso', 796: 'invisíveis', 797: 'identidade', 798: 'explorava', 799: 'perplexo', 800: 'refinamento', 801: 'chacoalhá-los', 802: 'deixe', 803: 'tenha', 804: 'propôs', 805: 'observava', 806: 'plutão', 807: 'outro', 808: 'vida.', 809: 'fornecidas', 810: 'enviar', 811: 'dissipava', 812: 'abrigava', 813: ';', 814: 'olhando', 815: 'cuidadosamente', 816: 'delas', 817: 'escuridão', 818: 'final', 819: 'chamam', 820: '“', 821: 'mergulhou', 822: 'vagarosamente', 823: 'bertram', 824: 'percepção', 825: 'espera', 826: 'ligava-se', 827: 'rede', 828: 'crescido', 829: 'copo', 830: 'fica', 831: 'os', 832: 'lógica', 833: 'verdade', 834: 'linhas', 835: 'entrou', 836: 'apenas', 837: 'raça', 838: 'acordo', 839: 'espaços', 840: 'planetas', 841: 'ajudou', 842: 'pensava', 843: 'sutil', 844: 'lotada', 845: 'técnico', 846: 'presente', 847: 'empreendimento', 848: 'máquinas', 849: 'tínhamos', 850: 'aquietá-las.', 851: 'sussurrou', 852: 'levemente', 853: 'geométrica', 854: 'nave', 855: 'todos.', 856: 'sorriso', 857: 'brincadeira', 858: 'projetar', 859: 'gasta', 860: 'permitiram', 861: 'saltos', 862: 'produz', 863: 'quem', 864: 'vezes', 865: 'querida', 866: 'finais', 867: 'cabelo', 868: 'pensando.', 869: 'posso', 870: 'limitados', 871: 'repente', 872: 'podia', 873: 'contando', 874: 'deve', 875: 'durante', 876: 'população', 877: 'benção', 878: 'consome', 879: 'vinham', 880: 'bebida', 881: 'nascerem', 882: 'construía', 883: 'rarefeita', 884: 'utilizada', 885: 'após', 886: 'luminosa', 887: 'eram', 888: 'exasperada', 889: 'incontáveis', 890: 'ser', 891: 'entendi', 892: 'cima', 893: 'desengonçados', 894: 'fato', 895: 'mapa', 896: 'universal', 897: 'úmidos', 898: 'ac', 899: 'fazê-lo', 900: 'permitido', 901: 'destes', 902: 'agitava', 903: 'podem', 904: 'destino', 905: 'expandido', 906: 'direção', 907: 'encheremos', 908: 'transistores', 909: 'aumentar.', 910: 'novo', 911: 'geral', 912: 'vagavam', 913: 'levar', 914: 'árvore', 915: 'isso.', 916: 'creio', 917: 'cruzar', 918: 'cuidar', 919: 'estamos', 920: 'dizendo', 921: 'chamou', 922: 'material', 923: 'sub', 924: 'cuidados', 925: 'calmamente', 926: 'sabe', 927: 'pedaço', 928: 'preocupa', 929: 'campo', 930: 'coisas', 931: 'compreensíveis', 932: 'próprio', 933: 'primeira', 934: 'chamamos', 935: 'fundiu-se', 936: 'galáctico.', 937: 'dizia', 938: 'devemos', 939: 'àquela', 940: 'satisfeito', 941: 'junto', 942: 'vinte', 943: 'consigo', 944: 'alisando', 945: 'predescessores', 946: 'conquistas.', 947: 'colocou', 948: 'irá', 949: 'estar', 950: 'insuficientes.', 951: 'feita', 952: 'glória', 953: 'tomado', 954: 'este', 955: 'acredita', 956: 'penetrado', 957: 'fizesse', 958: 'drink', 959: 'menos', 960: 'maior', 961: 'estes', 962: 'infinitamente', 963: 'apontou', 964: 'daquele', 965: 'ouviu', 966: 'fizera', 967: 'havia', 968: 'nível', 969: 'começando', 970: 'ótima', 971: 'será', 972: 'símbolos', 973: 'respostas', 974: 'não', 975: 'simplesmente', 976: 'tantos', 977: 'desapontado', 978: 'sustentar', 979: 'eficiência', 980: 'interesse', 981: 'quiséssemos', 982: 'tornou', 983: 'gigantes', 984: 'movida', 985: 'perdendo', 986: 'marte', 987: 'inteligência', 988: 'acompanhara', 989: 'prontificou', 990: 'década', 991: 'todo', 992: 'desertas', 993: 'vênus', 994: '”', 995: 'milha', 996: 'jerrodd', 997: 'planetário', 998: 'resultado', 999: 'mim', 1000: 'trazido', 1001: 'pés', 1002: 'i', 1003: 'admito', 1004: 'singular', 1005: 'questões', 1006: 'dia.', 1007: 'certeza', 1008: 'falta', 1009: 'aposta', 1010: 'espaçonave', 1011: 'dois', 1012: 'exemplo', 1013: 'homem.', 1014: 'nasceu', 1015: 'umas', 1016: 'imortais', 1017: 'passou', 1018: 'às', 1019: 'balançou', 1020: 'outra', 1021: 'total', 1022: 'durar', 1023: 'cabeça', 1024: 'realizar', 1025: 'derradeira', 1026: 'chegado', 1027: 'alexander', 1028: '`', 1029: 'praticamente', 1030: 'surpreendido', 1031: 'luz', 1032: 'farei', 1033: 'fusão', 1034: 'qual', 1035: 'vê-la', 1036: 'frente', 1037: 'acontecimento', 1038: 'mas', 1039: 'ao', 1040: 'mesa', 1041: 'humana', 1042: 'sólido', 1043: 'corresponderia', 1044: 'físico', 1045: 'concebíveis.', 1046: 'problemas', 1047: 'tomada', 1048: 'ficaremos', 1049: 'fiéis', 1050: 'mundos', 1051: 'disse', 1052: 'inteiro', 1053: 'negativo', 1054: 'ii', 1055: 'for', 1056: 'possíveis', 1057: 'têm', 1058: 'ou', 1059: 'seus', 1060: 'da', 1061: 'deste', 1062: 'expansão', 1063: 'dessas', 1064: 'uma', 1065: 'mente', 1066: 'insolúvel', 1067: 'escapar', 1068: 'tempos', 1069: 'si', 1070: 'dele', 1071: 'eternamente.', 1072: 'real', 1073: 'lado', 1074: 'ia', 1075: 'proporção', 1076: 'brilhantes', 1077: 'planeta', 1078: 'humanamente', 1079: 'tem', 1080: 'companheiro', 1081: 'sua', 1082: 'estará', 1083: 'imaginar', 1084: 'dar', 1085: 'dedicado', 1086: 'vá', 1087: 'férias', 1088: 'eternamente', 1089: 'possuía', 1090: 'pense', 1091: 'respiração', 1092: 'gigante', 1093: 'segundos', 1094: 'tantas', 1095: 'existem', 1096: 'assistentes', 1097: 'especial', 1098: 'consciência', 1099: 'poderoso', 1100: 'imortalidade', 1101: 'séculos', 1102: 'claro', 1103: 'filha', 1104: 'abriga-se', 1105: 'terra.', 1106: 'ainda', 1107: 'alguma', 1108: 'apresentar', 1109: 'sentiu', 1110: 'cujos', 1111: 'pode', 1112: 'milhar', 1113: 'centralizada', 1114: 'gente', 1115: 'movimentar', 1116: 'difusos', 1117: 'tamanho', 1118: 'faziam', 1119: 'única', 1120: 'trajetórias', 1121: 'olha', 1122: 'gota', 1123: 'descaso', 1124: 'finalmente', 1125: 'enxergar', 1126: 'ritmo', 1127: 'então', 1128: 'neste', 1129: 'abastecer-se', 1130: 'momentânea', 1131: 'duvido', 1132: 'existiam', 1133: 'centenas', 1134: 'lembravam', 1135: 'humanidade', 1136: 'porção', 1137: 'essência', 1138: 'solucionadas', 1139: 'dedo', 1140: 'apesar', 1141: 'conectado', 1142: 'imortal', 1143: 'nosso', 1144: 'tornou-se', 1145: 'robozinho', 1146: 'longa', 1147: 'quase', 1148: 'pálidos', 1149: 'dólares', 1150: 'hiperespaço', 1151: 'espaço', 1152: 'ambos', 1153: 'desgaste', 1154: 'velho', 1155: 'tão', 1156: 'bom', 1157: 'pequena', 1158: 'vidas', 1159: ')', 1160: 'garrafa', 1161: 'diferente.', 1162: 'nenhum', 1163: 'sol', 1164: 'aprender', 1165: 'bem', 1166: 'cada', 1167: 'período', 1168: 'sério', 1169: 'ruidosa', 1170: 'maciça', 1171: 'estiver', 1172: 'acabadas', 1173: 'preocuparmos', 1174: 'na', 1175: 'circunstâncias', 1176: 'paradigma', 1177: 'morrendo.', 1178: 'pilhas.', 1179: 'distante', 1180: 'forças', 1181: 'galáxia', 1182: 'boca', 1183: 'quer', 1184: 'natural', 1185: 'olhar', 1186: 'juntas', 1187: 'assustados', 1188: 'matéria', 1189: 'incorruptíveis', 1190: 'ocupando', 1191: 'irão', 1192: 'televisor', 1193: 'convertida', 1194: 'completamente', 1195: 'enfrentar', 1196: 'resta', 1197: 'negra', 1198: 'houve', 1199: 'integrado', 1200: 'todas', 1201: 'várias', 1202: 'cinzas.', 1203: 'apertaram', 1204: 'lançou', 1205: 'ficassem', 1206: 'máximo.', 1207: 'mãos', 1208: 'adell', 1209: 'distância', 1210: 'compartimentos', 1211: 'raios', 1212: 'líquido', 1213: 'som', 1214: 'wun', 1215: 'automatic', 1216: 'submésons', 1217: 'poderá', 1218: 'lua', 1219: 'preciso', 1220: 'iguais.', 1221: 'estavam', 1222: 'inquiriu', 1223: 'abarrotar', 1224: 'esplendoroso', 1225: 'preocupem', 1226: 'sei', 1227: 'meus', 1228: 'sucessor', 1229: 'pelos', 1230: 'dez', 1231: 'cubos', 1232: 'além', 1233: 'conscientes', 1234: 'incontável', 1235: 'precisamos', 1236: 'brilhar', 1237: 'partiremos', 1238: 'raros', 1239: 'demorou', 1240: 'sentiu-se', 1241: '.', 1242: 'sistema', 1243: 'quero', 1244: 'venha', 1245: 'enterrado', 1246: 'hora', 1247: 'envelhecimento', 1248: 'aposto', 1249: 'gritar', 1250: 'virtualmente', 1251: 'pela', 1252: 'bastante', 1253: 'x-23', 1254: 'apaguem.', 1255: 'questão.', 1256: 'controle', 1257: 'fundir-se', 1258: '?', 1259: 'encontravam', 1260: 'poeira', 1261: 'quando', 1262: 'nervosamente', 1263: 'humanos', 1264: 'papel', 1265: 'extremidade', 1266: 'pessimista', 1267: 'demais', 1268: 'bela', 1269: 'logo', 1270: 'tornavam-se', 1271: 'espécie', 1272: 'ferro', 1273: 'depois', 1274: 'dizer', 1275: 'humano', 1276: 'chance', 1277: 'permanece', 1278: 'voz', 1279: 'que', 1280: 'traduziam', 1281: 'alegremente', 1282: 'brotou', 1283: 'elevado', 1284: 'protuberância', 1285: 'descobriu', 1286: 'resposta', 1287: 'tontura', 1288: 'extremamente', 1289: 'mármore', 1290: 'aconchegante', 1291: 'colegas', 1292: 'estrelas', 1293: 'reverter', 1294: 'continuar', 1295: 'nicron', 1296: 'tonto', 1297: 'conseguiam', 1298: 'melhor', 1299: 'pontos', 1300: 'momento', 1301: 'diâmetro', 1302: 'faça-se', 1303: 'súbito', 1304: 'processo', 1305: 'hidrogênio', 1306: 'ficariam', 1307: 'rápido', 1308: 'bagagem', 1309: 'quaisquer', 1310: 'serão', 1311: 'etéreos', 1312: 'tempo.', 1313: 'carcaça', 1314: 'você', 1315: 'acontecia', 1316: 'interessada', 1317: 'universo', 1318: 'expandiu-se', 1319: 'tridimensional', 1320: 'embriagado', 1321: 'pergunta', 1322: 'baixo', 1323: 'embaixo', 1324: 'devaneios', 1325: 'tido', 1326: 'fios', 1327: 'finas', 1328: 'gostaria', 1329: 'interestelar.', 1330: 'derreter', 1331: 'problema', 1332: 'fosse', 1333: 'é', 1334: 'capaz', 1335: 'gigantesco', 1336: 'pensou', 1337: 'alguém', 1338: 'sarcástico', 1339: 'procurar', 1340: 'mesmo', 1341: 'consistiam-se', 1342: 'de', 1343: 'dias', 1344: 'lhes', 1345: 'tipo', 1346: 'volta', 1347: 'necessárias', 1348: 'vamos', 1349: 'quinze', 1350: 'dedos', 1351: 'vj-23x', 1352: 'fundo', 1353: 'brilhante', 1354: '2061', 1355: 'brancas', 1356: 'abrigar', 1357: 'surpreso', 1358: 'significavam', 1359: 'costumava', 1360: '21', 1361: 'um', 1362: 'ano.', 1363: 'integral', 1364: 'anos.', 1365: 'indistintamente', 1366: 'monstruosas', 1367: 'cuja', 1368: 'aconteceu', 1369: 'original', 1370: 'disco', 1371: 'bilhões', 1372: 'solar', 1373: 'emaranhados', 1374: 'pilhas', 1375: 'aleatoriamente', 1376: 'murmurou', 1377: 'tinha', 1378: 'passava', 1379: 'componentes', 1380: 'existir', 1381: 'por', 1382: 'alcançou', 1383: 'fez-se', 1384: 'sentença', 1385: 'curiosidade', 1386: 'públicas', 1387: 'cessaram', 1388: 'jerrodete', 1389: 'desconhecido', 1390: 'dee', 1391: 'meio', 1392: 'muito', 1393: 'limite', 1394: 'sempre', 1395: 'procura', 1396: 'cheia'}\n"
     ]
    }
   ],
   "source": [
    "# Dicionário para mapear os índices às palavras\n",
    "indice_palavra = {i: palavra for i, palavra in enumerate(vocab)}\n",
    "print(indice_palavra)"
   ]
  },
  {
   "cell_type": "markdown",
   "metadata": {
    "application/vnd.databricks.v1+cell": {
     "cellMetadata": {},
     "inputWidgets": {},
     "nuid": "6b8c7abd-74c4-47c8-b54f-31dcef99edb8",
     "showTitle": false,
     "title": ""
    }
   },
   "source": [
    "A menos que se indique lo contrario, usamos un contexto de diez palabras a la izquierda y diez palabras a la derecha."
   ]
  },
  {
   "cell_type": "code",
   "execution_count": 0,
   "metadata": {
    "application/vnd.databricks.v1+cell": {
     "cellMetadata": {
      "byteLimit": 2048000,
      "rowLimit": 10000
     },
     "inputWidgets": {},
     "nuid": "67ccef90-5580-4933-abc5-87139007a9c8",
     "showTitle": false,
     "title": ""
    }
   },
   "outputs": [],
   "source": [
    "# Tamanho do contexto\n",
    "CONTEXT_SIZE = 10"
   ]
  },
  {
   "cell_type": "code",
   "execution_count": 0,
   "metadata": {
    "application/vnd.databricks.v1+cell": {
     "cellMetadata": {
      "byteLimit": 2048000,
      "rowLimit": 10000
     },
     "inputWidgets": {},
     "nuid": "cb4e8af8-9ce2-4bbc-8344-b571b8b5be9a",
     "showTitle": false,
     "title": ""
    }
   },
   "outputs": [
    {
     "output_type": "stream",
     "name": "stdout",
     "output_type": "stream",
     "text": [
      "Out[17]: array([[0., 0., 0., ..., 0., 0., 0.],\n       [0., 0., 0., ..., 0., 0., 0.],\n       [0., 0., 0., ..., 0., 0., 0.],\n       ...,\n       [0., 0., 0., ..., 0., 0., 0.],\n       [0., 0., 0., ..., 0., 0., 0.],\n       [0., 0., 0., ..., 0., 0., 0.]])"
     ]
    }
   ],
   "source": [
    "# Matriz de co-ocorrência preenchida com zeros\n",
    "co_occ_mat = np.zeros((vocab_size, vocab_size))\n",
    "co_occ_mat"
   ]
  },
  {
   "cell_type": "markdown",
   "metadata": {
    "application/vnd.databricks.v1+cell": {
     "cellMetadata": {},
     "inputWidgets": {},
     "nuid": "95b07d76-dc3b-4bb1-a83f-2fd243e6808f",
     "showTitle": false,
     "title": ""
    }
   },
   "source": [
    "Ahora pasamos los diccionarios de mapeo creados previamente y completamos la matriz de co-ocurrencia."
   ]
  },
  {
   "cell_type": "code",
   "execution_count": 0,
   "metadata": {
    "application/vnd.databricks.v1+cell": {
     "cellMetadata": {
      "byteLimit": 2048000,
      "rowLimit": 10000
     },
     "inputWidgets": {},
     "nuid": "922621e4-cc89-4b46-9147-a6ee6cd07d31",
     "showTitle": false,
     "title": ""
    }
   },
   "outputs": [],
   "source": [
    "# Loop externo por todo comprimento do vocabulário\n",
    "for i in range(comp_tokens):\n",
    "    \n",
    "    # Loop interno pelo tamanho do contexto\n",
    "    for dist in range(1, CONTEXT_SIZE + 1):\n",
    "        \n",
    "        # Obtém o índice do token\n",
    "        ix = palavra_indice[texto_token[i]]\n",
    "        \n",
    "        # Se a palara estiver à esquerda, inserimos à esquerda na matriz de co-ocorrência\n",
    "        if i - dist > 0:\n",
    "            left_ix = palavra_indice[texto_token[i - dist]]\n",
    "            co_occ_mat[ix, left_ix] += 1.0 / dist\n",
    "            \n",
    "        # Se a palara estiver à direita, inserimos à direita na matriz de co-ocorrência\n",
    "        if i + dist < len(texto_token):\n",
    "            right_ix = palavra_indice[texto_token[i + dist]]\n",
    "            co_occ_mat[ix, right_ix] += 1.0 / dist"
   ]
  },
  {
   "cell_type": "code",
   "execution_count": 0,
   "metadata": {
    "application/vnd.databricks.v1+cell": {
     "cellMetadata": {
      "byteLimit": 2048000,
      "rowLimit": 10000
     },
     "inputWidgets": {},
     "nuid": "4c5052a5-cd8b-40e7-9330-f1b647497e82",
     "showTitle": false,
     "title": ""
    }
   },
   "outputs": [
    {
     "output_type": "stream",
     "name": "stdout",
     "output_type": "stream",
     "text": [
      "Out[19]: array([[0.        , 0.        , 0.        , ..., 0.16666667, 0.        ,\n        0.1       ],\n       [0.        , 0.        , 0.        , ..., 0.        , 0.        ,\n        0.        ],\n       [0.        , 0.        , 0.        , ..., 0.        , 0.        ,\n        0.        ],\n       ...,\n       [0.16666667, 0.        , 0.        , ..., 0.4       , 0.5       ,\n        0.        ],\n       [0.        , 0.        , 0.        , ..., 0.5       , 0.        ,\n        0.        ],\n       [0.1       , 0.        , 0.        , ..., 0.        , 0.        ,\n        0.        ]])"
     ]
    }
   ],
   "source": [
    "# Matriz de co-ocorrência\n",
    "co_occ_mat"
   ]
  },
  {
   "cell_type": "code",
   "execution_count": 0,
   "metadata": {
    "application/vnd.databricks.v1+cell": {
     "cellMetadata": {
      "byteLimit": 2048000,
      "rowLimit": 10000
     },
     "inputWidgets": {},
     "nuid": "a5cc6788-0813-4e90-a2f5-79aa1b559507",
     "showTitle": false,
     "title": ""
    }
   },
   "outputs": [],
   "source": [
    "# Transposta da matriz de co-ocorrências\n",
    "# Retorna um array 2-D com uma linha para cada elemento não-zero \n",
    "co_occs = np.transpose(np.nonzero(co_occ_mat))"
   ]
  },
  {
   "cell_type": "code",
   "execution_count": 0,
   "metadata": {
    "application/vnd.databricks.v1+cell": {
     "cellMetadata": {
      "byteLimit": 2048000,
      "rowLimit": 10000
     },
     "inputWidgets": {},
     "nuid": "0cc3864a-414c-4f22-8676-0db2825f1078",
     "showTitle": false,
     "title": ""
    }
   },
   "outputs": [
    {
     "output_type": "stream",
     "name": "stdout",
     "output_type": "stream",
     "text": [
      "Shape da Matriz de Co-Ocorrência: (1397, 1397)\n"
     ]
    }
   ],
   "source": [
    "# Print\n",
    "print(\"Shape da Matriz de Co-Ocorrência:\", co_occ_mat.shape)"
   ]
  },
  {
   "cell_type": "code",
   "execution_count": 0,
   "metadata": {
    "application/vnd.databricks.v1+cell": {
     "cellMetadata": {
      "byteLimit": 2048000,
      "rowLimit": 10000
     },
     "inputWidgets": {},
     "nuid": "e5d6aefc-2948-4a2f-a15e-81df2eadf6e8",
     "showTitle": false,
     "title": ""
    }
   },
   "outputs": [
    {
     "output_type": "stream",
     "name": "stdout",
     "output_type": "stream",
     "text": [
      "Matriz de Co-Ocorrência Não-Zero:\n [[   0    6]\n [   0   12]\n [   0   19]\n ...\n [1396 1241]\n [1396 1279]\n [1396 1342]]\n"
     ]
    }
   ],
   "source": [
    "# Print\n",
    "print(\"Matriz de Co-Ocorrência Não-Zero:\\n\", co_occs)"
   ]
  },
  {
   "cell_type": "markdown",
   "metadata": {
    "application/vnd.databricks.v1+cell": {
     "cellMetadata": {},
     "inputWidgets": {},
     "nuid": "9a5b6c27-6a2d-47e5-86dd-02eb6638071b",
     "showTitle": false,
     "title": ""
    }
   },
   "source": [
    "### Crear el modelo"
   ]
  },
  {
   "cell_type": "code",
   "execution_count": 0,
   "metadata": {
    "application/vnd.databricks.v1+cell": {
     "cellMetadata": {
      "byteLimit": 2048000,
      "rowLimit": 10000
     },
     "inputWidgets": {},
     "nuid": "6316a552-cb81-408e-bed5-ea21bbe2ced0",
     "showTitle": false,
     "title": ""
    }
   },
   "outputs": [],
   "source": [
    "# Tamanho da embedding\n",
    "EMBEDDING_SIZE = 50"
   ]
  },
  {
   "cell_type": "code",
   "execution_count": 0,
   "metadata": {
    "application/vnd.databricks.v1+cell": {
     "cellMetadata": {
      "byteLimit": 2048000,
      "rowLimit": 10000
     },
     "inputWidgets": {},
     "nuid": "942c79cc-e420-4cfc-a8cf-33217764dcf7",
     "showTitle": false,
     "title": ""
    }
   },
   "outputs": [],
   "source": [
    "# Hiperparâmetros\n",
    "X_MAX = 100\n",
    "ALPHA = 0.75\n",
    "BATCH_SIZE = 32\n",
    "LEARNING_RATE = 0.05\n",
    "EPOCHS = 200"
   ]
  },
  {
   "cell_type": "code",
   "execution_count": 0,
   "metadata": {
    "application/vnd.databricks.v1+cell": {
     "cellMetadata": {
      "byteLimit": 2048000,
      "rowLimit": 10000
     },
     "inputWidgets": {},
     "nuid": "63dd6ce8-bd99-487c-af79-26d61ba05a76",
     "showTitle": false,
     "title": ""
    }
   },
   "outputs": [],
   "source": [
    "# Classe para o modelo\n",
    "class Glove(nn.Module):\n",
    "\n",
    "    # Método construtor\n",
    "    def __init__(self, vocab_size, comat, embedding_size, x_max, alpha):\n",
    "        super(Glove, self).__init__()\n",
    "        \n",
    "        # Matriz de embeddings com as palavras centrais\n",
    "        self.embedding_V = nn.Embedding(vocab_size, embedding_size)\n",
    "        \n",
    "        # Matriz de embeddings com as palavras de contexto\n",
    "        self.embedding_U = nn.Embedding(vocab_size, embedding_size)\n",
    "\n",
    "        # Bias\n",
    "        self.v_bias = nn.Embedding(vocab_size, 1)\n",
    "        self.u_bias = nn.Embedding(vocab_size, 1)\n",
    "        \n",
    "        # Inicializa os parâmtetros (pesos que a rede aprende durante o treinamento)\n",
    "        for params in self.parameters():\n",
    "            nn.init.uniform_(params, a = -0.5, b = 0.5)\n",
    "            \n",
    "        # Define os hiperparâmetros (que controlam o treinamento)\n",
    "        self.x_max = x_max\n",
    "        self.alpha = alpha\n",
    "        self.comat = comat\n",
    "    \n",
    "    # Função de forward\n",
    "    def forward(self, center_word_lookup, context_word_lookup):\n",
    "        \n",
    "        # Matrizes embedding de pesos para centro e contexto\n",
    "        center_embed = self.embedding_V(center_word_lookup)\n",
    "        target_embed = self.embedding_U(context_word_lookup)\n",
    "\n",
    "        # Matrizes embedding de bias para centro e contexto\n",
    "        center_bias = self.v_bias(center_word_lookup).squeeze(1)\n",
    "        target_bias = self.u_bias(context_word_lookup).squeeze(1)\n",
    "\n",
    "        # Elementos da matriz de co-ocorrência\n",
    "        co_occurrences = torch.tensor([self.comat[center_word_lookup[i].item(), context_word_lookup[i].item()]\n",
    "                                       for i in range(BATCH_SIZE)])\n",
    "        \n",
    "        # Carrega os pesos\n",
    "        weights = torch.tensor([self.weight_fn(var) for var in co_occurrences])\n",
    "\n",
    "        # Funçã de perda\n",
    "        loss = torch.sum(torch.pow((torch.sum(center_embed * target_embed, dim = 1)\n",
    "            + center_bias + target_bias) - torch.log(co_occurrences), 2) * weights)\n",
    "        \n",
    "        return loss\n",
    "       \n",
    "    # Definição do peso\n",
    "    def weight_fn(self, x):\n",
    "        if x < self.x_max:\n",
    "            return (x / self.x_max) ** self.alpha\n",
    "        return 1\n",
    "        \n",
    "    # Soma de V e U como nossos vetores de palavras\n",
    "    def embeddings(self):\n",
    "        return self.embedding_V.weight.data + self.embedding_U.weight.data"
   ]
  },
  {
   "cell_type": "code",
   "execution_count": 0,
   "metadata": {
    "application/vnd.databricks.v1+cell": {
     "cellMetadata": {
      "byteLimit": 2048000,
      "rowLimit": 10000
     },
     "inputWidgets": {},
     "nuid": "bad9b13f-b2c5-4558-af3a-3d8aa6f85ec0",
     "showTitle": false,
     "title": ""
    }
   },
   "outputs": [],
   "source": [
    "# Função para gerar um bacth de palavras\n",
    "def gera_batch(model, batch_size = BATCH_SIZE):\n",
    "    \n",
    "    # Extrai uma amostra\n",
    "    sample = np.random.choice(np.arange(len(co_occs)), size = batch_size, replace = False)\n",
    "    \n",
    "    # Listas de vetores\n",
    "    v_vecs_ix, u_vecs_ix = [], []\n",
    "    \n",
    "    # Loop pela amostra para gerar os vetores\n",
    "    for chosen in sample:\n",
    "        ind = tuple(co_occs[chosen])  \n",
    "        \n",
    "        lookup_ix_v = ind[0]\n",
    "        lookup_ix_u = ind[1]\n",
    "        \n",
    "        v_vecs_ix.append(lookup_ix_v)\n",
    "        u_vecs_ix.append(lookup_ix_u) \n",
    "        \n",
    "    return torch.tensor(v_vecs_ix), torch.tensor(u_vecs_ix)"
   ]
  },
  {
   "cell_type": "markdown",
   "metadata": {
    "application/vnd.databricks.v1+cell": {
     "cellMetadata": {},
     "inputWidgets": {},
     "nuid": "20e4dc6a-0eb2-4762-8d7c-86f926f269f7",
     "showTitle": false,
     "title": ""
    }
   },
   "source": [
    "### Entrenamiento modelo"
   ]
  },
  {
   "cell_type": "code",
   "execution_count": 0,
   "metadata": {
    "application/vnd.databricks.v1+cell": {
     "cellMetadata": {
      "byteLimit": 2048000,
      "rowLimit": 10000
     },
     "inputWidgets": {},
     "nuid": "9550f988-2411-4c8b-a859-1b6211aeb901",
     "showTitle": false,
     "title": ""
    }
   },
   "outputs": [],
   "source": [
    "# Função para o treinamento\n",
    "def treina_glove(comat):\n",
    "    \n",
    "    # Lista para os erros\n",
    "    losses = []\n",
    "    \n",
    "    # Cria o modelo Glove\n",
    "    model = Glove(vocab_size, comat, embedding_size = EMBEDDING_SIZE, x_max = X_MAX, alpha = ALPHA)\n",
    "    \n",
    "    # Otimizador\n",
    "    optimizer = optim.Adagrad(model.parameters(), lr = LEARNING_RATE)\n",
    "    \n",
    "    # Loop pelo número de épocas\n",
    "    for epoch in range(EPOCHS):\n",
    "        \n",
    "        # Erro total\n",
    "        total_loss = 0\n",
    "        \n",
    "        # Número de bacthes\n",
    "        num_batches = int(len(texto_token) / BATCH_SIZE)\n",
    "        \n",
    "        # Loop pelos batches\n",
    "        for batch in tqdm(range(num_batches)):\n",
    "            \n",
    "            # Zera os gradientes do modelo\n",
    "            model.zero_grad()\n",
    "            \n",
    "            # Obtém o bacth de dados\n",
    "            data = gera_batch(model, BATCH_SIZE)\n",
    "            \n",
    "            # Calcula o erro\n",
    "            loss = model(*data)\n",
    "            \n",
    "            # Executa o backpropagation\n",
    "            loss.backward()\n",
    "            \n",
    "            # Otimiza os pesos (aqui é onde ocorre o aprendizado)\n",
    "            optimizer.step()\n",
    "            \n",
    "            # Erro total para a epoch\n",
    "            total_loss += loss.item()\n",
    "            \n",
    "        # Erros do modelo\n",
    "        losses.append(total_loss)\n",
    "        \n",
    "        # Print da epoch e erro médio do modelo\n",
    "        print('Epoch : %d, Erro Médio : %.02f' % (epoch, np.mean(losses)))\n",
    "        \n",
    "    return model, losses "
   ]
  },
  {
   "cell_type": "code",
   "execution_count": 0,
   "metadata": {
    "application/vnd.databricks.v1+cell": {
     "cellMetadata": {
      "byteLimit": 2048000,
      "rowLimit": 10000
     },
     "inputWidgets": {},
     "nuid": "e730627e-bf74-441d-8b8e-78d4dd213cb5",
     "showTitle": false,
     "title": ""
    }
   },
   "outputs": [
    {
     "output_type": "stream",
     "name": "stdout",
     "output_type": "stream",
     "text": [
      "\r  0%|          | 0/165 [00:00<?, ?it/s]\r 18%|█▊        | 29/165 [00:00<00:00, 283.93it/s]\r 36%|███▌      | 59/165 [00:00<00:00, 270.49it/s]\r 58%|█████▊    | 95/165 [00:00<00:00, 308.79it/s]\r 81%|████████  | 133/165 [00:00<00:00, 332.92it/s]\r100%|██████████| 165/165 [00:00<00:00, 325.63it/s]\nEpoch : 0, Erro Médio : 174.33\n\r  0%|          | 0/165 [00:00<?, ?it/s]\r 24%|██▎       | 39/165 [00:00<00:00, 383.29it/s]\r 47%|████▋     | 78/165 [00:00<00:00, 358.02it/s]\r 69%|██████▉   | 114/165 [00:00<00:00, 195.31it/s]\r 92%|█████████▏| 152/165 [00:00<00:00, 240.97it/s]\r100%|██████████| 165/165 [00:00<00:00, 255.38it/s]\nEpoch : 1, Erro Médio : 180.45\n\r  0%|          | 0/165 [00:00<?, ?it/s]\r 21%|██        | 34/165 [00:00<00:00, 331.95it/s]\r 41%|████      | 68/165 [00:00<00:00, 292.21it/s]\r 61%|██████    | 101/165 [00:00<00:00, 306.19it/s]\r 83%|████████▎ | 137/165 [00:00<00:00, 326.15it/s]\r100%|██████████| 165/165 [00:00<00:00, 321.24it/s]\nEpoch : 2, Erro Médio : 174.22\n\r  0%|          | 0/165 [00:00<?, ?it/s]\r 21%|██        | 34/165 [00:00<00:00, 335.41it/s]\r 41%|████      | 68/165 [00:00<00:00, 315.79it/s]\r 61%|██████    | 100/165 [00:00<00:00, 293.44it/s]\r 83%|████████▎ | 137/165 [00:00<00:00, 320.78it/s]\r100%|██████████| 165/165 [00:00<00:00, 322.65it/s]\nEpoch : 3, Erro Médio : 163.85\n\r  0%|          | 0/165 [00:00<?, ?it/s]\r 20%|██        | 33/165 [00:00<00:00, 322.70it/s]\r 41%|████      | 68/165 [00:00<00:00, 337.51it/s]\r 62%|██████▏   | 102/165 [00:00<00:00, 307.21it/s]\r 86%|████████▌ | 142/165 [00:00<00:00, 340.62it/s]\r100%|██████████| 165/165 [00:00<00:00, 339.73it/s]\nEpoch : 4, Erro Médio : 163.18\n\r  0%|          | 0/165 [00:00<?, ?it/s]\r 24%|██▎       | 39/165 [00:00<00:00, 382.21it/s]\r 48%|████▊     | 79/165 [00:00<00:00, 391.98it/s]\r 72%|███████▏  | 119/165 [00:00<00:00, 385.74it/s]\r 96%|█████████▋| 159/165 [00:00<00:00, 389.83it/s]\r100%|██████████| 165/165 [00:00<00:00, 387.85it/s]\nEpoch : 5, Erro Médio : 158.58\n\r  0%|          | 0/165 [00:00<?, ?it/s]\r 22%|██▏       | 36/165 [00:00<00:00, 341.94it/s]\r 43%|████▎     | 71/165 [00:00<00:00, 343.64it/s]\r 66%|██████▌   | 109/165 [00:00<00:00, 359.08it/s]\r 88%|████████▊ | 146/165 [00:00<00:00, 361.99it/s]\r100%|██████████| 165/165 [00:00<00:00, 357.27it/s]\nEpoch : 6, Erro Médio : 153.29\n\r  0%|          | 0/165 [00:00<?, ?it/s]\r 22%|██▏       | 36/165 [00:00<00:00, 357.62it/s]\r 44%|████▎     | 72/165 [00:00<00:00, 325.59it/s]\r 64%|██████▎   | 105/165 [00:00<00:00, 316.57it/s]\r 86%|████████▌ | 142/165 [00:00<00:00, 321.71it/s]\r100%|██████████| 165/165 [00:00<00:00, 306.28it/s]\nEpoch : 7, Erro Médio : 147.79\n\r  0%|          | 0/165 [00:00<?, ?it/s]\r 19%|█▉        | 31/165 [00:00<00:00, 306.20it/s]\r 41%|████      | 68/165 [00:00<00:00, 341.77it/s]\r 64%|██████▍   | 106/165 [00:00<00:00, 356.03it/s]\r 87%|████████▋ | 144/165 [00:00<00:00, 363.19it/s]\r100%|██████████| 165/165 [00:00<00:00, 350.56it/s]\nEpoch : 8, Erro Médio : 145.32\n\r  0%|          | 0/165 [00:00<?, ?it/s]\r 22%|██▏       | 37/165 [00:00<00:00, 366.88it/s]\r 45%|████▍     | 74/165 [00:00<00:00, 323.41it/s]\r 65%|██████▍   | 107/165 [00:00<00:00, 292.37it/s]\r 85%|████████▌ | 141/165 [00:00<00:00, 308.89it/s]\r100%|██████████| 165/165 [00:00<00:00, 318.22it/s]\nEpoch : 9, Erro Médio : 140.81\n\r  0%|          | 0/165 [00:00<?, ?it/s]\r 22%|██▏       | 36/165 [00:00<00:00, 353.35it/s]\r 44%|████▍     | 73/165 [00:00<00:00, 359.50it/s]\r 67%|██████▋   | 110/165 [00:00<00:00, 360.24it/s]\r 89%|████████▉ | 147/165 [00:00<00:00, 356.91it/s]\r100%|██████████| 165/165 [00:00<00:00, 355.54it/s]\nEpoch : 10, Erro Médio : 136.38\n\r  0%|          | 0/165 [00:00<?, ?it/s]\r 22%|██▏       | 37/165 [00:00<00:00, 368.18it/s]\r 45%|████▍     | 74/165 [00:00<00:00, 341.82it/s]\r 66%|██████▌   | 109/165 [00:00<00:00, 164.71it/s]\r 81%|████████  | 133/165 [00:00<00:00, 170.07it/s]\r100%|██████████| 165/165 [00:00<00:00, 211.86it/s]\nEpoch : 11, Erro Médio : 132.62\n\r  0%|          | 0/165 [00:00<?, ?it/s]\r  1%|          | 2/165 [00:00<00:08, 19.48it/s]\r 22%|██▏       | 36/165 [00:00<00:00, 204.72it/s]\r 44%|████▍     | 73/165 [00:00<00:00, 278.29it/s]\r 62%|██████▏   | 103/165 [00:00<00:00, 285.30it/s]\r 85%|████████▌ | 141/165 [00:00<00:00, 316.49it/s]\r100%|██████████| 165/165 [00:00<00:00, 287.83it/s]\nEpoch : 12, Erro Médio : 129.13\n\r  0%|          | 0/165 [00:00<?, ?it/s]\r 22%|██▏       | 36/165 [00:00<00:00, 352.70it/s]\r 44%|████▍     | 73/165 [00:00<00:00, 359.14it/s]\r 66%|██████▌   | 109/165 [00:00<00:00, 353.18it/s]\r 88%|████████▊ | 145/165 [00:00<00:00, 343.54it/s]\r100%|██████████| 165/165 [00:00<00:00, 349.28it/s]\nEpoch : 13, Erro Médio : 125.87\n\r  0%|          | 0/165 [00:00<?, ?it/s]\r 22%|██▏       | 37/165 [00:00<00:00, 368.28it/s]\r 45%|████▍     | 74/165 [00:00<00:00, 362.94it/s]\r 67%|██████▋   | 111/165 [00:00<00:00, 345.28it/s]\r 88%|████████▊ | 146/165 [00:00<00:00, 345.37it/s]\r100%|██████████| 165/165 [00:00<00:00, 340.90it/s]\nEpoch : 14, Erro Médio : 122.74\n\r  0%|          | 0/165 [00:00<?, ?it/s]\r 22%|██▏       | 36/165 [00:00<00:00, 356.13it/s]\r 44%|████▎     | 72/165 [00:00<00:00, 356.37it/s]\r 65%|██████▌   | 108/165 [00:00<00:00, 332.83it/s]\r 88%|████████▊ | 145/165 [00:00<00:00, 345.61it/s]\r100%|██████████| 165/165 [00:00<00:00, 346.83it/s]\nEpoch : 15, Erro Médio : 119.75\n\r  0%|          | 0/165 [00:00<?, ?it/s]\r 22%|██▏       | 36/165 [00:00<00:00, 353.54it/s]\r 44%|████▎     | 72/165 [00:00<00:00, 289.75it/s]\r 65%|██████▍   | 107/165 [00:00<00:00, 311.66it/s]\r 88%|████████▊ | 145/165 [00:00<00:00, 334.95it/s]\r100%|██████████| 165/165 [00:00<00:00, 226.47it/s]\nEpoch : 16, Erro Médio : 116.83\n\r  0%|          | 0/165 [00:00<?, ?it/s]\r 21%|██        | 35/165 [00:00<00:00, 346.57it/s]\r 44%|████▎     | 72/165 [00:00<00:00, 356.80it/s]\r 67%|██████▋   | 110/165 [00:00<00:00, 363.20it/s]\r 89%|████████▉ | 147/165 [00:00<00:00, 360.83it/s]\r100%|██████████| 165/165 [00:00<00:00, 359.42it/s]\nEpoch : 17, Erro Médio : 114.74\n\r  0%|          | 0/165 [00:00<?, ?it/s]\r 21%|██        | 35/165 [00:00<00:00, 343.91it/s]\r 42%|████▏     | 70/165 [00:00<00:00, 149.53it/s]\r 65%|██████▌   | 108/165 [00:00<00:00, 209.25it/s]\r 86%|████████▌ | 142/165 [00:00<00:00, 238.06it/s]\r100%|██████████| 165/165 [00:00<00:00, 234.63it/s]\nEpoch : 18, Erro Médio : 112.29\n\r  0%|          | 0/165 [00:00<?, ?it/s]\r 22%|██▏       | 37/165 [00:00<00:00, 368.68it/s]\r 45%|████▍     | 74/165 [00:00<00:00, 366.86it/s]\r 67%|██████▋   | 111/165 [00:00<00:00, 364.29it/s]\r 90%|████████▉ | 148/165 [00:00<00:00, 348.98it/s]\r100%|██████████| 165/165 [00:00<00:00, 350.53it/s]\nEpoch : 19, Erro Médio : 110.06\n\r  0%|          | 0/165 [00:00<?, ?it/s]\r 23%|██▎       | 38/165 [00:00<00:00, 376.56it/s]\r 47%|████▋     | 77/165 [00:00<00:00, 381.19it/s]\r 70%|███████   | 116/165 [00:00<00:00, 380.36it/s]\r 94%|█████████▍| 155/165 [00:00<00:00, 351.64it/s]\r100%|██████████| 165/165 [00:00<00:00, 353.74it/s]\nEpoch : 20, Erro Médio : 107.81\n\r  0%|          | 0/165 [00:00<?, ?it/s]\r 23%|██▎       | 38/165 [00:00<00:00, 377.14it/s]\r 46%|████▌     | 76/165 [00:00<00:00, 373.51it/s]\r 69%|██████▉   | 114/165 [00:00<00:00, 343.56it/s]\r 91%|█████████ | 150/165 [00:00<00:00, 348.71it/s]\r100%|██████████| 165/165 [00:00<00:00, 351.22it/s]\nEpoch : 21, Erro Médio : 105.60\n\r  0%|          | 0/165 [00:00<?, ?it/s]\r 21%|██        | 34/165 [00:00<00:00, 335.87it/s]\r 41%|████      | 68/165 [00:00<00:00, 326.86it/s]\r 61%|██████    | 101/165 [00:00<00:00, 242.54it/s]\r 84%|████████▍ | 139/165 [00:00<00:00, 285.40it/s]\r100%|██████████| 165/165 [00:00<00:00, 286.71it/s]\nEpoch : 22, Erro Médio : 103.42\n\r  0%|          | 0/165 [00:00<?, ?it/s]\r 22%|██▏       | 36/165 [00:00<00:00, 354.12it/s]\r 44%|████▎     | 72/165 [00:00<00:00, 342.40it/s]\r 66%|██████▌   | 109/165 [00:00<00:00, 351.71it/s]\r 88%|████████▊ | 145/165 [00:00<00:00, 353.38it/s]\r100%|██████████| 165/165 [00:00<00:00, 347.75it/s]\nEpoch : 23, Erro Médio : 101.49\n\r  0%|          | 0/165 [00:00<?, ?it/s]\r 22%|██▏       | 37/165 [00:00<00:00, 362.83it/s]\r 45%|████▍     | 74/165 [00:00<00:00, 362.28it/s]\r 67%|██████▋   | 111/165 [00:00<00:00, 359.01it/s]\r 89%|████████▉ | 147/165 [00:00<00:00, 352.36it/s]\r100%|██████████| 165/165 [00:00<00:00, 352.35it/s]\nEpoch : 24, Erro Médio : 99.74\n\r  0%|          | 0/165 [00:00<?, ?it/s]\r 22%|██▏       | 36/165 [00:00<00:00, 351.32it/s]\r 44%|████▍     | 73/165 [00:00<00:00, 357.85it/s]\r 66%|██████▌   | 109/165 [00:00<00:00, 358.75it/s]\r 88%|████████▊ | 145/165 [00:00<00:00, 355.37it/s]\r100%|██████████| 165/165 [00:00<00:00, 355.15it/s]\nEpoch : 25, Erro Médio : 98.00\n\r  0%|          | 0/165 [00:00<?, ?it/s]\r 20%|██        | 33/165 [00:00<00:00, 323.00it/s]\r 40%|████      | 66/165 [00:00<00:00, 306.13it/s]\r 59%|█████▉    | 97/165 [00:00<00:00, 297.17it/s]\r 79%|███████▉  | 130/165 [00:00<00:00, 308.10it/s]\r100%|██████████| 165/165 [00:00<00:00, 321.66it/s]\r100%|██████████| 165/165 [00:00<00:00, 314.15it/s]\nEpoch : 26, Erro Médio : 96.31\n\r  0%|          | 0/165 [00:00<?, ?it/s]\r 21%|██        | 35/165 [00:00<00:00, 345.68it/s]\r 42%|████▏     | 70/165 [00:00<00:00, 308.04it/s]\r 66%|██████▌   | 109/165 [00:00<00:00, 341.96it/s]\r 90%|█████████ | 149/165 [00:00<00:00, 360.62it/s]\r100%|██████████| 165/165 [00:00<00:00, 351.67it/s]\nEpoch : 27, Erro Médio : 94.73\n\r  0%|          | 0/165 [00:00<?, ?it/s]\r 16%|█▌        | 26/165 [00:00<00:00, 256.28it/s]\r 32%|███▏      | 52/165 [00:00<00:00, 250.08it/s]\r 50%|█████     | 83/165 [00:00<00:00, 274.22it/s]\r 73%|███████▎  | 121/165 [00:00<00:00, 313.36it/s]\r 96%|█████████▋| 159/165 [00:00<00:00, 333.24it/s]\r100%|██████████| 165/165 [00:00<00:00, 296.31it/s]\nEpoch : 28, Erro Médio : 93.10\n\r  0%|          | 0/165 [00:00<?, ?it/s]\r 24%|██▍       | 40/165 [00:00<00:00, 391.55it/s]\r 48%|████▊     | 80/165 [00:00<00:00, 389.23it/s]\r 72%|███████▏  | 119/165 [00:00<00:00, 354.83it/s]\r 95%|█████████▌| 157/165 [00:00<00:00, 361.43it/s]\r100%|██████████| 165/165 [00:00<00:00, 364.93it/s]\nEpoch : 29, Erro Médio : 91.84\n\r  0%|          | 0/165 [00:00<?, ?it/s]\r 21%|██        | 35/165 [00:00<00:00, 345.05it/s]\r 42%|████▏     | 70/165 [00:00<00:00, 334.64it/s]\r 65%|██████▍   | 107/165 [00:00<00:00, 346.95it/s]\r 86%|████████▌ | 142/165 [00:00<00:00, 321.56it/s]\r100%|██████████| 165/165 [00:00<00:00, 331.92it/s]\nEpoch : 30, Erro Médio : 90.38\n\r  0%|          | 0/165 [00:00<?, ?it/s]\r 21%|██        | 34/165 [00:00<00:00, 337.40it/s]\r 41%|████      | 68/165 [00:00<00:00, 212.32it/s]\r 65%|██████▌   | 108/165 [00:00<00:00, 274.95it/s]\r 88%|████████▊ | 146/165 [00:00<00:00, 308.36it/s]\r100%|██████████| 165/165 [00:00<00:00, 297.16it/s]\nEpoch : 31, Erro Médio : 89.11\n\r  0%|          | 0/165 [00:00<?, ?it/s]\r 25%|██▍       | 41/165 [00:00<00:00, 405.17it/s]\r 50%|████▉     | 82/165 [00:00<00:00, 341.11it/s]\r 71%|███████   | 117/165 [00:00<00:00, 322.60it/s]\r 92%|█████████▏| 151/165 [00:00<00:00, 327.42it/s]\r100%|██████████| 165/165 [00:00<00:00, 337.63it/s]\nEpoch : 32, Erro Médio : 87.84\n\r  0%|          | 0/165 [00:00<?, ?it/s]\r 24%|██▎       | 39/165 [00:00<00:00, 385.38it/s]\r 47%|████▋     | 78/165 [00:00<00:00, 377.58it/s]\r 70%|███████   | 116/165 [00:00<00:00, 375.48it/s]\r 93%|█████████▎| 154/165 [00:00<00:00, 351.91it/s]\r100%|██████████| 165/165 [00:00<00:00, 353.53it/s]\nEpoch : 33, Erro Médio : 86.58\n\r  0%|          | 0/165 [00:00<?, ?it/s]\r 12%|█▏        | 19/165 [00:00<00:00, 189.65it/s]\r 30%|██▉       | 49/165 [00:00<00:00, 251.66it/s]\r 52%|█████▏    | 86/165 [00:00<00:00, 286.62it/s]\r 75%|███████▌  | 124/165 [00:00<00:00, 321.41it/s]\r 97%|█████████▋| 160/165 [00:00<00:00, 333.68it/s]\r100%|██████████| 165/165 [00:00<00:00, 309.57it/s]\nEpoch : 34, Erro Médio : 85.41\n\r  0%|          | 0/165 [00:00<?, ?it/s]\r 24%|██▎       | 39/165 [00:00<00:00, 385.29it/s]\r 47%|████▋     | 78/165 [00:00<00:00, 380.31it/s]\r 71%|███████   | 117/165 [00:00<00:00, 332.07it/s]\r 95%|█████████▍| 156/165 [00:00<00:00, 349.91it/s]\r100%|██████████| 165/165 [00:00<00:00, 349.15it/s]\nEpoch : 35, Erro Médio : 84.23\n\r  0%|          | 0/165 [00:00<?, ?it/s]\r 21%|██        | 35/165 [00:00<00:00, 346.63it/s]\r 42%|████▏     | 70/165 [00:00<00:00, 338.48it/s]\r 63%|██████▎   | 104/165 [00:00<00:00, 327.21it/s]\r 86%|████████▌ | 142/165 [00:00<00:00, 345.22it/s]\r100%|██████████| 165/165 [00:00<00:00, 341.34it/s]\nEpoch : 36, Erro Médio : 83.15\n\r  0%|          | 0/165 [00:00<?, ?it/s]\r 22%|██▏       | 37/165 [00:00<00:00, 368.04it/s]\r 45%|████▍     | 74/165 [00:00<00:00, 309.34it/s]\r 67%|██████▋   | 110/165 [00:00<00:00, 329.85it/s]\r 89%|████████▉ | 147/165 [00:00<00:00, 342.62it/s]\r100%|██████████| 165/165 [00:00<00:00, 333.77it/s]\nEpoch : 37, Erro Médio : 82.05\n\r  0%|          | 0/165 [00:00<?, ?it/s]\r 22%|██▏       | 37/165 [00:00<00:00, 363.73it/s]\r 45%|████▍     | 74/165 [00:00<00:00, 304.68it/s]\r 67%|██████▋   | 111/165 [00:00<00:00, 328.98it/s]\r 92%|█████████▏| 151/165 [00:00<00:00, 352.89it/s]\r100%|██████████| 165/165 [00:00<00:00, 332.67it/s]\nEpoch : 38, Erro Médio : 81.05\n\r  0%|          | 0/165 [00:00<?, ?it/s]\r 21%|██        | 34/165 [00:00<00:00, 332.56it/s]\r 41%|████      | 68/165 [00:00<00:00, 249.27it/s]\r 61%|██████    | 101/165 [00:00<00:00, 278.72it/s]\r 84%|████████▎ | 138/165 [00:00<00:00, 308.74it/s]\r100%|██████████| 165/165 [00:00<00:00, 303.29it/s]\nEpoch : 39, Erro Médio : 80.05\n\r  0%|          | 0/165 [00:00<?, ?it/s]\r 21%|██        | 35/165 [00:00<00:00, 347.20it/s]\r 44%|████▎     | 72/165 [00:00<00:00, 356.03it/s]\r 65%|██████▌   | 108/165 [00:00<00:00, 356.43it/s]\r 87%|████████▋ | 144/165 [00:00<00:00, 330.84it/s]\r100%|██████████| 165/165 [00:00<00:00, 339.26it/s]\nEpoch : 40, Erro Médio : 79.13\n\r  0%|          | 0/165 [00:00<?, ?it/s]\r 23%|██▎       | 38/165 [00:00<00:00, 377.17it/s]\r 46%|████▌     | 76/165 [00:00<00:00, 338.54it/s]\r 68%|██████▊   | 113/165 [00:00<00:00, 348.80it/s]\r 91%|█████████ | 150/165 [00:00<00:00, 355.35it/s]\r100%|██████████| 165/165 [00:00<00:00, 348.74it/s]\nEpoch : 41, Erro Médio : 78.26\n\r  0%|          | 0/165 [00:00<?, ?it/s]\r 24%|██▎       | 39/165 [00:00<00:00, 384.08it/s]\r 47%|████▋     | 78/165 [00:00<00:00, 320.47it/s]\r 71%|███████   | 117/165 [00:00<00:00, 347.01it/s]\r 95%|█████████▍| 156/165 [00:00<00:00, 360.73it/s]\r100%|██████████| 165/165 [00:00<00:00, 354.94it/s]\nEpoch : 42, Erro Médio : 77.45\n\r  0%|          | 0/165 [00:00<?, ?it/s]\r 20%|██        | 33/165 [00:00<00:00, 324.54it/s]\r 44%|████▍     | 73/165 [00:00<00:00, 368.36it/s]\r 67%|██████▋   | 111/165 [00:00<00:00, 369.69it/s]\r 92%|█████████▏| 151/165 [00:00<00:00, 380.54it/s]\r100%|██████████| 165/165 [00:00<00:00, 374.33it/s]\nEpoch : 43, Erro Médio : 76.55\n\r  0%|          | 0/165 [00:00<?, ?it/s]\r 19%|█▉        | 31/165 [00:00<00:00, 288.75it/s]\r 38%|███▊      | 62/165 [00:00<00:00, 299.02it/s]\r 61%|██████    | 101/165 [00:00<00:00, 337.13it/s]\r 85%|████████▍ | 140/165 [00:00<00:00, 355.18it/s]\r100%|██████████| 165/165 [00:00<00:00, 339.54it/s]\nEpoch : 44, Erro Médio : 75.67\n\r  0%|          | 0/165 [00:00<?, ?it/s]\r 22%|██▏       | 36/165 [00:00<00:00, 353.50it/s]\r 45%|████▍     | 74/165 [00:00<00:00, 364.02it/s]\r 68%|██████▊   | 112/165 [00:00<00:00, 367.65it/s]\r 90%|█████████ | 149/165 [00:00<00:00, 362.34it/s]\r100%|██████████| 165/165 [00:00<00:00, 361.49it/s]\nEpoch : 45, Erro Médio : 74.83\n\r  0%|          | 0/165 [00:00<?, ?it/s]\r 15%|█▌        | 25/165 [00:00<00:00, 246.06it/s]\r 38%|███▊      | 62/165 [00:00<00:00, 315.47it/s]\r 59%|█████▉    | 97/165 [00:00<00:00, 326.05it/s]\r 79%|███████▉  | 130/165 [00:00<00:00, 321.25it/s]\r100%|██████████| 165/165 [00:00<00:00, 327.76it/s]\nEpoch : 46, Erro Médio : 74.03\n\r  0%|          | 0/165 [00:00<?, ?it/s]\r 23%|██▎       | 38/165 [00:00<00:00, 374.24it/s]\r 46%|████▌     | 76/165 [00:00<00:00, 342.14it/s]\r 68%|██████▊   | 112/165 [00:00<00:00, 332.06it/s]\r 88%|████████▊ | 146/165 [00:00<00:00, 320.41it/s]\r100%|██████████| 165/165 [00:00<00:00, 333.07it/s]\nEpoch : 47, Erro Médio : 73.24\n\r  0%|          | 0/165 [00:00<?, ?it/s]\r 23%|██▎       | 38/165 [00:00<00:00, 376.21it/s]\r 46%|████▌     | 76/165 [00:00<00:00, 172.75it/s]\r 70%|██████▉   | 115/165 [00:00<00:00, 232.48it/s]\r 94%|█████████▍| 155/165 [00:00<00:00, 279.13it/s]\r100%|██████████| 165/165 [00:00<00:00, 259.45it/s]\nEpoch : 48, Erro Médio : 72.57\n\r  0%|          | 0/165 [00:00<?, ?it/s]\r 20%|██        | 33/165 [00:00<00:00, 326.20it/s]\r 44%|████▍     | 73/165 [00:00<00:00, 365.99it/s]\r 68%|██████▊   | 113/165 [00:00<00:00, 381.03it/s]\r 92%|█████████▏| 152/165 [00:00<00:00, 370.09it/s]\r100%|██████████| 165/165 [00:00<00:00, 369.47it/s]\nEpoch : 49, Erro Médio : 71.85\n\r  0%|          | 0/165 [00:00<?, ?it/s]\r 24%|██▎       | 39/165 [00:00<00:00, 384.57it/s]\r 47%|████▋     | 78/165 [00:00<00:00, 306.22it/s]\r 71%|███████   | 117/165 [00:00<00:00, 336.47it/s]\r 92%|█████████▏| 152/165 [00:00<00:00, 287.94it/s]\r100%|██████████| 165/165 [00:00<00:00, 285.68it/s]\nEpoch : 50, Erro Médio : 71.15\n\r  0%|          | 0/165 [00:00<?, ?it/s]\r 15%|█▌        | 25/165 [00:00<00:00, 245.23it/s]\r 32%|███▏      | 52/165 [00:00<00:00, 258.68it/s]\r 47%|████▋     | 78/165 [00:00<00:00, 253.21it/s]\r 71%|███████   | 117/165 [00:00<00:00, 304.04it/s]\r 93%|█████████▎| 153/165 [00:00<00:00, 322.46it/s]\r100%|██████████| 165/165 [00:00<00:00, 303.40it/s]\nEpoch : 51, Erro Médio : 70.46\n\r  0%|          | 0/165 [00:00<?, ?it/s]\r 22%|██▏       | 37/165 [00:00<00:00, 366.00it/s]\r 45%|████▍     | 74/165 [00:00<00:00, 306.20it/s]\r 68%|██████▊   | 112/165 [00:00<00:00, 336.36it/s]\r 89%|████████▉ | 147/165 [00:00<00:00, 328.05it/s]\r100%|██████████| 165/165 [00:00<00:00, 331.30it/s]\nEpoch : 52, Erro Médio : 69.79\n\r  0%|          | 0/165 [00:00<?, ?it/s]\r 21%|██        | 34/165 [00:00<00:00, 337.56it/s]\r 42%|████▏     | 70/165 [00:00<00:00, 350.21it/s]\r 65%|██████▍   | 107/165 [00:00<00:00, 354.99it/s]\r 87%|████████▋ | 143/165 [00:00<00:00, 335.21it/s]\r100%|██████████| 165/165 [00:00<00:00, 331.40it/s]\nEpoch : 53, Erro Médio : 69.12\n\r  0%|          | 0/165 [00:00<?, ?it/s]\r 20%|██        | 33/165 [00:00<00:00, 325.09it/s]\r 42%|████▏     | 69/165 [00:00<00:00, 344.58it/s]\r 63%|██████▎   | 104/165 [00:00<00:00, 334.90it/s]\r 84%|████████▎ | 138/165 [00:00<00:00, 334.43it/s]\r100%|██████████| 165/165 [00:00<00:00, 337.16it/s]\nEpoch : 54, Erro Médio : 68.47\n\r  0%|          | 0/165 [00:00<?, ?it/s]\r 21%|██        | 35/165 [00:00<00:00, 347.05it/s]\r 45%|████▍     | 74/165 [00:00<00:00, 369.78it/s]\r 68%|██████▊   | 112/165 [00:00<00:00, 374.37it/s]\r 91%|█████████ | 150/165 [00:00<00:00, 334.86it/s]\r100%|██████████| 165/165 [00:00<00:00, 348.04it/s]\nEpoch : 55, Erro Médio : 67.88\n\r  0%|          | 0/165 [00:00<?, ?it/s]\r 23%|██▎       | 38/165 [00:00<00:00, 377.19it/s]\r 46%|████▌     | 76/165 [00:00<00:00, 336.29it/s]\r 68%|██████▊   | 113/165 [00:00<00:00, 347.87it/s]\r 91%|█████████ | 150/165 [00:00<00:00, 352.72it/s]\r100%|██████████| 165/165 [00:00<00:00, 349.71it/s]\nEpoch : 56, Erro Médio : 67.26\n\r  0%|          | 0/165 [00:00<?, ?it/s]\r 23%|██▎       | 38/165 [00:00<00:00, 374.96it/s]\r 46%|████▌     | 76/165 [00:00<00:00, 366.54it/s]\r 68%|██████▊   | 113/165 [00:00<00:00, 340.39it/s]\r 91%|█████████ | 150/165 [00:00<00:00, 351.01it/s]\r100%|██████████| 165/165 [00:00<00:00, 347.67it/s]\nEpoch : 57, Erro Médio : 66.69\n\r  0%|          | 0/165 [00:00<?, ?it/s]\r 21%|██        | 34/165 [00:00<00:00, 333.15it/s]\r 41%|████      | 68/165 [00:00<00:00, 315.92it/s]\r 63%|██████▎   | 104/165 [00:00<00:00, 332.30it/s]\r 85%|████████▌ | 141/165 [00:00<00:00, 345.46it/s]\r100%|██████████| 165/165 [00:00<00:00, 326.27it/s]\nEpoch : 58, Erro Médio : 66.09\n\r  0%|          | 0/165 [00:00<?, ?it/s]\r 21%|██        | 34/165 [00:00<00:00, 273.67it/s]\r 41%|████      | 68/165 [00:00<00:00, 305.04it/s]\r 64%|██████▎   | 105/165 [00:00<00:00, 330.85it/s]\r 84%|████████▍ | 139/165 [00:00<00:00, 326.88it/s]\r100%|██████████| 165/165 [00:00<00:00, 322.60it/s]\nEpoch : 59, Erro Médio : 65.52\n\r  0%|          | 0/165 [00:00<?, ?it/s]\r 16%|█▋        | 27/165 [00:00<00:00, 269.56it/s]\r 39%|███▉      | 64/165 [00:00<00:00, 323.78it/s]\r 61%|██████    | 101/165 [00:00<00:00, 344.17it/s]\r 84%|████████▎ | 138/165 [00:00<00:00, 350.63it/s]\r100%|██████████| 165/165 [00:00<00:00, 328.67it/s]\nEpoch : 60, Erro Médio : 64.96\n\r  0%|          | 0/165 [00:00<?, ?it/s]\r 22%|██▏       | 37/165 [00:00<00:00, 369.67it/s]\r 45%|████▍     | 74/165 [00:00<00:00, 366.04it/s]\r 67%|██████▋   | 111/165 [00:00<00:00, 335.99it/s]\r 89%|████████▉ | 147/165 [00:00<00:00, 344.91it/s]\r100%|██████████| 165/165 [00:00<00:00, 343.52it/s]\nEpoch : 61, Erro Médio : 64.45\n\r  0%|          | 0/165 [00:00<?, ?it/s]\r 22%|██▏       | 37/165 [00:00<00:00, 366.60it/s]\r 45%|████▍     | 74/165 [00:00<00:00, 329.05it/s]\r 65%|██████▌   | 108/165 [00:00<00:00, 305.44it/s]\r 89%|████████▉ | 147/165 [00:00<00:00, 333.05it/s]\r100%|██████████| 165/165 [00:00<00:00, 325.33it/s]\nEpoch : 62, Erro Médio : 63.91\n\r  0%|          | 0/165 [00:00<?, ?it/s]\r 21%|██        | 34/165 [00:00<00:00, 339.08it/s]\r 42%|████▏     | 69/165 [00:00<00:00, 343.64it/s]\r 65%|██████▍   | 107/165 [00:00<00:00, 358.25it/s]\r 88%|████████▊ | 145/165 [00:00<00:00, 364.24it/s]\r100%|██████████| 165/165 [00:00<00:00, 358.63it/s]\nEpoch : 63, Erro Médio : 63.39\n\r  0%|          | 0/165 [00:00<?, ?it/s]\r 16%|█▋        | 27/165 [00:00<00:00, 266.22it/s]\r 35%|███▌      | 58/165 [00:00<00:00, 290.21it/s]\r 58%|█████▊    | 96/165 [00:00<00:00, 327.76it/s]\r 81%|████████  | 133/165 [00:00<00:00, 343.84it/s]\r100%|██████████| 165/165 [00:00<00:00, 322.22it/s]\nEpoch : 64, Erro Médio : 62.89\n\r  0%|          | 0/165 [00:00<?, ?it/s]\r 23%|██▎       | 38/165 [00:00<00:00, 375.19it/s]\r 46%|████▌     | 76/165 [00:00<00:00, 368.81it/s]\r 69%|██████▉   | 114/165 [00:00<00:00, 371.09it/s]\r 92%|█████████▏| 152/165 [00:00<00:00, 372.15it/s]\r100%|██████████| 165/165 [00:00<00:00, 346.60it/s]\nEpoch : 65, Erro Médio : 62.43\n\r  0%|          | 0/165 [00:00<?, ?it/s]\r 23%|██▎       | 38/165 [00:00<00:00, 370.90it/s]\r 46%|████▌     | 76/165 [00:00<00:00, 353.65it/s]\r 68%|██████▊   | 112/165 [00:00<00:00, 337.92it/s]\r 91%|█████████ | 150/165 [00:00<00:00, 351.38it/s]\r100%|██████████| 165/165 [00:00<00:00, 350.96it/s]\nEpoch : 66, Erro Médio : 61.95\n\r  0%|          | 0/165 [00:00<?, ?it/s]\r 22%|██▏       | 36/165 [00:00<00:00, 355.58it/s]\r 44%|████▍     | 73/165 [00:00<00:00, 361.50it/s]\r 67%|██████▋   | 110/165 [00:00<00:00, 363.54it/s]\r 89%|████████▉ | 147/165 [00:00<00:00, 324.07it/s]\r100%|██████████| 165/165 [00:00<00:00, 339.44it/s]\nEpoch : 67, Erro Médio : 61.46\n\r  0%|          | 0/165 [00:00<?, ?it/s]\r 15%|█▌        | 25/165 [00:00<00:00, 249.87it/s]\r 35%|███▌      | 58/165 [00:00<00:00, 295.66it/s]\r 53%|█████▎    | 88/165 [00:00<00:00, 281.66it/s]\r 76%|███████▋  | 126/165 [00:00<00:00, 316.20it/s]\r 98%|█████████▊| 161/165 [00:00<00:00, 326.25it/s]\r100%|██████████| 165/165 [00:00<00:00, 311.68it/s]\nEpoch : 68, Erro Médio : 61.00\n\r  0%|          | 0/165 [00:00<?, ?it/s]\r 22%|██▏       | 36/165 [00:00<00:00, 351.42it/s]\r 44%|████▎     | 72/165 [00:00<00:00, 322.30it/s]\r 65%|██████▌   | 108/165 [00:00<00:00, 338.06it/s]\r 88%|████████▊ | 145/165 [00:00<00:00, 348.40it/s]\r100%|██████████| 165/165 [00:00<00:00, 338.10it/s]\nEpoch : 69, Erro Médio : 60.55\n\r  0%|          | 0/165 [00:00<?, ?it/s]\r 21%|██        | 35/165 [00:00<00:00, 342.93it/s]\r 44%|████▎     | 72/165 [00:00<00:00, 355.90it/s]\r 65%|██████▌   | 108/165 [00:00<00:00, 345.13it/s]\r 88%|████████▊ | 145/165 [00:00<00:00, 352.84it/s]\r100%|██████████| 165/165 [00:00<00:00, 350.38it/s]\nEpoch : 70, Erro Médio : 60.10\n\r  0%|          | 0/165 [00:00<?, ?it/s]\r 17%|█▋        | 28/165 [00:00<00:00, 273.74it/s]\r 34%|███▍      | 56/165 [00:00<00:00, 245.51it/s]\r 56%|█████▌    | 92/165 [00:00<00:00, 284.15it/s]\r 79%|███████▉  | 130/165 [00:00<00:00, 318.43it/s]\r 99%|█████████▉| 163/165 [00:00<00:00, 320.58it/s]\r100%|██████████| 165/165 [00:00<00:00, 304.48it/s]\nEpoch : 71, Erro Médio : 59.66\n\r  0%|          | 0/165 [00:00<?, ?it/s]\r 22%|██▏       | 36/165 [00:00<00:00, 355.20it/s]\r 44%|████▎     | 72/165 [00:00<00:00, 357.89it/s]\r 65%|██████▌   | 108/165 [00:00<00:00, 319.91it/s]\r 87%|████████▋ | 144/165 [00:00<00:00, 333.43it/s]\r100%|██████████| 165/165 [00:00<00:00, 337.51it/s]\nEpoch : 72, Erro Médio : 59.25\n\r  0%|          | 0/165 [00:00<?, ?it/s]\r 21%|██        | 35/165 [00:00<00:00, 346.75it/s]\r 42%|████▏     | 70/165 [00:00<00:00, 335.00it/s]\r 65%|██████▍   | 107/165 [00:00<00:00, 349.78it/s]\r 87%|████████▋ | 144/165 [00:00<00:00, 355.98it/s]\r100%|██████████| 165/165 [00:00<00:00, 352.36it/s]\nEpoch : 73, Erro Médio : 58.83\n\r  0%|          | 0/165 [00:00<?, ?it/s]\r 21%|██        | 35/165 [00:00<00:00, 341.14it/s]\r 42%|████▏     | 70/165 [00:00<00:00, 261.45it/s]\r 65%|██████▍   | 107/165 [00:00<00:00, 303.27it/s]\r 88%|████████▊ | 145/165 [00:00<00:00, 328.67it/s]\r100%|██████████| 165/165 [00:00<00:00, 307.97it/s]\nEpoch : 74, Erro Médio : 58.44\n\r  0%|          | 0/165 [00:00<?, ?it/s]\r 22%|██▏       | 36/165 [00:00<00:00, 356.16it/s]\r 45%|████▍     | 74/165 [00:00<00:00, 365.51it/s]\r 67%|██████▋   | 111/165 [00:00<00:00, 365.94it/s]\r 90%|████████▉ | 148/165 [00:00<00:00, 323.64it/s]\r100%|██████████| 165/16\n\n*** WARNING: max output size exceeded, skipping output. ***\n\n65 [00:00<?, ?it/s]\r 12%|█▏        | 20/165 [00:00<00:00, 197.04it/s]\r 34%|███▍      | 56/165 [00:00<00:00, 290.99it/s]\r 56%|█████▋    | 93/165 [00:00<00:00, 324.32it/s]\r 78%|███████▊  | 129/165 [00:00<00:00, 335.92it/s]\r100%|██████████| 165/165 [00:00<00:00, 326.90it/s]\nEpoch : 127, Erro Médio : 43.46\n\r  0%|          | 0/165 [00:00<?, ?it/s]\r 18%|█▊        | 30/165 [00:00<00:00, 282.31it/s]\r 40%|████      | 66/165 [00:00<00:00, 326.27it/s]\r 63%|██████▎   | 104/165 [00:00<00:00, 346.87it/s]\r 84%|████████▍ | 139/165 [00:00<00:00, 213.13it/s]\r100%|██████████| 165/165 [00:00<00:00, 258.64it/s]\nEpoch : 128, Erro Médio : 43.26\n\r  0%|          | 0/165 [00:00<?, ?it/s]\r 23%|██▎       | 38/165 [00:00<00:00, 373.75it/s]\r 46%|████▌     | 76/165 [00:00<00:00, 269.52it/s]\r 64%|██████▎   | 105/165 [00:00<00:00, 275.32it/s]\r 87%|████████▋ | 143/165 [00:00<00:00, 309.11it/s]\r100%|██████████| 165/165 [00:00<00:00, 299.04it/s]\nEpoch : 129, Erro Médio : 43.07\n\r  0%|          | 0/165 [00:00<?, ?it/s]\r 21%|██        | 35/165 [00:00<00:00, 345.63it/s]\r 44%|████▎     | 72/165 [00:00<00:00, 354.74it/s]\r 68%|██████▊   | 112/165 [00:00<00:00, 372.69it/s]\r 92%|█████████▏| 152/165 [00:00<00:00, 381.12it/s]\r100%|██████████| 165/165 [00:00<00:00, 374.36it/s]\nEpoch : 130, Erro Médio : 42.87\n\r  0%|          | 0/165 [00:00<?, ?it/s]\r 21%|██        | 35/165 [00:00<00:00, 345.52it/s]\r 42%|████▏     | 70/165 [00:00<00:00, 300.85it/s]\r 65%|██████▍   | 107/165 [00:00<00:00, 328.38it/s]\r 85%|████████▌ | 141/165 [00:00<00:00, 323.01it/s]\r100%|██████████| 165/165 [00:00<00:00, 331.15it/s]\nEpoch : 131, Erro Médio : 42.69\n\r  0%|          | 0/165 [00:00<?, ?it/s]\r 24%|██▍       | 40/165 [00:00<00:00, 394.46it/s]\r 48%|████▊     | 80/165 [00:00<00:00, 395.19it/s]\r 73%|███████▎  | 120/165 [00:00<00:00, 387.48it/s]\r 96%|█████████▋| 159/165 [00:00<00:00, 374.38it/s]\r100%|██████████| 165/165 [00:00<00:00, 378.22it/s]\nEpoch : 132, Erro Médio : 42.51\n\r  0%|          | 0/165 [00:00<?, ?it/s]\r 21%|██        | 34/165 [00:00<00:00, 339.70it/s]\r 45%|████▍     | 74/165 [00:00<00:00, 373.94it/s]\r 68%|██████▊   | 112/165 [00:00<00:00, 332.25it/s]\r 92%|█████████▏| 152/165 [00:00<00:00, 356.05it/s]\r100%|██████████| 165/165 [00:00<00:00, 355.18it/s]\nEpoch : 133, Erro Médio : 42.33\n\r  0%|          | 0/165 [00:00<?, ?it/s]\r 24%|██▎       | 39/165 [00:00<00:00, 388.92it/s]\r 48%|████▊     | 79/165 [00:00<00:00, 394.76it/s]\r 72%|███████▏  | 119/165 [00:00<00:00, 392.32it/s]\r 96%|█████████▋| 159/165 [00:00<00:00, 208.45it/s]\r100%|██████████| 165/165 [00:00<00:00, 253.56it/s]\nEpoch : 134, Erro Médio : 42.15\n\r  0%|          | 0/165 [00:00<?, ?it/s]\r 16%|█▋        | 27/165 [00:00<00:00, 266.00it/s]\r 39%|███▉      | 64/165 [00:00<00:00, 323.22it/s]\r 61%|██████    | 100/165 [00:00<00:00, 339.27it/s]\r 84%|████████▎ | 138/165 [00:00<00:00, 354.29it/s]\r100%|██████████| 165/165 [00:00<00:00, 346.52it/s]\nEpoch : 135, Erro Médio : 41.97\n\r  0%|          | 0/165 [00:00<?, ?it/s]\r 18%|█▊        | 30/165 [00:00<00:00, 262.65it/s]\r 41%|████      | 67/165 [00:00<00:00, 319.71it/s]\r 64%|██████▎   | 105/165 [00:00<00:00, 344.47it/s]\r 85%|████████▍ | 140/165 [00:00<00:00, 293.78it/s]\r100%|██████████| 165/165 [00:00<00:00, 312.64it/s]\nEpoch : 136, Erro Médio : 41.79\n\r  0%|          | 0/165 [00:00<?, ?it/s]\r 20%|██        | 33/165 [00:00<00:00, 323.09it/s]\r 40%|████      | 66/165 [00:00<00:00, 325.83it/s]\r 62%|██████▏   | 103/165 [00:00<00:00, 345.02it/s]\r 84%|████████▎ | 138/165 [00:00<00:00, 327.54it/s]\r100%|██████████| 165/165 [00:00<00:00, 333.67it/s]\nEpoch : 137, Erro Médio : 41.61\n\r  0%|          | 0/165 [00:00<?, ?it/s]\r 22%|██▏       | 37/165 [00:00<00:00, 368.01it/s]\r 45%|████▍     | 74/165 [00:00<00:00, 228.96it/s]\r 68%|██████▊   | 113/165 [00:00<00:00, 282.74it/s]\r 88%|████████▊ | 145/165 [00:00<00:00, 288.21it/s]\r100%|██████████| 165/165 [00:00<00:00, 281.80it/s]\nEpoch : 138, Erro Médio : 41.43\n\r  0%|          | 0/165 [00:00<?, ?it/s]\r 12%|█▏        | 19/165 [00:00<00:00, 182.67it/s]\r 28%|██▊       | 47/165 [00:00<00:00, 237.34it/s]\r 50%|█████     | 83/165 [00:00<00:00, 290.13it/s]\r 73%|███████▎  | 120/165 [00:00<00:00, 318.20it/s]\r 92%|█████████▏| 152/165 [00:00<00:00, 296.41it/s]\r100%|██████████| 165/165 [00:00<00:00, 289.01it/s]\nEpoch : 139, Erro Médio : 41.26\n\r  0%|          | 0/165 [00:00<?, ?it/s]\r 23%|██▎       | 38/165 [00:00<00:00, 370.16it/s]\r 46%|████▌     | 76/165 [00:00<00:00, 349.76it/s]\r 68%|██████▊   | 113/165 [00:00<00:00, 357.93it/s]\r 90%|█████████ | 149/165 [00:00<00:00, 356.89it/s]\r100%|██████████| 165/165 [00:00<00:00, 263.01it/s]\nEpoch : 140, Erro Médio : 41.08\n\r  0%|          | 0/165 [00:00<?, ?it/s]\r 21%|██        | 35/165 [00:00<00:00, 329.37it/s]\r 42%|████▏     | 70/165 [00:00<00:00, 336.55it/s]\r 63%|██████▎   | 104/165 [00:00<00:00, 219.68it/s]\r 87%|████████▋ | 144/165 [00:00<00:00, 271.50it/s]\r100%|██████████| 165/165 [00:00<00:00, 282.11it/s]\nEpoch : 141, Erro Médio : 40.91\n\r  0%|          | 0/165 [00:00<?, ?it/s]\r 13%|█▎        | 22/165 [00:00<00:00, 219.02it/s]\r 35%|███▍      | 57/165 [00:00<00:00, 294.89it/s]\r 53%|█████▎    | 87/165 [00:00<00:00, 239.37it/s]\r 74%|███████▍  | 122/165 [00:00<00:00, 276.95it/s]\r 96%|█████████▋| 159/165 [00:00<00:00, 306.10it/s]\r100%|██████████| 165/165 [00:00<00:00, 283.91it/s]\nEpoch : 142, Erro Médio : 40.74\n\r  0%|          | 0/165 [00:00<?, ?it/s]\r 22%|██▏       | 36/165 [00:00<00:00, 356.64it/s]\r 44%|████▎     | 72/165 [00:00<00:00, 346.94it/s]\r 65%|██████▍   | 107/165 [00:00<00:00, 284.33it/s]\r 84%|████████▍ | 139/165 [00:00<00:00, 295.13it/s]\r100%|██████████| 165/165 [00:00<00:00, 311.06it/s]\nEpoch : 143, Erro Médio : 40.57\n\r  0%|          | 0/165 [00:00<?, ?it/s]\r 19%|█▉        | 31/165 [00:00<00:00, 304.23it/s]\r 38%|███▊      | 63/165 [00:00<00:00, 310.87it/s]\r 61%|██████    | 100/165 [00:00<00:00, 336.01it/s]\r 81%|████████  | 134/165 [00:00<00:00, 322.89it/s]\r100%|██████████| 165/165 [00:00<00:00, 331.87it/s]\nEpoch : 144, Erro Médio : 40.41\n\r  0%|          | 0/165 [00:00<?, ?it/s]\r 22%|██▏       | 36/165 [00:00<00:00, 358.45it/s]\r 44%|████▎     | 72/165 [00:00<00:00, 309.86it/s]\r 64%|██████▎   | 105/165 [00:00<00:00, 293.02it/s]\r 82%|████████▏ | 135/165 [00:00<00:00, 294.56it/s]\r100%|██████████| 165/165 [00:00<00:00, 312.31it/s]\nEpoch : 145, Erro Médio : 40.24\n\r  0%|          | 0/165 [00:00<?, ?it/s]\r 22%|██▏       | 36/165 [00:00<00:00, 356.33it/s]\r 44%|████▎     | 72/165 [00:00<00:00, 331.99it/s]\r 65%|██████▌   | 108/165 [00:00<00:00, 343.80it/s]\r 87%|████████▋ | 143/165 [00:00<00:00, 344.97it/s]\r100%|██████████| 165/165 [00:00<00:00, 334.58it/s]\nEpoch : 146, Erro Médio : 40.09\n\r  0%|          | 0/165 [00:00<?, ?it/s]\r 24%|██▎       | 39/165 [00:00<00:00, 389.21it/s]\r 47%|████▋     | 78/165 [00:00<00:00, 285.03it/s]\r 68%|██████▊   | 112/165 [00:00<00:00, 304.26it/s]\r 90%|█████████ | 149/165 [00:00<00:00, 327.03it/s]\r100%|██████████| 165/165 [00:00<00:00, 324.88it/s]\nEpoch : 147, Erro Médio : 39.93\n\r  0%|          | 0/165 [00:00<?, ?it/s]\r 15%|█▌        | 25/165 [00:00<00:00, 232.38it/s]\r 38%|███▊      | 63/165 [00:00<00:00, 313.94it/s]\r 58%|█████▊    | 95/165 [00:00<00:00, 274.94it/s]\r 79%|███████▉  | 131/165 [00:00<00:00, 302.36it/s]\r100%|██████████| 165/165 [00:00<00:00, 305.55it/s]\nEpoch : 148, Erro Médio : 39.77\n\r  0%|          | 0/165 [00:00<?, ?it/s]\r 17%|█▋        | 28/165 [00:00<00:00, 262.78it/s]\r 39%|███▉      | 64/165 [00:00<00:00, 315.60it/s]\r 61%|██████    | 100/165 [00:00<00:00, 334.36it/s]\r 83%|████████▎ | 137/165 [00:00<00:00, 344.52it/s]\r100%|██████████| 165/165 [00:00<00:00, 337.17it/s]\nEpoch : 149, Erro Médio : 39.61\n\r  0%|          | 0/165 [00:00<?, ?it/s]\r 17%|█▋        | 28/165 [00:00<00:00, 239.72it/s]\r 40%|████      | 66/165 [00:00<00:00, 312.76it/s]\r 64%|██████▍   | 106/165 [00:00<00:00, 350.44it/s]\r 86%|████████▌ | 142/165 [00:00<00:00, 351.30it/s]\r100%|██████████| 165/165 [00:00<00:00, 343.14it/s]\nEpoch : 150, Erro Médio : 39.45\n\r  0%|          | 0/165 [00:00<?, ?it/s]\r 24%|██▍       | 40/165 [00:00<00:00, 397.18it/s]\r 48%|████▊     | 80/165 [00:00<00:00, 197.31it/s]\r 65%|██████▍   | 107/165 [00:00<00:00, 206.28it/s]\r 86%|████████▌ | 142/165 [00:00<00:00, 246.46it/s]\r100%|██████████| 165/165 [00:00<00:00, 248.65it/s]\nEpoch : 151, Erro Médio : 39.29\n\r  0%|          | 0/165 [00:00<?, ?it/s]\r 19%|█▉        | 32/165 [00:00<00:00, 319.14it/s]\r 42%|████▏     | 70/165 [00:00<00:00, 350.97it/s]\r 65%|██████▍   | 107/165 [00:00<00:00, 359.13it/s]\r 87%|████████▋ | 144/165 [00:00<00:00, 363.05it/s]\r100%|██████████| 165/165 [00:00<00:00, 352.88it/s]\nEpoch : 152, Erro Médio : 39.14\n\r  0%|          | 0/165 [00:00<?, ?it/s]\r 21%|██        | 34/165 [00:00<00:00, 331.46it/s]\r 41%|████      | 68/165 [00:00<00:00, 312.00it/s]\r 64%|██████▍   | 106/165 [00:00<00:00, 337.53it/s]\r 87%|████████▋ | 143/165 [00:00<00:00, 348.56it/s]\r100%|██████████| 165/165 [00:00<00:00, 317.94it/s]\nEpoch : 153, Erro Médio : 38.99\n\r  0%|          | 0/165 [00:00<?, ?it/s]\r 22%|██▏       | 37/165 [00:00<00:00, 367.31it/s]\r 45%|████▍     | 74/165 [00:00<00:00, 365.30it/s]\r 67%|██████▋   | 111/165 [00:00<00:00, 363.11it/s]\r 90%|████████▉ | 148/165 [00:00<00:00, 348.72it/s]\r100%|██████████| 165/165 [00:00<00:00, 353.29it/s]\nEpoch : 154, Erro Médio : 38.83\n\r  0%|          | 0/165 [00:00<?, ?it/s]\r 19%|█▉        | 31/165 [00:00<00:00, 293.46it/s]\r 37%|███▋      | 61/165 [00:00<00:00, 242.12it/s]\r 56%|█████▋    | 93/165 [00:00<00:00, 267.18it/s]\r 79%|███████▉  | 131/165 [00:00<00:00, 304.92it/s]\r100%|██████████| 165/165 [00:00<00:00, 300.28it/s]\nEpoch : 155, Erro Médio : 38.69\n\r  0%|          | 0/165 [00:00<?, ?it/s]\r 22%|██▏       | 37/165 [00:00<00:00, 369.71it/s]\r 45%|████▌     | 75/165 [00:00<00:00, 372.04it/s]\r 68%|██████▊   | 113/165 [00:00<00:00, 344.78it/s]\r 92%|█████████▏| 151/165 [00:00<00:00, 355.47it/s]\r100%|██████████| 165/165 [00:00<00:00, 353.65it/s]\nEpoch : 156, Erro Médio : 38.54\n\r  0%|          | 0/165 [00:00<?, ?it/s]\r 23%|██▎       | 38/165 [00:00<00:00, 373.11it/s]\r 46%|████▌     | 76/165 [00:00<00:00, 348.14it/s]\r 68%|██████▊   | 113/165 [00:00<00:00, 354.79it/s]\r 91%|█████████ | 150/165 [00:00<00:00, 359.93it/s]\r100%|██████████| 165/165 [00:00<00:00, 356.06it/s]\nEpoch : 157, Erro Médio : 38.40\n\r  0%|          | 0/165 [00:00<?, ?it/s]\r 22%|██▏       | 37/165 [00:00<00:00, 368.59it/s]\r 45%|████▍     | 74/165 [00:00<00:00, 329.93it/s]\r 67%|██████▋   | 111/165 [00:00<00:00, 345.55it/s]\r 90%|████████▉ | 148/165 [00:00<00:00, 342.58it/s]\r100%|██████████| 165/165 [00:00<00:00, 269.48it/s]\nEpoch : 158, Erro Médio : 38.26\n\r  0%|          | 0/165 [00:00<?, ?it/s]\r  5%|▌         | 9/165 [00:00<00:02, 71.44it/s]\r 18%|█▊        | 29/165 [00:00<00:00, 139.36it/s]\r 40%|████      | 66/165 [00:00<00:00, 236.99it/s]\r 58%|█████▊    | 95/165 [00:00<00:00, 255.14it/s]\r 78%|███████▊  | 129/165 [00:00<00:00, 284.78it/s]\r100%|██████████| 165/165 [00:00<00:00, 262.81it/s]\nEpoch : 159, Erro Médio : 38.12\n\r  0%|          | 0/165 [00:00<?, ?it/s]\r 20%|██        | 33/165 [00:00<00:00, 328.62it/s]\r 42%|████▏     | 70/165 [00:00<00:00, 349.84it/s]\r 64%|██████▎   | 105/165 [00:00<00:00, 341.92it/s]\r 87%|████████▋ | 143/165 [00:00<00:00, 354.73it/s]\r100%|██████████| 165/165 [00:00<00:00, 352.78it/s]\nEpoch : 160, Erro Médio : 37.98\n\r  0%|          | 0/165 [00:00<?, ?it/s]\r 22%|██▏       | 36/165 [00:00<00:00, 358.62it/s]\r 44%|████▎     | 72/165 [00:00<00:00, 322.37it/s]\r 64%|██████▎   | 105/165 [00:00<00:00, 289.79it/s]\r 84%|████████▎ | 138/165 [00:00<00:00, 300.49it/s]\r100%|██████████| 165/165 [00:00<00:00, 313.83it/s]\nEpoch : 161, Erro Médio : 37.84\n\r  0%|          | 0/165 [00:00<?, ?it/s]\r 12%|█▏        | 20/165 [00:00<00:00, 198.41it/s]\r 34%|███▍      | 56/165 [00:00<00:00, 290.36it/s]\r 52%|█████▏    | 86/165 [00:00<00:00, 292.94it/s]\r 73%|███████▎  | 121/165 [00:00<00:00, 313.73it/s]\r 93%|█████████▎| 153/165 [00:00<00:00, 261.07it/s]\r100%|██████████| 165/165 [00:00<00:00, 276.41it/s]\nEpoch : 162, Erro Médio : 37.70\n\r  0%|          | 0/165 [00:00<?, ?it/s]\r 24%|██▎       | 39/165 [00:00<00:00, 384.20it/s]\r 47%|████▋     | 78/165 [00:00<00:00, 319.69it/s]\r 70%|██████▉   | 115/165 [00:00<00:00, 339.57it/s]\r 93%|█████████▎| 153/165 [00:00<00:00, 352.83it/s]\r100%|██████████| 165/165 [00:00<00:00, 348.82it/s]\nEpoch : 163, Erro Médio : 37.56\n\r  0%|          | 0/165 [00:00<?, ?it/s]\r 15%|█▌        | 25/165 [00:00<00:00, 246.56it/s]\r 38%|███▊      | 62/165 [00:00<00:00, 316.02it/s]\r 57%|█████▋    | 94/165 [00:00<00:00, 296.26it/s]\r 75%|███████▌  | 124/165 [00:00<00:00, 284.46it/s]\r 95%|█████████▍| 156/165 [00:00<00:00, 295.32it/s]\r100%|██████████| 165/165 [00:00<00:00, 294.91it/s]\nEpoch : 164, Erro Médio : 37.42\n\r  0%|          | 0/165 [00:00<?, ?it/s]\r 21%|██        | 35/165 [00:00<00:00, 343.48it/s]\r 42%|████▏     | 70/165 [00:00<00:00, 236.29it/s]\r 65%|██████▍   | 107/165 [00:00<00:00, 283.61it/s]\r 86%|████████▌ | 142/165 [00:00<00:00, 259.95it/s]\r100%|██████████| 165/165 [00:00<00:00, 275.73it/s]\nEpoch : 165, Erro Médio : 37.28\n\r  0%|          | 0/165 [00:00<?, ?it/s]\r 22%|██▏       | 37/165 [00:00<00:00, 365.90it/s]\r 45%|████▍     | 74/165 [00:00<00:00, 303.26it/s]\r 68%|██████▊   | 112/165 [00:00<00:00, 332.59it/s]\r 88%|████████▊ | 146/165 [00:00<00:00, 305.49it/s]\r100%|██████████| 165/165 [00:00<00:00, 313.23it/s]\nEpoch : 166, Erro Médio : 37.15\n\r  0%|          | 0/165 [00:00<?, ?it/s]\r 22%|██▏       | 36/165 [00:00<00:00, 359.73it/s]\r 44%|████▎     | 72/165 [00:00<00:00, 355.29it/s]\r 65%|██████▌   | 108/165 [00:00<00:00, 305.78it/s]\r 88%|████████▊ | 146/165 [00:00<00:00, 331.99it/s]\r100%|██████████| 165/165 [00:00<00:00, 333.65it/s]\nEpoch : 167, Erro Médio : 37.01\n\r  0%|          | 0/165 [00:00<?, ?it/s]\r 20%|██        | 33/165 [00:00<00:00, 325.46it/s]\r 44%|████▍     | 73/165 [00:00<00:00, 364.85it/s]\r 68%|██████▊   | 113/165 [00:00<00:00, 379.08it/s]\r 92%|█████████▏| 151/165 [00:01<00:00, 57.70it/s] \r100%|██████████| 165/165 [00:02<00:00, 73.57it/s]\nEpoch : 168, Erro Médio : 36.88\n\r  0%|          | 0/165 [00:00<?, ?it/s]\r  1%|          | 2/165 [00:00<00:15, 10.42it/s]\r  3%|▎         | 5/165 [00:00<00:09, 17.49it/s]\r  5%|▍         | 8/165 [00:00<00:07, 21.55it/s]\r  7%|▋         | 11/165 [00:00<00:06, 23.23it/s]\r  8%|▊         | 14/165 [00:00<00:06, 25.01it/s]\r 10%|█         | 17/165 [00:00<00:08, 17.72it/s]\r 12%|█▏        | 20/165 [00:01<00:07, 19.57it/s]\r 14%|█▍        | 23/165 [00:01<00:07, 18.38it/s]\r 24%|██▍       | 40/165 [00:01<00:02, 51.18it/s]\r 28%|██▊       | 47/165 [00:01<00:02, 43.24it/s]\r 47%|████▋     | 78/165 [00:01<00:00, 98.57it/s]\r 56%|█████▌    | 92/165 [00:01<00:01, 66.88it/s]\r 62%|██████▏   | 103/165 [00:02<00:00, 72.03it/s]\r 69%|██████▉   | 114/165 [00:02<00:01, 46.88it/s]\r 74%|███████▍  | 122/165 [00:02<00:01, 38.60it/s]\r 78%|███████▊  | 129/165 [00:03<00:00, 40.85it/s]\r 82%|████████▏ | 135/165 [00:03<00:00, 37.48it/s]\r 85%|████████▍ | 140/165 [00:03<00:00, 31.61it/s]\r 88%|████████▊ | 146/165 [00:03<00:00, 32.89it/s]\r 91%|█████████ | 150/165 [00:04<00:00, 21.80it/s]\r 93%|█████████▎| 154/165 [00:04<00:00, 21.16it/s]\r100%|██████████| 165/165 [00:04<00:00, 37.62it/s]\nEpoch : 169, Erro Médio : 36.75\n\r  0%|          | 0/165 [00:00<?, ?it/s]\r 19%|█▉        | 32/165 [00:00<00:00, 313.84it/s]\r 39%|███▉      | 64/165 [00:00<00:00, 289.05it/s]\r 61%|██████    | 100/165 [00:00<00:00, 318.72it/s]\r 81%|████████  | 133/165 [00:00<00:00, 311.74it/s]\r100%|██████████| 165/165 [00:00<00:00, 318.42it/s]\nEpoch : 170, Erro Médio : 36.63\n\r  0%|          | 0/165 [00:00<?, ?it/s]\r 18%|█▊        | 29/165 [00:00<00:00, 286.77it/s]\r 36%|███▌      | 59/165 [00:00<00:00, 293.49it/s]\r 59%|█████▉    | 97/165 [00:00<00:00, 328.92it/s]\r 81%|████████  | 133/165 [00:00<00:00, 340.89it/s]\r100%|██████████| 165/165 [00:00<00:00, 329.65it/s]\nEpoch : 171, Erro Médio : 36.50\n\r  0%|          | 0/165 [00:00<?, ?it/s]\r 22%|██▏       | 37/165 [00:00<00:00, 367.56it/s]\r 45%|████▍     | 74/165 [00:00<00:00, 365.87it/s]\r 67%|██████▋   | 111/165 [00:00<00:00, 359.34it/s]\r 89%|████████▉ | 147/165 [00:00<00:00, 356.58it/s]\r100%|██████████| 165/165 [00:00<00:00, 340.13it/s]\nEpoch : 172, Erro Médio : 36.37\n\r  0%|          | 0/165 [00:00<?, ?it/s]\r 11%|█         | 18/165 [00:00<00:00, 178.32it/s]\r 33%|███▎      | 54/165 [00:00<00:00, 282.44it/s]\r 53%|█████▎    | 87/165 [00:00<00:00, 303.89it/s]\r 75%|███████▍  | 123/165 [00:00<00:00, 324.33it/s]\r 96%|█████████▋| 159/165 [00:00<00:00, 334.04it/s]\r100%|██████████| 165/165 [00:00<00:00, 314.65it/s]\nEpoch : 173, Erro Médio : 36.24\n\r  0%|          | 0/165 [00:00<?, ?it/s]\r 22%|██▏       | 37/165 [00:00<00:00, 362.90it/s]\r 45%|████▍     | 74/165 [00:00<00:00, 363.38it/s]\r 67%|██████▋   | 111/165 [00:00<00:00, 338.54it/s]\r 88%|████████▊ | 146/165 [00:00<00:00, 339.88it/s]\r100%|██████████| 165/165 [00:00<00:00, 345.45it/s]\nEpoch : 174, Erro Médio : 36.12\n\r  0%|          | 0/165 [00:00<?, ?it/s]\r 19%|█▉        | 31/165 [00:00<00:00, 302.30it/s]\r 41%|████      | 68/165 [00:00<00:00, 339.61it/s]\r 62%|██████▏   | 102/165 [00:00<00:00, 291.02it/s]\r 84%|████████▎ | 138/165 [00:00<00:00, 313.18it/s]\r100%|██████████| 165/165 [00:00<00:00, 318.74it/s]\nEpoch : 175, Erro Médio : 35.99\n\r  0%|          | 0/165 [00:00<?, ?it/s]\r 19%|█▉        | 32/165 [00:00<00:00, 317.79it/s]\r 39%|███▉      | 64/165 [00:00<00:00, 289.07it/s]\r 61%|██████    | 101/165 [00:00<00:00, 321.36it/s]\r 81%|████████  | 134/165 [00:00<00:00, 289.70it/s]\r100%|██████████| 165/165 [00:00<00:00, 310.57it/s]\nEpoch : 176, Erro Médio : 35.86\n\r  0%|          | 0/165 [00:00<?, ?it/s]\r 23%|██▎       | 38/165 [00:00<00:00, 378.74it/s]\r 47%|████▋     | 78/165 [00:00<00:00, 387.68it/s]\r 71%|███████   | 117/165 [00:00<00:00, 382.64it/s]\r 95%|█████████▍| 156/165 [00:00<00:00, 319.20it/s]\r100%|██████████| 165/165 [00:00<00:00, 341.08it/s]\nEpoch : 177, Erro Médio : 35.74\n\r  0%|          | 0/165 [00:00<?, ?it/s]\r 21%|██        | 35/165 [00:00<00:00, 349.14it/s]\r 44%|████▎     | 72/165 [00:00<00:00, 355.83it/s]\r 65%|██████▌   | 108/165 [00:00<00:00, 343.09it/s]\r 87%|████████▋ | 143/165 [00:00<00:00, 313.04it/s]\r100%|██████████| 165/165 [00:00<00:00, 324.25it/s]\nEpoch : 178, Erro Médio : 35.62\n\r  0%|          | 0/165 [00:00<?, ?it/s]\r 21%|██        | 35/165 [00:00<00:00, 349.12it/s]\r 44%|████▎     | 72/165 [00:00<00:00, 359.36it/s]\r 65%|██████▌   | 108/165 [00:00<00:00, 327.15it/s]\r 87%|████████▋ | 143/165 [00:00<00:00, 333.44it/s]\r100%|██████████| 165/165 [00:00<00:00, 339.80it/s]\nEpoch : 179, Erro Médio : 35.51\n\r  0%|          | 0/165 [00:00<?, ?it/s]\r 21%|██        | 34/165 [00:00<00:00, 333.37it/s]\r 43%|████▎     | 71/165 [00:00<00:00, 352.27it/s]\r 65%|██████▌   | 108/165 [00:00<00:00, 358.52it/s]\r 87%|████████▋ | 144/165 [00:00<00:00, 347.67it/s]\r100%|██████████| 165/165 [00:00<00:00, 352.20it/s]\nEpoch : 180, Erro Médio : 35.39\n\r  0%|          | 0/165 [00:00<?, ?it/s]\r 24%|██▎       | 39/165 [00:00<00:00, 385.63it/s]\r 47%|████▋     | 78/165 [00:00<00:00, 344.02it/s]\r 70%|███████   | 116/165 [00:00<00:00, 359.21it/s]\r 93%|█████████▎| 153/165 [00:00<00:00, 306.07it/s]\r100%|██████████| 165/165 [00:00<00:00, 326.82it/s]\nEpoch : 181, Erro Médio : 35.27\n\r  0%|          | 0/165 [00:00<?, ?it/s]\r 24%|██▎       | 39/165 [00:00<00:00, 388.40it/s]\r 48%|████▊     | 79/165 [00:00<00:00, 394.45it/s]\r 72%|███████▏  | 119/165 [00:00<00:00, 283.22it/s]\r 95%|█████████▍| 156/165 [00:00<00:00, 310.63it/s]\r100%|██████████| 165/165 [00:00<00:00, 313.26it/s]\nEpoch : 182, Erro Médio : 35.15\n\r  0%|          | 0/165 [00:00<?, ?it/s]\r 21%|██        | 34/165 [00:00<00:00, 335.35it/s]\r 41%|████      | 68/165 [00:00<00:00, 332.46it/s]\r 62%|██████▏   | 102/165 [00:00<00:00, 312.13it/s]\r 85%|████████▍ | 140/165 [00:00<00:00, 336.84it/s]\r100%|██████████| 165/165 [00:00<00:00, 335.02it/s]\nEpoch : 183, Erro Médio : 35.03\n\r  0%|          | 0/165 [00:00<?, ?it/s]\r 24%|██▎       | 39/165 [00:00<00:00, 386.98it/s]\r 48%|████▊     | 80/165 [00:00<00:00, 395.07it/s]\r 73%|███████▎  | 121/165 [00:00<00:00, 397.78it/s]\r 98%|█████████▊| 161/165 [00:00<00:00, 247.29it/s]\r100%|██████████| 165/165 [00:00<00:00, 286.69it/s]\nEpoch : 184, Erro Médio : 34.91\n\r  0%|          | 0/165 [00:00<?, ?it/s]\r 19%|█▉        | 32/165 [00:00<00:00, 319.49it/s]\r 43%|████▎     | 71/165 [00:00<00:00, 358.49it/s]\r 65%|██████▍   | 107/165 [00:00<00:00, 343.16it/s]\r 89%|████████▉ | 147/165 [00:00<00:00, 363.12it/s]\r100%|██████████| 165/165 [00:00<00:00, 359.20it/s]\nEpoch : 185, Erro Médio : 34.80\n\r  0%|          | 0/165 [00:00<?, ?it/s]\r 25%|██▍       | 41/165 [00:00<00:00, 405.09it/s]\r 50%|████▉     | 82/165 [00:00<00:00, 364.82it/s]\r 72%|███████▏  | 119/165 [00:00<00:00, 341.72it/s]\r 94%|█████████▍| 155/165 [00:00<00:00, 347.67it/s]\r100%|██████████| 165/165 [00:00<00:00, 308.38it/s]\nEpoch : 186, Erro Médio : 34.68\n\r  0%|          | 0/165 [00:00<?, ?it/s]\r 24%|██▎       | 39/165 [00:00<00:00, 382.92it/s]\r 47%|████▋     | 78/165 [00:00<00:00, 376.30it/s]\r 70%|███████   | 116/165 [00:00<00:00, 351.09it/s]\r 92%|█████████▏| 152/165 [00:00<00:00, 348.65it/s]\r100%|██████████| 165/165 [00:00<00:00, 339.05it/s]\nEpoch : 187, Erro Médio : 34.57\n\r  0%|          | 0/165 [00:00<?, ?it/s]\r 19%|█▉        | 32/165 [00:00<00:00, 318.59it/s]\r 42%|████▏     | 69/165 [00:00<00:00, 345.58it/s]\r 63%|██████▎   | 104/165 [00:00<00:00, 334.36it/s]\r 85%|████████▌ | 141/165 [00:00<00:00, 347.26it/s]\r100%|██████████| 165/165 [00:00<00:00, 345.61it/s]\nEpoch : 188, Erro Médio : 34.45\n\r  0%|          | 0/165 [00:00<?, ?it/s]\r 24%|██▎       | 39/165 [00:00<00:00, 381.51it/s]\r 47%|████▋     | 78/165 [00:00<00:00, 378.69it/s]\r 70%|███████   | 116/165 [00:00<00:00, 357.10it/s]\r 92%|█████████▏| 152/165 [00:00<00:00, 345.69it/s]\r100%|██████████| 165/165 [00:00<00:00, 354.99it/s]\nEpoch : 189, Erro Médio : 34.33\n\r  0%|          | 0/165 [00:00<?, ?it/s]\r 18%|█▊        | 30/165 [00:00<00:00, 293.36it/s]\r 41%|████      | 67/165 [00:00<00:00, 334.71it/s]\r 63%|██████▎   | 104/165 [00:00<00:00, 348.30it/s]\r 85%|████████▌ | 141/165 [00:00<00:00, 354.31it/s]\r100%|██████████| 165/165 [00:00<00:00, 352.44it/s]\nEpoch : 190, Erro Médio : 34.22\n\r  0%|          | 0/165 [00:00<?, ?it/s]\r 22%|██▏       | 36/165 [00:00<00:00, 358.75it/s]\r 46%|████▌     | 76/165 [00:00<00:00, 382.67it/s]\r 70%|██████▉   | 115/165 [00:00<00:00, 350.61it/s]\r 93%|█████████▎| 154/165 [00:00<00:00, 362.26it/s]\r100%|██████████| 165/165 [00:00<00:00, 363.59it/s]\nEpoch : 191, Erro Médio : 34.11\n\r  0%|          | 0/165 [00:00<?, ?it/s]\r 22%|██▏       | 36/165 [00:00<00:00, 359.02it/s]\r 46%|████▌     | 76/165 [00:00<00:00, 382.92it/s]\r 70%|██████▉   | 115/165 [00:00<00:00, 381.76it/s]\r 94%|█████████▍| 155/165 [00:00<00:00, 388.49it/s]\r100%|██████████| 165/165 [00:00<00:00, 368.10it/s]\nEpoch : 192, Erro Médio : 34.01\n\r  0%|          | 0/165 [00:00<?, ?it/s]\r 18%|█▊        | 29/165 [00:00<00:00, 238.48it/s]\r 33%|███▎      | 54/165 [00:00<00:00, 244.61it/s]\r 55%|█████▍    | 90/165 [00:00<00:00, 292.42it/s]\r 76%|███████▌  | 125/165 [00:00<00:00, 313.76it/s]\r 95%|█████████▌| 157/165 [00:00<00:00, 284.90it/s]\r100%|██████████| 165/165 [00:00<00:00, 285.59it/s]\nEpoch : 193, Erro Médio : 33.90\n\r  0%|          | 0/165 [00:00<?, ?it/s]\r 23%|██▎       | 38/165 [00:00<00:00, 378.76it/s]\r 46%|████▌     | 76/165 [00:00<00:00, 302.30it/s]\r 70%|██████▉   | 115/165 [00:00<00:00, 335.95it/s]\r 91%|█████████ | 150/165 [00:00<00:00, 321.18it/s]\r100%|██████████| 165/165 [00:00<00:00, 327.43it/s]\nEpoch : 194, Erro Médio : 33.79\n\r  0%|          | 0/165 [00:00<?, ?it/s]\r 14%|█▍        | 23/165 [00:00<00:00, 225.34it/s]\r 35%|███▍      | 57/165 [00:00<00:00, 254.67it/s]\r 52%|█████▏    | 86/165 [00:00<00:00, 269.03it/s]\r 73%|███████▎  | 121/165 [00:00<00:00, 296.90it/s]\r 96%|█████████▌| 158/165 [00:00<00:00, 320.34it/s]\r100%|██████████| 165/165 [00:00<00:00, 298.80it/s]\nEpoch : 195, Erro Médio : 33.68\n\r  0%|          | 0/165 [00:00<?, ?it/s]\r 23%|██▎       | 38/165 [00:00<00:00, 379.27it/s]\r 46%|████▌     | 76/165 [00:00<00:00, 340.47it/s]\r 67%|██████▋   | 111/165 [00:00<00:00, 343.41it/s]\r 89%|████████▉ | 147/165 [00:00<00:00, 349.57it/s]\r100%|██████████| 165/165 [00:00<00:00, 351.93it/s]\nEpoch : 196, Erro Médio : 33.58\n\r  0%|          | 0/165 [00:00<?, ?it/s]\r 19%|█▉        | 31/165 [00:00<00:00, 302.21it/s]\r 38%|███▊      | 62/165 [00:00<00:00, 297.70it/s]\r 60%|██████    | 99/165 [00:00<00:00, 327.85it/s]\r 81%|████████  | 134/165 [00:00<00:00, 335.11it/s]\r100%|██████████| 165/165 [00:00<00:00, 329.64it/s]\nEpoch : 197, Erro Médio : 33.47\n\r  0%|          | 0/165 [00:00<?, ?it/s]\r 18%|█▊        | 29/165 [00:00<00:00, 284.33it/s]\r 39%|███▉      | 65/165 [00:00<00:00, 328.14it/s]\r 62%|██████▏   | 103/165 [00:00<00:00, 348.13it/s]\r 84%|████████▎ | 138/165 [00:00<00:00, 321.14it/s]\r100%|██████████| 165/165 [00:00<00:00, 327.56it/s]\nEpoch : 198, Erro Médio : 33.37\n\r  0%|          | 0/165 [00:00<?, ?it/s]\r 19%|█▉        | 31/165 [00:00<00:00, 307.46it/s]\r 40%|████      | 66/165 [00:00<00:00, 332.20it/s]\r 62%|██████▏   | 103/165 [00:00<00:00, 348.42it/s]\r 84%|████████▎ | 138/165 [00:00<00:00, 220.74it/s]\r100%|██████████| 165/165 [00:00<00:00, 263.42it/s]Epoch : 199, Erro Médio : 33.27\n\n"
     ]
    }
   ],
   "source": [
    "# Executa a função de treinamento e retorna o modelo e os erros\n",
    "model, losses = treina_glove(co_occ_mat)"
   ]
  },
  {
   "cell_type": "code",
   "execution_count": 0,
   "metadata": {
    "application/vnd.databricks.v1+cell": {
     "cellMetadata": {
      "byteLimit": 2048000,
      "rowLimit": 10000
     },
     "inputWidgets": {},
     "nuid": "76f8315e-bd34-48a5-b109-acd687dc166e",
     "showTitle": false,
     "title": ""
    }
   },
   "outputs": [],
   "source": [
    "# Função para o plot do erro durante o treinamento\n",
    "def plot_loss(losses, title):\n",
    "    plt.plot(range(len(losses)), losses)\n",
    "    plt.xlabel('Epoch')\n",
    "    plt.ylabel('Erro')\n",
    "    plt.title(title)\n",
    "    plt.figure()"
   ]
  },
  {
   "cell_type": "code",
   "execution_count": 0,
   "metadata": {
    "application/vnd.databricks.v1+cell": {
     "cellMetadata": {
      "byteLimit": 2048000,
      "rowLimit": 10000
     },
     "inputWidgets": {},
     "nuid": "e01c0028-7cd6-4dae-a520-4545d84d892c",
     "showTitle": false,
     "title": ""
    }
   },
   "outputs": [
    {
     "output_type": "display_data",
     "data": {
      "image/png": "[encoded data removed]"
     },
     "metadata": {
      "application/vnd.databricks.v1+output": {
       "addedWidgets": {},
       "arguments": {},
       "data": "data:image/png;base64,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\n",
       "datasetInfos": [],
       "metadata": {},
       "removedWidgets": [],
       "type": "image"
      }
     },
     "output_type": "display_data"
    },
    {
     "output_type": "stream",
     "name": "stdout",
     "output_type": "stream",
     "text": [
      "<Figure size 432x288 with 0 Axes>"
     ]
    }
   ],
   "source": [
    "# Plot\n",
    "plot_loss(losses, \"Erro de Treinamento do Modelo GloVe\")"
   ]
  },
  {
   "cell_type": "markdown",
   "metadata": {
    "application/vnd.databricks.v1+cell": {
     "cellMetadata": {},
     "inputWidgets": {},
     "nuid": "5b5a4159-6a8f-4661-8165-c4f2cb67fdf4",
     "showTitle": false,
     "title": ""
    },
    "collapsed": true
   },
   "source": [
    "### Prueba del modelo: similitud de palabras, analogías de palabras"
   ]
  },
  {
   "cell_type": "code",
   "execution_count": 0,
   "metadata": {
    "application/vnd.databricks.v1+cell": {
     "cellMetadata": {
      "byteLimit": 2048000,
      "rowLimit": 10000
     },
     "inputWidgets": {},
     "nuid": "0c3f087f-ab14-4cf6-bf72-e69afe954654",
     "showTitle": false,
     "title": ""
    }
   },
   "outputs": [],
   "source": [
    "# Função que retorna a embedding de uma palavra\n",
    "def get_palavra(palavra, modelo, word_to_ix):\n",
    "    return model.embeddings()[word_to_ix[palavra]]"
   ]
  },
  {
   "cell_type": "code",
   "execution_count": 0,
   "metadata": {
    "application/vnd.databricks.v1+cell": {
     "cellMetadata": {
      "byteLimit": 2048000,
      "rowLimit": 10000
     },
     "inputWidgets": {},
     "nuid": "11ceae79-12eb-4506-b5fd-fbc774810de3",
     "showTitle": false,
     "title": ""
    }
   },
   "outputs": [],
   "source": [
    "# Função para busca a palavra mais próxima\n",
    "def busca_palavra_similaridade(vec, word_to_ix, n = 10):\n",
    "    all_dists = [(w, torch.dist(vec, get_palavra(w, model, palavra_indice))) for w in palavra_indice]\n",
    "    return sorted(all_dists, key = lambda t: t[1])[:n]"
   ]
  },
  {
   "cell_type": "code",
   "execution_count": 0,
   "metadata": {
    "application/vnd.databricks.v1+cell": {
     "cellMetadata": {
      "byteLimit": 2048000,
      "rowLimit": 10000
     },
     "inputWidgets": {},
     "nuid": "0c21216c-e202-412f-9d80-1015fb6092e6",
     "showTitle": false,
     "title": ""
    }
   },
   "outputs": [
    {
     "output_type": "stream",
     "name": "stdout",
     "output_type": "stream",
     "text": [
      "tensor([-0.8124,  0.4461, -0.0417, -0.1518,  0.0632, -0.3407,  0.1344, -0.6267,\n         0.0087, -0.7566, -0.1689,  0.3453, -1.0164,  0.3653, -0.3159, -0.1771,\n         0.5706,  0.2765,  0.1343,  0.1048,  0.0100, -0.1674,  0.4323,  0.1150,\n         0.5706, -0.0101, -0.7458, -0.0673,  0.8554, -0.0564, -0.2410, -0.6863,\n         0.7776,  0.5171,  0.2089, -0.3077, -0.3359,  0.2384,  0.9176, -0.4044,\n        -0.2907, -0.5671, -0.2260,  0.1089, -0.5370, -0.1687,  0.0132, -0.3751,\n         0.2489,  0.1765])\n"
     ]
    }
   ],
   "source": [
    "# Gerando o vetor (embedding) de uma palavra \n",
    "vector = get_palavra(\"espaço\", model, palavra_indice)\n",
    "print(vector)"
   ]
  },
  {
   "cell_type": "code",
   "execution_count": 0,
   "metadata": {
    "application/vnd.databricks.v1+cell": {
     "cellMetadata": {
      "byteLimit": 2048000,
      "rowLimit": 10000
     },
     "inputWidgets": {},
     "nuid": "ee677e44-d51b-4870-a2c3-f587ab1f3707",
     "showTitle": false,
     "title": ""
    }
   },
   "outputs": [
    {
     "output_type": "stream",
     "name": "stdout",
     "output_type": "stream",
     "text": [
      "Out[34]: [('espaço', tensor(0.)),\n ('com', tensor(3.2506)),\n ('universo', tensor(3.3247)),\n ('tem', tensor(3.4120)),\n ('conseguiram', tensor(3.4813)),\n ('televisor', tensor(3.4892)),\n ('talvez', tensor(3.4942)),\n ('este', tensor(3.5274)),\n ('antes', tensor(3.5376)),\n ('através', tensor(3.5504))]"
     ]
    }
   ],
   "source": [
    "# Busca as palavras similares à palavra \"espaço\"\n",
    "busca_palavra_similaridade(vector, palavra_indice)"
   ]
  },
  {
   "cell_type": "markdown",
   "metadata": {
    "application/vnd.databricks.v1+cell": {
     "cellMetadata": {},
     "inputWidgets": {},
     "nuid": "978eae40-a229-45e9-8805-2d875101a2b4",
     "showTitle": false,
     "title": ""
    }
   },
   "source": [
    "Tenga en cuenta que la palabra \"espaço\" tiene una distancia de 0 a sí misma. La siguiente palabra más parecida a \"espaço\" es \"universo\" y así sucesivamente. Cuanto menor es la distancia, más similar es la palabra. Recordando que la búsqueda de similitud se realiza con incrustaciones entrenadas con el modelo GloVe.\n",
    "\n",
    "Un ejemplo más:"
   ]
  },
  {
   "cell_type": "code",
   "execution_count": 0,
   "metadata": {
    "application/vnd.databricks.v1+cell": {
     "cellMetadata": {
      "byteLimit": 2048000,
      "rowLimit": 10000
     },
     "inputWidgets": {},
     "nuid": "45e897a2-2535-4176-9ece-b1fde1cedd99",
     "showTitle": false,
     "title": ""
    }
   },
   "outputs": [
    {
     "output_type": "stream",
     "name": "stdout",
     "output_type": "stream",
     "text": [
      "tensor([-0.1951,  0.3110, -0.0907,  0.1752, -0.9766, -0.2297,  0.3181, -0.6242,\n         0.4854, -0.2998,  0.5989, -0.4750, -1.2872,  0.2068,  0.7288,  0.0038,\n         0.7825,  0.4018, -0.2249, -0.1218,  0.4646,  0.3519,  0.1978, -0.3781,\n         0.6467,  0.2827,  0.0761, -0.5785, -0.0313, -0.4178,  0.1871, -0.8378,\n        -0.5030, -0.0676, -0.0708, -0.2656, -0.2206,  0.4176,  0.2576,  0.4173,\n        -0.2937,  0.1630,  0.4713, -0.5308,  0.3733,  1.0390, -0.2984, -0.3248,\n         1.2026, -0.2603])\n"
     ]
    }
   ],
   "source": [
    "# Gerando o vetor (embedding) de uma palavra \n",
    "vector = get_palavra(\"solar\", model, palavra_indice)\n",
    "print(vector)"
   ]
  },
  {
   "cell_type": "code",
   "execution_count": 0,
   "metadata": {
    "application/vnd.databricks.v1+cell": {
     "cellMetadata": {
      "byteLimit": 2048000,
      "rowLimit": 10000
     },
     "inputWidgets": {},
     "nuid": "62fd761c-c1c8-4c66-b217-de94b8d95dcc",
     "showTitle": false,
     "title": ""
    }
   },
   "outputs": [
    {
     "output_type": "stream",
     "name": "stdout",
     "output_type": "stream",
     "text": [
      "Out[36]: [('solar', tensor(0.)),\n ('energia', tensor(3.0561)),\n ('à', tensor(3.6276)),\n ('meu', tensor(3.7016)),\n ('pois', tensor(3.7106)),\n ('carregar', tensor(3.7595)),\n ('gritando', tensor(3.7608)),\n ('computador', tensor(3.7706)),\n ('pensar', tensor(3.7959)),\n ('ficaremos', tensor(3.8081))]"
     ]
    }
   ],
   "source": [
    "# Busca as palavras similares à palavra \"solar\"\n",
    "busca_palavra_similaridade(vector, palavra_indice)"
   ]
  },
  {
   "cell_type": "markdown",
   "metadata": {
    "application/vnd.databricks.v1+cell": {
     "cellMetadata": {},
     "inputWidgets": {},
     "nuid": "35f2d7b0-eba8-4fb6-b280-aa2e8c171983",
     "showTitle": false,
     "title": ""
    }
   },
   "source": [
    "La distancia de la palabra \"solar\" a sí misma es 0 y la palabra con la mayor similitud es \"energia\", lo que tiene mucho sentido si lees el texto de Asimov que se usó para entrenar el modelo."
   ]
  },
  {
   "cell_type": "markdown",
   "metadata": {
    "application/vnd.databricks.v1+cell": {
     "cellMetadata": {},
     "inputWidgets": {},
     "nuid": "2325366f-b528-48d4-8861-d534dfce655e",
     "showTitle": false,
     "title": ""
    }
   },
   "source": [
    "### Analogía\n",
    "\n",
    "![glove](https://user-images.githubusercontent.com/97414922/234107809-9e83540b-9524-469d-9c34-1f9f412177a6.png)"
   ]
  },
  {
   "cell_type": "markdown",
   "metadata": {
    "application/vnd.databricks.v1+cell": {
     "cellMetadata": {},
     "inputWidgets": {},
     "nuid": "8ad88726-3c6e-4c80-96f8-10874551c802",
     "showTitle": false,
     "title": ""
    }
   },
   "source": [
    "Tenga en cuenta en la imagen de arriba que creamos una \"fórmula\" con 3 palabras para buscar la cuarta palabra, lo cual se hace por analogía con incrustaciones (vectores de palabras).\n",
    "\n",
    "Luego creamos una función para buscar la palabra por analogía en el formato:\n",
    "\n",
    "palabra1 : palabra2 :: palabra3 : ?"
   ]
  },
  {
   "cell_type": "code",
   "execution_count": 0,
   "metadata": {
    "application/vnd.databricks.v1+cell": {
     "cellMetadata": {
      "byteLimit": 2048000,
      "rowLimit": 10000
     },
     "inputWidgets": {},
     "nuid": "85e8b10b-b80d-4f64-ab4e-fdb05bc5d4b1",
     "showTitle": false,
     "title": ""
    }
   },
   "outputs": [],
   "source": [
    "# Função para busca de palavra por analogia\n",
    "def busca_analogia(p1, p2, p3, n = 5, filtro = True):\n",
    "    \n",
    "    # Print\n",
    "    print('\\n[%s : %s :: %s : ?]' % (p1, p2, p3))\n",
    "   \n",
    "    # p2 - p1 + p3 = p4\n",
    "    closest_words = busca_palavra_similaridade(get_palavra(p2, model, palavra_indice) - \n",
    "                                               get_palavra(p1, model, palavra_indice) + \n",
    "                                               get_palavra(p3, model, palavra_indice), \n",
    "                                               palavra_indice)\n",
    "    \n",
    "    # Vamos excluir as 3 palavras passadas como parâmetro\n",
    "    if filtro:\n",
    "        closest_words = [t for t in closest_words if t[0] not in [p1, p2, p3]]\n",
    "        \n",
    "    for tuple in closest_words[:n]:\n",
    "        print('(%.4f) %s' % (tuple[1], tuple[0]))"
   ]
  },
  {
   "cell_type": "code",
   "execution_count": 0,
   "metadata": {
    "application/vnd.databricks.v1+cell": {
     "cellMetadata": {
      "byteLimit": 2048000,
      "rowLimit": 10000
     },
     "inputWidgets": {},
     "nuid": "3520629f-669f-462d-a216-dff68f1cb65f",
     "showTitle": false,
     "title": ""
    }
   },
   "outputs": [
    {
     "output_type": "stream",
     "name": "stdout",
     "output_type": "stream",
     "text": [
      "\n[família : crianças :: humano : ?]\n(5.4021) computador\n(5.4145) fundamentação\n(5.5664) dessas\n(5.6181) ridículo\n(5.7700) vagarosamente\n"
     ]
    }
   ],
   "source": [
    "# Busca por analogia\n",
    "busca_analogia(\"família\", \"crianças\", \"humano\")"
   ]
  },
  {
   "cell_type": "markdown",
   "metadata": {
    "application/vnd.databricks.v1+cell": {
     "cellMetadata": {},
     "inputWidgets": {},
     "nuid": "17e24609-5325-45b4-86c1-8013373b5521",
     "showTitle": false,
     "title": ""
    }
   },
   "source": [
    "Y ahí están las palabras que mejor se ajustan a la cuarta palabra, según nuestro modelo.\n",
    "\n",
    "¡A mayor distancia, menor similitud! Entrena al modelo con tus propios textos y experimenta con la búsqueda de similitud."
   ]
  },
  {
   "cell_type": "markdown",
   "metadata": {
    "application/vnd.databricks.v1+cell": {
     "cellMetadata": {},
     "inputWidgets": {},
     "nuid": "bb1e62df-daa4-49b9-afd4-3157758a0655",
     "showTitle": false,
     "title": ""
    },
    "collapsed": true
   },
   "source": [
    "# Fin"
   ]
  }
 ],
 "metadata": {
  "anaconda-cloud": {},
  "application/vnd.databricks.v1+notebook": {
   "dashboards": [],
   "language": "python",
   "notebookMetadata": {
    "pythonIndentUnit": 2
   },
   "notebookName": "GloVe_script",
   "notebookOrigID": 2149675970377271,
   "widgets": {}
  },
  "kernelspec": {
   "display_name": "Python 3",
   "language": "python",
   "name": "python3"
  },
  "language_info": {
   "codemirror_mode": {
    "name": "ipython",
    "version": 3
   },
   "file_extension": ".py",
   "mimetype": "text/x-python",
   "name": "python",
   "nbconvert_exporter": "python",
   "pygments_lexer": "ipython3",
   "version": "3.7.6"
  }
 },
 "nbformat": 4,
 "nbformat_minor": 0
}
