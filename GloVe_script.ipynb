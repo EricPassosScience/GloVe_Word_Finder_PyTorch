{
 "cells": [
  {
   "cell_type": "code",
   "execution_count": 0,
   "metadata": {
    "application/vnd.databricks.v1+cell": {
     "cellMetadata": {
      "byteLimit": 2048000,
      "rowLimit": 10000
     },
     "inputWidgets": {},
     "nuid": "f5999348-bda4-4d6c-9e0e-d4aa8243d2e4",
     "showTitle": false,
     "title": ""
    }
   },
   "outputs": [
    {
     "output_type": "stream",
     "name": "stdout",
     "output_type": "stream",
     "text": [
      "Versão da Linguagem Python Usada Neste Jupyter Notebook: 3.9.5\n"
     ]
    }
   ],
   "source": [
    "# Versão da Linguagem Python\n",
    "from platform import python_version\n",
    "print('Versão da Linguagem Python Usada Neste Jupyter Notebook:', python_version())"
   ]
  },
  {
   "cell_type": "code",
   "execution_count": 0,
   "metadata": {
    "application/vnd.databricks.v1+cell": {
     "cellMetadata": {
      "byteLimit": 2048000,
      "rowLimit": 10000
     },
     "inputWidgets": {},
     "nuid": "4cf22ec9-b8d4-4620-8e7f-764865f3f14e",
     "showTitle": false,
     "title": ""
    }
   },
   "outputs": [
    {
     "output_type": "stream",
     "name": "stdout",
     "output_type": "stream",
     "text": [
      "\u001B[33mWARNING: You are using pip version 21.2.4; however, version 23.1.1 is available.\r\nYou should consider upgrading via the '/local_disk0/.ephemeral_nfs/envs/pythonEnv-e3f9d523-c5dd-4f8f-8ac4-c487a764a4b7/bin/python -m pip install --upgrade pip' command.\u001B[0m\r\n"
     ]
    }
   ],
   "source": [
    "# Instala o pacote watermark. \n",
    "# Esse pacote é usado para gravar as versões de outros pacotes usados neste jupyter notebook.\n",
    "!pip install -q -U watermark"
   ]
  },
  {
   "cell_type": "code",
   "execution_count": 0,
   "metadata": {
    "application/vnd.databricks.v1+cell": {
     "cellMetadata": {
      "byteLimit": 2048000,
      "rowLimit": 10000
     },
     "inputWidgets": {},
     "nuid": "2f1ea8fa-c53c-4661-b80a-18555e226e0f",
     "showTitle": false,
     "title": ""
    }
   },
   "outputs": [
    {
     "output_type": "stream",
     "name": "stdout",
     "output_type": "stream",
     "text": [
      "\u001B[33mWARNING: You are using pip version 21.2.4; however, version 23.1.1 is available.\r\nYou should consider upgrading via the '/local_disk0/.ephemeral_nfs/envs/pythonEnv-e3f9d523-c5dd-4f8f-8ac4-c487a764a4b7/bin/python -m pip install --upgrade pip' command.\u001B[0m\r\n"
     ]
    }
   ],
   "source": [
    "# Instala o PyTorch\n",
    "!pip install -q torch "
   ]
  },
  {
   "cell_type": "code",
   "execution_count": 0,
   "metadata": {
    "application/vnd.databricks.v1+cell": {
     "cellMetadata": {
      "byteLimit": 2048000,
      "rowLimit": 10000
     },
     "inputWidgets": {},
     "nuid": "58d1f13a-1f8a-4f94-a985-70e4b6b7fc4f",
     "showTitle": false,
     "title": ""
    }
   },
   "outputs": [
    {
     "output_type": "stream",
     "name": "stdout",
     "output_type": "stream",
     "text": [
      "[nltk_data] Downloading package punkt to /root/nltk_data...\n[nltk_data]   Unzipping tokenizers/punkt.zip.\nOut[4]: True"
     ]
    }
   ],
   "source": [
    "# Import e Dowload NLTK\n",
    "import nltk\n",
    "nltk.download('punkt') "
   ]
  },
  {
   "cell_type": "code",
   "execution_count": 0,
   "metadata": {
    "application/vnd.databricks.v1+cell": {
     "cellMetadata": {
      "byteLimit": 2048000,
      "rowLimit": 10000
     },
     "inputWidgets": {},
     "nuid": "f1af3bb0-df73-4896-a8ee-a2c457db3409",
     "showTitle": false,
     "title": ""
    }
   },
   "outputs": [
    {
     "output_type": "stream",
     "name": "stdout",
     "output_type": "stream",
     "text": [
      "Out[5]: <torch._C.Generator at 0x7f474460f410>"
     ]
    }
   ],
   "source": [
    "# Imports\n",
    "import torch\n",
    "import numpy as np\n",
    "import torch.nn as nn\n",
    "import torch.optim as optim\n",
    "import matplotlib\n",
    "import matplotlib.pyplot as plt\n",
    "from tqdm import tqdm\n",
    "from torch.autograd import Variable\n",
    "from nltk.tokenize import word_tokenize\n",
    "%matplotlib inline\n",
    "torch.manual_seed(1)"
   ]
  },
  {
   "cell_type": "code",
   "execution_count": 0,
   "metadata": {
    "application/vnd.databricks.v1+cell": {
     "cellMetadata": {
      "byteLimit": 2048000,
      "rowLimit": 10000
     },
     "inputWidgets": {},
     "nuid": "40c5b2a6-819a-4770-b689-7849903811ac",
     "showTitle": false,
     "title": ""
    }
   },
   "outputs": [
    {
     "output_type": "stream",
     "name": "stdout",
     "output_type": "stream",
     "text": [
      "Author: Eric Passos\n\nnltk      : 3.6.5\ntorch     : 1.12.1+cpu\nnumpy     : 1.20.3\nmatplotlib: 3.4.3\n\n"
     ]
    }
   ],
   "source": [
    "# Versões dos pacotes usados neste jupyter notebook\n",
    "%reload_ext watermark\n",
    "%watermark -a \"Eric Passos\" --iversions"
   ]
  },
  {
   "cell_type": "code",
   "execution_count": 0,
   "metadata": {
    "application/vnd.databricks.v1+cell": {
     "cellMetadata": {
      "byteLimit": 2048000,
      "rowLimit": 10000
     },
     "inputWidgets": {},
     "nuid": "9a09b029-1863-43f2-ab27-0dafb6c2612d",
     "showTitle": false,
     "title": ""
    }
   },
   "outputs": [],
   "source": [
    "# Abre o arquivo para leitura e carrega na variável arquivo_texto\n",
    "arquivo_texto = open('/dbfs/FileStore/shared_uploads/eric.passos@dataside.com.br/asimov.txt', 'r')\n",
    "\n",
    "# Converte as palavars para minúsculo\n",
    "texto = arquivo_texto.read().lower()"
   ]
  },
  {
   "cell_type": "code",
   "execution_count": 0,
   "metadata": {
    "application/vnd.databricks.v1+cell": {
     "cellMetadata": {
      "byteLimit": 2048000,
      "rowLimit": 10000
     },
     "inputWidgets": {},
     "nuid": "7b0df2f6-f4c6-4837-9302-8738303acd95",
     "showTitle": false,
     "title": ""
    }
   },
   "outputs": [],
   "source": [
    "# Fecha o arquivo\n",
    "arquivo_texto.close()"
   ]
  },
  {
   "cell_type": "code",
   "execution_count": 0,
   "metadata": {
    "application/vnd.databricks.v1+cell": {
     "cellMetadata": {
      "byteLimit": 2048000,
      "rowLimit": 10000
     },
     "inputWidgets": {},
     "nuid": "dc697432-e895-4acf-951a-4e126f086c32",
     "showTitle": false,
     "title": ""
    }
   },
   "outputs": [],
   "source": [
    "# Tokenização do texto\n",
    "texto_token = word_tokenize(texto)"
   ]
  },
  {
   "cell_type": "code",
   "execution_count": 0,
   "metadata": {
    "application/vnd.databricks.v1+cell": {
     "cellMetadata": {
      "byteLimit": 2048000,
      "rowLimit": 10000
     },
     "inputWidgets": {},
     "nuid": "f84751ab-9ca5-42f9-8a3a-ae3372e6c91e",
     "showTitle": false,
     "title": ""
    }
   },
   "outputs": [],
   "source": [
    "# Variável para o comprimento total dos tokens\n",
    "comp_tokens = len(texto_token)"
   ]
  },
  {
   "cell_type": "code",
   "execution_count": 0,
   "metadata": {
    "application/vnd.databricks.v1+cell": {
     "cellMetadata": {
      "byteLimit": 2048000,
      "rowLimit": 10000
     },
     "inputWidgets": {},
     "nuid": "97b31280-a98c-4265-8dce-47e25fc5b079",
     "showTitle": false,
     "title": ""
    }
   },
   "outputs": [
    {
     "output_type": "stream",
     "name": "stdout",
     "output_type": "stream",
     "text": [
      "Número de Tokens:  5282\n"
     ]
    }
   ],
   "source": [
    "print(\"Número de Tokens: \", comp_tokens)"
   ]
  },
  {
   "cell_type": "markdown",
   "metadata": {
    "application/vnd.databricks.v1+cell": {
     "cellMetadata": {},
     "inputWidgets": {},
     "nuid": "5dce273b-0e26-4522-a5e4-b73e67c75cc7",
     "showTitle": false,
     "title": ""
    }
   },
   "source": [
    "### Crear el vocabulario"
   ]
  },
  {
   "cell_type": "code",
   "execution_count": 0,
   "metadata": {
    "application/vnd.databricks.v1+cell": {
     "cellMetadata": {
      "byteLimit": 2048000,
      "rowLimit": 10000
     },
     "inputWidgets": {},
     "nuid": "9433c1bc-3516-444c-b90a-6b5d3e1d20ed",
     "showTitle": false,
     "title": ""
    }
   },
   "outputs": [
    {
     "output_type": "stream",
     "name": "stdout",
     "output_type": "stream",
     "text": [
      "Tamanho do Vocabulário: 1397\n"
     ]
    }
   ],
   "source": [
    "# Criando o vocabulário\n",
    "vocab = set(texto_token)\n",
    "vocab_size = len(vocab)\n",
    "print(\"Tamanho do Vocabulário:\", vocab_size)"
   ]
  },
  {
   "cell_type": "code",
   "execution_count": 0,
   "metadata": {
    "application/vnd.databricks.v1+cell": {
     "cellMetadata": {
      "byteLimit": 2048000,
      "rowLimit": 10000
     },
     "inputWidgets": {},
     "nuid": "c8903a70-3700-4ecb-ba5c-9d07408bedf7",
     "showTitle": false,
     "title": ""
    }
   },
   "outputs": [
    {
     "output_type": "stream",
     "name": "stdout",
     "output_type": "stream",
     "text": [
      "Out[13]: {'vez': 0,\n 'nos': 1,\n 'respondida': 2,\n 'nem': 3,\n 'largo': 4,\n 'turbilhões': 5,\n 'para': 6,\n 'parte': 7,\n 'ela': 8,\n 'esbanjadoras': 9,\n 'capazes': 10,\n 'altos': 11,\n 'antigo': 12,\n 'lábios': 13,\n 'entender': 14,\n 'letras': 15,\n 'escolhido': 16,\n 'peso': 17,\n 'deu': 18,\n 'proporções.': 19,\n 'único': 20,\n 'levou': 21,\n 'dobra': 22,\n 'estão': 23,\n 'hà': 24,\n 'feixes': 25,\n 'maneira': 26,\n 'aproveitamos': 27,\n 'história': 28,\n 'tinham': 29,\n 'gelo': 30,\n 'lar.': 31,\n 'benéfico': 32,\n 'fino': 33,\n 'momentos': 34,\n 'através': 35,\n 'só': 36,\n 'meu': 37,\n 'precisavam': 38,\n 'à': 39,\n 'precisar': 40,\n 'ajustava-se': 41,\n 'circuitos': 42,\n 'possa': 43,\n 'polegadas': 44,\n 'leu': 45,\n 'milhões': 46,\n 'nada': 47,\n 'inserida': 48,\n 'sozinho': 49,\n 'gasto': 50,\n 'anjinhos': 51,\n 'agora': 52,\n 'gentil': 53,\n 'sensação': 54,\n 'trocar': 55,\n 'explosão': 56,\n 'destruídas': 57,\n 'fazer': 58,\n 'orbitando': 59,\n 'terminar': 60,\n 'estelar': 61,\n 'eternidade': 62,\n 'fumaça': 63,\n 'termos': 64,\n 'lembrar': 65,\n 'abaixo': 66,\n 'atenção': 67,\n 'nossos': 68,\n 'pensamentos': 69,\n 'direito': 70,\n 'adicionais.': 71,\n 'computador': 72,\n 'ridículo': 73,\n 'prontamente': 74,\n 'papai': 75,\n 'pálpebras': 76,\n 'cósmica': 77,\n 'princípio': 78,\n 'computação': 79,\n 'tubo': 80,\n 'incomodado': 81,\n 'aumentar': 82,\n 'devem': 83,\n 'contaremos': 84,\n 'incrível': 85,\n 'caos': 86,\n 'grande': 87,\n 'hesitei': 88,\n 'populações': 89,\n 'vida': 90,\n 'utilização': 91,\n 'descansar': 92,\n 'significativa.': 93,\n 'mental': 94,\n 'unidades': 95,\n 'robô': 96,\n 'ficando': 97,\n 'a': 98,\n 'segredo': 99,\n 'aparências': 100,\n 'verdadeira': 101,\n 'fissões': 102,\n 'apagam': 103,\n 'acender': 104,\n 'transformar': 105,\n 'ocupada': 106,\n '!': 107,\n 'visto': 108,\n 'onde': 109,\n 'esta': 110,\n 'pelo': 111,\n 'vaga': 112,\n 'iremos': 113,\n 'poucos': 114,\n 'enormes': 115,\n 'progressão': 116,\n 'hiperespacial': 117,\n 'sentido': 118,\n 'controlada': 119,\n 'volume': 120,\n 'risadas': 121,\n 'necessidades': 122,\n 'expandiu': 123,\n 'corrigia-se': 124,\n 'daquela': 125,\n 'diretamente': 126,\n 'continuava': 127,\n 'reconstruir': 128,\n 'fixou': 129,\n 'solucionou': 130,\n 'anã': 131,\n 'utensílios': 132,\n 'fim': 133,\n 'pai': 134,\n 'ter': 135,\n 'tom': 136,\n 'migração': 137,\n 'tenho': 138,\n 'podiam': 139,\n 'urânio': 140,\n 'sequer': 141,\n 'pára': 142,\n 'colocar': 143,\n 'pontilhavam': 144,\n 'conheciam': 145,\n 'muitas': 146,\n 'complexo': 147,\n 'eles': 148,\n 'primitivo': 149,\n 'domou': 150,\n 'berço': 151,\n 'conhecimento': 152,\n 'aos': 153,\n 'tristeza': 154,\n 'certamente': 155,\n 'cheguei': 156,\n 'adicionando': 157,\n 'perguntas': 158,\n 'funções': 159,\n 'mundo': 160,\n 'pequeno': 161,\n 'terão': 162,\n 'mil': 163,\n 'aguardar': 164,\n 'observavam': 165,\n 'abarcou': 166,\n 'ir': 167,\n 'agite-os': 168,\n 'cem': 169,\n 'conhecido': 170,\n 'presença': 171,\n '*': 172,\n 'ocupado': 173,\n 'concebíveis': 174,\n 'planetários': 175,\n 'semelhanças': 176,\n 'terá': 177,\n 'sóbrio': 178,\n 'muitos': 179,\n 'pareciam': 180,\n 'ver': 181,\n 'outras': 182,\n 'devíamos': 183,\n 'disponível': 184,\n 'dispensou': 185,\n 'falando': 186,\n 'jeito': 187,\n 'vou.': 188,\n 'diminuir': 189,\n 'ajustavam': 190,\n 'há': 191,\n 'entropia': 192,\n 'destruí-lo': 193,\n 'ano': 194,\n 'ele': 195,\n 'nadando': 196,\n 'construir': 197,\n 'afigurava': 198,\n 'antigos': 199,\n 'bisneto': 200,\n 'acabaram': 201,\n 'definição': 202,\n 'encontrar-se': 203,\n 'são': 204,\n 'pessoas': 205,\n 'indivíduos': 206,\n 'crescente': 207,\n 'teve': 208,\n 'tanto': 209,\n 'parece-me': 210,\n 'nas': 211,\n 'morto': 212,\n 'conhecimentos': 213,\n 'perguntar': 214,\n 'duzentos': 215,\n 'abandonar': 216,\n 'dados': 217,\n 'ombros': 218,\n 'em': 219,\n 'sentiríamos': 220,\n 'fizeram': 221,\n 'erguido': 222,\n 'deixava': 223,\n 'cujo': 224,\n 'bêbado': 225,\n 'ficou': 226,\n 'colapso': 227,\n 'quadradas': 228,\n 'voltando': 229,\n 'guardava': 230,\n 'modo': 231,\n 'reconstituir': 232,\n 'álcool': 233,\n 'distantes': 234,\n 'pensaria': 235,\n 'colete': 236,\n 'tentar': 237,\n 'subutilizado': 238,\n 'povoado.': 239,\n 'sabemos': 240,\n 'suspensão': 241,\n 'nós': 242,\n 'conta': 243,\n 'asperamente': 244,\n 'chorar': 245,\n 'algo': 246,\n 'saiba.': 247,\n 'possível': 248,\n 'oh': 249,\n 'fazia-se': 250,\n 'personagem': 251,\n 'simples': 252,\n 'fria': 253,\n 'viagem': 254,\n 'precisa': 255,\n 'cama': 256,\n 'soltou-se': 257,\n 'e': 258,\n 'família': 259,\n 'microvac': 260,\n 'poderíamos': 261,\n '14': 262,\n 'nenhuma': 263,\n 'duram': 264,\n 'pigarreou': 265,\n 'famílias': 266,\n 'foram': 267,\n 'oceano': 268,\n 'qualquer': 269,\n 'certo': 270,\n 'dignidade': 271,\n 'intenção': 272,\n 'multivac.': 273,\n 'pergunte': 274,\n 'carregar': 275,\n 'incorruptível': 276,\n 'mais.': 277,\n 'viram': 278,\n 'fraco': 279,\n 'seu': 280,\n 'dê': 281,\n 'perguntou': 282,\n '(': 283,\n 'incrivelmente': 284,\n 'pequenas': 285,\n 'algumas': 286,\n 'deus': 287,\n 'coleta': 288,\n 'pensar': 289,\n 'branca.': 290,\n 'consistia': 291,\n 'crianças': 292,\n 'época': 293,\n 'vou': 294,\n 'lameth': 295,\n 'finos': 296,\n 'zero': 297,\n 'merecer': 298,\n 'abriu': 299,\n 'partir': 300,\n 'isso': 301,\n 'noção': 302,\n 'novo.': 303,\n 'procurá-los': 304,\n 'passos': 305,\n 'agora.': 306,\n 'viviam': 307,\n 'jerrodette': 308,\n 'sala': 309,\n 'suspirou': 310,\n 'chamava': 311,\n 'outra.': 312,\n 'pararam': 313,\n 'toda': 314,\n 'retornaram': 315,\n 'perdeu-se': 316,\n 'bert.': 317,\n 'cruzados': 318,\n 'opacas': 319,\n 'duas.': 320,\n 'era': 321,\n 'morreram': 322,\n 'olhos': 323,\n 'foi': 324,\n 'sim': 325,\n 'velocidade': 326,\n 'metal': 327,\n 'função': 328,\n 'iriam.': 329,\n 'agitada': 330,\n 'mq-17j': 331,\n 'novas': 332,\n 'organizou': 333,\n 'quantidade': 334,\n 'natureza': 335,\n 'teoria': 336,\n 'pouco.': 337,\n 'terra': 338,\n 'apagarem': 339,\n 'alimentava': 340,\n 'aquela': 341,\n 'enredar': 342,\n 'girando': 343,\n 'cúbicas': 344,\n 'eles.': 345,\n 'estas': 346,\n 'restos': 347,\n 'maio': 348,\n 'desajeitadas': 349,\n 'recuperá-la': 350,\n 'alavanca': 351,\n 'geração': 352,\n 'parar': 353,\n 'alimentavam': 354,\n 'paisagem': 355,\n 'estiverem': 356,\n 'comprimento': 357,\n 'orientação': 358,\n 'fez': 359,\n 'possamos': 360,\n 'superficialmente': 361,\n 'ficaram': 362,\n 'sob': 363,\n 'aconteça': 364,\n 'relatório': 365,\n 'peça': 366,\n 'correr': 367,\n 'precisaremos': 368,\n 'idade': 369,\n 'quantas': 370,\n 'me': 371,\n 'exploração': 372,\n 'poupada': 373,\n 'primeiros': 374,\n 'conectou': 375,\n 'eventualmente': 376,\n 'pergunta.': 377,\n 'incomodá-lo': 378,\n 'mãe': 379,\n 'nunca.': 380,\n 'estarão': 381,\n 'experimentado': 382,\n 'disso': 383,\n 'faziam-se': 384,\n 'pausa': 385,\n 'nossa': 386,\n 'conseguiria': 387,\n 'observando': 388,\n 'acabado.': 389,\n 'assim': 390,\n 'ah': 391,\n 'milhão': 392,\n 'ouvimos': 393,\n 'te': 394,\n 'implementadas': 395,\n 'super': 396,\n 'colidirse': 397,\n 'passado': 398,\n 'breve': 399,\n 'lhe': 400,\n 'seca': 401,\n 'metálica': 402,\n 'lentamente': 403,\n 'cercava-os': 404,\n 'das': 405,\n 'importava': 406,\n 'cósmico': 407,\n 'adequada': 408,\n 'receptores': 409,\n 'consumava-se': 410,\n 'permanecia': 411,\n 'força': 412,\n 'transporte': 413,\n 'saber': 414,\n 'segurar': 415,\n 'teremos': 416,\n 'palavra': 417,\n 'no': 418,\n 'porções': 419,\n 'coletar': 420,\n 'dissipado': 421,\n 'anos…': 422,\n 'título': 423,\n 'gás': 424,\n 'pálidas': 425,\n 'dava': 426,\n 'computer': 427,\n 'milhas': 428,\n 'imerso': 429,\n 'costas': 430,\n 'olhou': 431,\n 'grupo': 432,\n 'máquina': 433,\n 'recursos': 434,\n 'energética': 435,\n 'três': 436,\n 'leve': 437,\n 'inglês': 438,\n 'necessário': 439,\n 'deixar': 440,\n 'intervalo': 441,\n 'início': 442,\n 'pioneira': 443,\n 'apagar': 444,\n 'anãs': 445,\n 'demanda': 446,\n 'afinal': 447,\n 'produzia': 448,\n 'veio': 449,\n 'anos': 450,\n 'sete': 451,\n 'perfeitos': 452,\n 'respondeu': 453,\n 'crianças.': 454,\n 'talvez': 455,\n 'permanecem': 456,\n 'elas': 457,\n 'programa': 458,\n 'responder': 459,\n 'obtidos': 460,\n 'pessoal': 461,\n 'viagens': 462,\n 'suas': 463,\n 'nunca': 464,\n 'chegamos': 465,\n 'seguros': 466,\n 'nisso': 467,\n 'reduzido': 468,\n 'assustadas': 469,\n 'trilhão': 470,\n 'corpo': 471,\n 'infinidade': 472,\n 'construídas': 473,\n 'haverá': 474,\n 'permitindo': 475,\n 'atividade': 476,\n 'quanto': 477,\n 'estalos': 478,\n 'suficiente': 479,\n 'silenciassem': 480,\n 'trilhões': 481,\n 'idéia': 482,\n 'únicos': 483,\n 'servia': 484,\n 'pensando': 485,\n '–': 486,\n 'computadores': 487,\n 'nova': 488,\n 'diante': 489,\n 'câmaras': 490,\n 'insuficientes': 491,\n 'válvulas': 492,\n 'navegou': 493,\n 'já': 494,\n 'mentes': 495,\n 'igualmente': 496,\n 'antes': 497,\n 'negros': 498,\n 'entanto': 499,\n 'tomou': 500,\n 'quantos': 501,\n 'do': 502,\n 'o': 503,\n 'rosto': 504,\n 'recebido': 505,\n 'assentava': 506,\n 'desafio': 507,\n 'parede': 508,\n 'dor': 509,\n 'operações': 510,\n 'sido': 511,\n 'interestelar': 512,\n 'sobrepujou': 513,\n 'tomaria': 514,\n 'permaneçam': 515,\n 'palavras': 516,\n 'como': 517,\n 'acelerada': 518,\n 'acs': 519,\n 'estava': 520,\n 'deixou': 521,\n 'suficientes': 522,\n 'fração': 523,\n 'pois': 524,\n 'tudo.': 525,\n 'retirou': 526,\n 'carga': 527,\n 'lugar': 528,\n 'fulgurante': 529,\n 'passo': 530,\n 'lá': 531,\n 'agir': 532,\n 'fornecer': 533,\n 'jerodettes': 534,\n 'questão': 535,\n 'trate': 536,\n 'suponho': 537,\n 'ajudar.': 538,\n 'agradecer': 539,\n 'graça': 540,\n 'operavam': 541,\n 'acerca': 542,\n 'habitava': 543,\n 'negro': 544,\n 'feliz': 545,\n 'acaba': 546,\n 'apagaram': 547,\n 'torna': 548,\n 'vazio': 549,\n 'quietas': 550,\n 'acostumei': 551,\n 'novos': 552,\n 'sabia': 553,\n 'seguinte': 554,\n 'perda': 555,\n 'absoluto': 556,\n 'remoto': 557,\n 'forma': 558,\n 'plano': 559,\n 'erguiam-se': 560,\n 'livremente': 561,\n 'definições': 562,\n 'desperdiçada': 563,\n 'começaram': 564,\n 'cálculos': 565,\n 'acho': 566,\n 'estações': 567,\n 'dos': 568,\n 'queria': 569,\n 'feito.': 570,\n 'homem': 571,\n 'curioso.': 572,\n 'ocasionalmente': 573,\n 'enquanto': 574,\n 'estação': 575,\n 'abrigando': 576,\n 'passagem': 577,\n 'realmente': 578,\n 'chuva': 579,\n 'sou': 580,\n 'podemos': 581,\n 'trêmulo': 582,\n 'gole': 583,\n 'infinito': 584,\n 'diabos': 585,\n 'receptor': 586,\n 'descansaram': 587,\n 'lembra': 588,\n 'reflexiva': 589,\n 'emendando': 590,\n 'saber.': 591,\n 'apreciavam': 592,\n 'espesso': 593,\n 'processando': 594,\n 'companhia': 595,\n 'mais': 596,\n 'impressas': 597,\n 'eons': 598,\n 'visor': 599,\n 'pudesse': 600,\n 'haviam': 601,\n 'molhada': 602,\n 'homens': 603,\n 'precisávamos': 604,\n 'ligar': 605,\n 'tudo': 606,\n 'morrendo': 607,\n 'porque': 608,\n 'contrariar': 609,\n 'capturada': 610,\n 'parou': 611,\n 'desaparecendo': 612,\n 'jerrodine': 613,\n 'zee': 614,\n 'parcos': 615,\n 'desde': 616,\n 'posta': 617,\n 'trás': 618,\n 'esfumaçados': 619,\n 'cinco': 620,\n 'incidente': 621,\n 'chamados': 622,\n 'planetária': 623,\n 'punhado': 624,\n 'informações': 625,\n 'estrela': 626,\n 'profundas': 627,\n 'técnicos': 628,\n 'sub-galácticas': 629,\n 'acabar': 630,\n 'segundo': 631,\n 'tampouco': 632,\n 'relaxar': 633,\n '100': 634,\n 'vai': 635,\n 'velhas': 636,\n 'preocupação': 637,\n 'combustível': 638,\n 'entre': 639,\n 'fundamentação': 640,\n 'correlacionados': 641,\n 'mal': 642,\n 'confidência': 643,\n 'pra': 644,\n 'estou': 645,\n 'encher': 646,\n 'subterrâneas': 647,\n 'está': 648,\n 'eu': 649,\n 'árvores': 650,\n 'poderia': 651,\n 'transbordando': 652,\n 'confortáveis': 653,\n 'com': 654,\n 'ponto': 655,\n 'luzes': 656,\n 'precisava': 657,\n 'feito': 658,\n 'lados': 659,\n 'particular': 660,\n 'imprima': 661,\n 'filamentos': 662,\n 'manhã': 663,\n 'existe': 664,\n 'ora': 665,\n 'pouco': 666,\n 'mantendo': 667,\n 'arcaico': 668,\n 'súbita': 669,\n 'carvão': 670,\n 'viável': 671,\n 'necessária': 672,\n 'significativa': 673,\n 'adiar': 674,\n 'preocupar.': 675,\n 'sobre': 676,\n 'quatro': 677,\n 'gritando': 678,\n 'levá-la': 679,\n 'solitário': 680,\n 'seres': 681,\n 'imensurável': 682,\n 'galáxias': 683,\n 'movimentou': 684,\n 'cósmico.': 685,\n 'corpos': 686,\n 'trabalhando': 687,\n 'apagariam': 688,\n 'planejava': 689,\n 'calor': 690,\n 'mostrou': 691,\n 'prime': 692,\n 'transformassem': 693,\n 'faltem': 694,\n 'origem': 695,\n 'pergunto': 696,\n 'resultantes': 697,\n 'difícil': 698,\n 'abriram': 699,\n 'morrer': 700,\n 'guiada': 701,\n 'assegurar': 702,\n 'teto': 703,\n 'tempo': 704,\n 'impedir': 705,\n 'pensar…': 706,\n 'você.': 707,\n 'presentes': 708,\n 'corre': 709,\n 'preguiçosos': 710,\n 'interrompeu': 711,\n 'comunicador-ac': 712,\n 'haver': 713,\n 'evitada': 714,\n 'revertida': 715,\n 'as': 716,\n 'fecharam': 717,\n 'viu': 718,\n 'voltar': 719,\n 'dia': 720,\n 'tenham': 721,\n 'multidão': 722,\n 'próprias': 723,\n 'melodiosa': 724,\n 'dentro': 725,\n 'acumulou': 726,\n 'última': 727,\n 'ninguém': 728,\n 'lupov': 729,\n 'energia': 730,\n 'também': 731,\n 'morte': 732,\n 'estaremos': 733,\n 'morta.': 734,\n 'aguardar.': 735,\n 'viabilizado': 736,\n 'juntar': 737,\n 'multivac': 738,\n 'todos': 739,\n 'semelhante': 740,\n 'até': 741,\n 'bilhão': 742,\n 'décadas': 743,\n 'reservas': 744,\n 'conseguir': 745,\n '%': 746,\n 'boa': 747,\n 'jazia': 748,\n 'juventude': 749,\n 'conseguiram': 750,\n 'longas': 751,\n 'restará': 752,\n '´para': 753,\n 'paralisou': 754,\n 'acabado': 755,\n 'pré-estabelecido': 756,\n 'maneiras': 757,\n ',': 758,\n 'esvaindo-se': 759,\n 'metade': 760,\n 'galáctico': 761,\n 'essa': 762,\n 'pensamento': 763,\n 'uniu-se': 764,\n 'resto': 765,\n 'autômatos': 766,\n 'globo': 767,\n 'vizinha': 768,\n 'fim.': 769,\n 'compartilhar': 770,\n 'conselho': 771,\n 'máximo': 772,\n 'tomar-lhe': 773,\n 'esse': 774,\n 'moleculares': 775,\n 'encolhessem': 776,\n 'serviu': 777,\n 'escala': 778,\n 'ondas': 779,\n 'chegar': 780,\n 'naves': 781,\n 'teria': 782,\n 'duas': 783,\n 'silêncio': 784,\n 'descansando': 785,\n 'individual': 786,\n 'sozinha': 787,\n 'viver': 788,\n 'se': 789,\n 'algum': 790,\n 'sem': 791,\n ':': 792,\n 'guiar': 793,\n 'usinas': 794,\n 'bolso': 795,\n 'invisíveis': 796,\n 'identidade': 797,\n 'explorava': 798,\n 'perplexo': 799,\n 'refinamento': 800,\n 'chacoalhá-los': 801,\n 'deixe': 802,\n 'tenha': 803,\n 'propôs': 804,\n 'observava': 805,\n 'plutão': 806,\n 'outro': 807,\n 'vida.': 808,\n 'fornecidas': 809,\n 'enviar': 810,\n 'dissipava': 811,\n 'abrigava': 812,\n ';': 813,\n 'olhando': 814,\n 'cuidadosamente': 815,\n 'delas': 816,\n 'escuridão': 817,\n 'final': 818,\n 'chamam': 819,\n '“': 820,\n 'mergulhou': 821,\n 'vagarosamente': 822,\n 'bertram': 823,\n 'percepção': 824,\n 'espera': 825,\n 'ligava-se': 826,\n 'rede': 827,\n 'crescido': 828,\n 'copo': 829,\n 'fica': 830,\n 'os': 831,\n 'lógica': 832,\n 'verdade': 833,\n 'linhas': 834,\n 'entrou': 835,\n 'apenas': 836,\n 'raça': 837,\n 'acordo': 838,\n 'espaços': 839,\n 'planetas': 840,\n 'ajudou': 841,\n 'pensava': 842,\n 'sutil': 843,\n 'lotada': 844,\n 'técnico': 845,\n 'presente': 846,\n 'empreendimento': 847,\n 'máquinas': 848,\n 'tínhamos': 849,\n 'aquietá-las.': 850,\n 'sussurrou': 851,\n 'levemente': 852,\n 'geométrica': 853,\n 'nave': 854,\n 'todos.': 855,\n 'sorriso': 856,\n 'brincadeira': 857,\n 'projetar': 858,\n 'gasta': 859,\n 'permitiram': 860,\n 'saltos': 861,\n 'produz': 862,\n 'quem': 863,\n 'vezes': 864,\n 'querida': 865,\n 'finais': 866,\n 'cabelo': 867,\n 'pensando.': 868,\n 'posso': 869,\n 'limitados': 870,\n 'repente': 871,\n 'podia': 872,\n 'contando': 873,\n 'deve': 874,\n 'durante': 875,\n 'população': 876,\n 'benção': 877,\n 'consome': 878,\n 'vinham': 879,\n 'bebida': 880,\n 'nascerem': 881,\n 'construía': 882,\n 'rarefeita': 883,\n 'utilizada': 884,\n 'após': 885,\n 'luminosa': 886,\n 'eram': 887,\n 'exasperada': 888,\n 'incontáveis': 889,\n 'ser': 890,\n 'entendi': 891,\n 'cima': 892,\n 'desengonçados': 893,\n 'fato': 894,\n 'mapa': 895,\n 'universal': 896,\n 'úmidos': 897,\n 'ac': 898,\n 'fazê-lo': 899,\n 'permitido': 900,\n 'destes': 901,\n 'agitava': 902,\n 'podem': 903,\n 'destino': 904,\n 'expandido': 905,\n 'direção': 906,\n 'encheremos': 907,\n 'transistores': 908,\n 'aumentar.': 909,\n 'novo': 910,\n 'geral': 911,\n 'vagavam': 912,\n 'levar': 913,\n 'árvore': 914,\n 'isso.': 915,\n 'creio': 916,\n 'cruzar': 917,\n 'cuidar': 918,\n 'estamos': 919,\n 'dizendo': 920,\n 'chamou': 921,\n 'material': 922,\n 'sub': 923,\n 'cuidados': 924,\n 'calmamente': 925,\n 'sabe': 926,\n 'pedaço': 927,\n 'preocupa': 928,\n 'campo': 929,\n 'coisas': 930,\n 'compreensíveis': 931,\n 'próprio': 932,\n 'primeira': 933,\n 'chamamos': 934,\n 'fundiu-se': 935,\n 'galáctico.': 936,\n 'dizia': 937,\n 'devemos': 938,\n 'àquela': 939,\n 'satisfeito': 940,\n 'junto': 941,\n 'vinte': 942,\n 'consigo': 943,\n 'alisando': 944,\n 'predescessores': 945,\n 'conquistas.': 946,\n 'colocou': 947,\n 'irá': 948,\n 'estar': 949,\n 'insuficientes.': 950,\n 'feita': 951,\n 'glória': 952,\n 'tomado': 953,\n 'este': 954,\n 'acredita': 955,\n 'penetrado': 956,\n 'fizesse': 957,\n 'drink': 958,\n 'menos': 959,\n 'maior': 960,\n 'estes': 961,\n 'infinitamente': 962,\n 'apontou': 963,\n 'daquele': 964,\n 'ouviu': 965,\n 'fizera': 966,\n 'havia': 967,\n 'nível': 968,\n 'começando': 969,\n 'ótima': 970,\n 'será': 971,\n 'símbolos': 972,\n 'respostas': 973,\n 'não': 974,\n 'simplesmente': 975,\n 'tantos': 976,\n 'desapontado': 977,\n 'sustentar': 978,\n 'eficiência': 979,\n 'interesse': 980,\n 'quiséssemos': 981,\n 'tornou': 982,\n 'gigantes': 983,\n 'movida': 984,\n 'perdendo': 985,\n 'marte': 986,\n 'inteligência': 987,\n 'acompanhara': 988,\n 'prontificou': 989,\n 'década': 990,\n 'todo': 991,\n 'desertas': 992,\n 'vênus': 993,\n '”': 994,\n 'milha': 995,\n 'jerrodd': 996,\n 'planetário': 997,\n 'resultado': 998,\n 'mim': 999,\n ...}"
     ]
    }
   ],
   "source": [
    "# Dicionário para mapear as palavras aos índices\n",
    "palavra_indice = {palavra: i for i, palavra in enumerate(vocab)}\n",
    "palavra_indice"
   ]
  },
  {
   "cell_type": "code",
   "execution_count": 0,
   "metadata": {
    "application/vnd.databricks.v1+cell": {
     "cellMetadata": {
      "byteLimit": 2048000,
      "rowLimit": 10000
     },
     "inputWidgets": {},
     "nuid": "12e74658-adc1-41cf-aa33-2820085b4504",
     "showTitle": false,
     "title": ""
    }
   },
   "outputs": [
    {
     "output_type": "stream",
     "name": "stdout",
     "output_type": "stream",
     "text": [
      "Out[14]: {0: 'vez',\n 1: 'nos',\n 2: 'respondida',\n 3: 'nem',\n 4: 'largo',\n 5: 'turbilhões',\n 6: 'para',\n 7: 'parte',\n 8: 'ela',\n 9: 'esbanjadoras',\n 10: 'capazes',\n 11: 'altos',\n 12: 'antigo',\n 13: 'lábios',\n 14: 'entender',\n 15: 'letras',\n 16: 'escolhido',\n 17: 'peso',\n 18: 'deu',\n 19: 'proporções.',\n 20: 'único',\n 21: 'levou',\n 22: 'dobra',\n 23: 'estão',\n 24: 'hà',\n 25: 'feixes',\n 26: 'maneira',\n 27: 'aproveitamos',\n 28: 'história',\n 29: 'tinham',\n 30: 'gelo',\n 31: 'lar.',\n 32: 'benéfico',\n 33: 'fino',\n 34: 'momentos',\n 35: 'através',\n 36: 'só',\n 37: 'meu',\n 38: 'precisavam',\n 39: 'à',\n 40: 'precisar',\n 41: 'ajustava-se',\n 42: 'circuitos',\n 43: 'possa',\n 44: 'polegadas',\n 45: 'leu',\n 46: 'milhões',\n 47: 'nada',\n 48: 'inserida',\n 49: 'sozinho',\n 50: 'gasto',\n 51: 'anjinhos',\n 52: 'agora',\n 53: 'gentil',\n 54: 'sensação',\n 55: 'trocar',\n 56: 'explosão',\n 57: 'destruídas',\n 58: 'fazer',\n 59: 'orbitando',\n 60: 'terminar',\n 61: 'estelar',\n 62: 'eternidade',\n 63: 'fumaça',\n 64: 'termos',\n 65: 'lembrar',\n 66: 'abaixo',\n 67: 'atenção',\n 68: 'nossos',\n 69: 'pensamentos',\n 70: 'direito',\n 71: 'adicionais.',\n 72: 'computador',\n 73: 'ridículo',\n 74: 'prontamente',\n 75: 'papai',\n 76: 'pálpebras',\n 77: 'cósmica',\n 78: 'princípio',\n 79: 'computação',\n 80: 'tubo',\n 81: 'incomodado',\n 82: 'aumentar',\n 83: 'devem',\n 84: 'contaremos',\n 85: 'incrível',\n 86: 'caos',\n 87: 'grande',\n 88: 'hesitei',\n 89: 'populações',\n 90: 'vida',\n 91: 'utilização',\n 92: 'descansar',\n 93: 'significativa.',\n 94: 'mental',\n 95: 'unidades',\n 96: 'robô',\n 97: 'ficando',\n 98: 'a',\n 99: 'segredo',\n 100: 'aparências',\n 101: 'verdadeira',\n 102: 'fissões',\n 103: 'apagam',\n 104: 'acender',\n 105: 'transformar',\n 106: 'ocupada',\n 107: '!',\n 108: 'visto',\n 109: 'onde',\n 110: 'esta',\n 111: 'pelo',\n 112: 'vaga',\n 113: 'iremos',\n 114: 'poucos',\n 115: 'enormes',\n 116: 'progressão',\n 117: 'hiperespacial',\n 118: 'sentido',\n 119: 'controlada',\n 120: 'volume',\n 121: 'risadas',\n 122: 'necessidades',\n 123: 'expandiu',\n 124: 'corrigia-se',\n 125: 'daquela',\n 126: 'diretamente',\n 127: 'continuava',\n 128: 'reconstruir',\n 129: 'fixou',\n 130: 'solucionou',\n 131: 'anã',\n 132: 'utensílios',\n 133: 'fim',\n 134: 'pai',\n 135: 'ter',\n 136: 'tom',\n 137: 'migração',\n 138: 'tenho',\n 139: 'podiam',\n 140: 'urânio',\n 141: 'sequer',\n 142: 'pára',\n 143: 'colocar',\n 144: 'pontilhavam',\n 145: 'conheciam',\n 146: 'muitas',\n 147: 'complexo',\n 148: 'eles',\n 149: 'primitivo',\n 150: 'domou',\n 151: 'berço',\n 152: 'conhecimento',\n 153: 'aos',\n 154: 'tristeza',\n 155: 'certamente',\n 156: 'cheguei',\n 157: 'adicionando',\n 158: 'perguntas',\n 159: 'funções',\n 160: 'mundo',\n 161: 'pequeno',\n 162: 'terão',\n 163: 'mil',\n 164: 'aguardar',\n 165: 'observavam',\n 166: 'abarcou',\n 167: 'ir',\n 168: 'agite-os',\n 169: 'cem',\n 170: 'conhecido',\n 171: 'presença',\n 172: '*',\n 173: 'ocupado',\n 174: 'concebíveis',\n 175: 'planetários',\n 176: 'semelhanças',\n 177: 'terá',\n 178: 'sóbrio',\n 179: 'muitos',\n 180: 'pareciam',\n 181: 'ver',\n 182: 'outras',\n 183: 'devíamos',\n 184: 'disponível',\n 185: 'dispensou',\n 186: 'falando',\n 187: 'jeito',\n 188: 'vou.',\n 189: 'diminuir',\n 190: 'ajustavam',\n 191: 'há',\n 192: 'entropia',\n 193: 'destruí-lo',\n 194: 'ano',\n 195: 'ele',\n 196: 'nadando',\n 197: 'construir',\n 198: 'afigurava',\n 199: 'antigos',\n 200: 'bisneto',\n 201: 'acabaram',\n 202: 'definição',\n 203: 'encontrar-se',\n 204: 'são',\n 205: 'pessoas',\n 206: 'indivíduos',\n 207: 'crescente',\n 208: 'teve',\n 209: 'tanto',\n 210: 'parece-me',\n 211: 'nas',\n 212: 'morto',\n 213: 'conhecimentos',\n 214: 'perguntar',\n 215: 'duzentos',\n 216: 'abandonar',\n 217: 'dados',\n 218: 'ombros',\n 219: 'em',\n 220: 'sentiríamos',\n 221: 'fizeram',\n 222: 'erguido',\n 223: 'deixava',\n 224: 'cujo',\n 225: 'bêbado',\n 226: 'ficou',\n 227: 'colapso',\n 228: 'quadradas',\n 229: 'voltando',\n 230: 'guardava',\n 231: 'modo',\n 232: 'reconstituir',\n 233: 'álcool',\n 234: 'distantes',\n 235: 'pensaria',\n 236: 'colete',\n 237: 'tentar',\n 238: 'subutilizado',\n 239: 'povoado.',\n 240: 'sabemos',\n 241: 'suspensão',\n 242: 'nós',\n 243: 'conta',\n 244: 'asperamente',\n 245: 'chorar',\n 246: 'algo',\n 247: 'saiba.',\n 248: 'possível',\n 249: 'oh',\n 250: 'fazia-se',\n 251: 'personagem',\n 252: 'simples',\n 253: 'fria',\n 254: 'viagem',\n 255: 'precisa',\n 256: 'cama',\n 257: 'soltou-se',\n 258: 'e',\n 259: 'família',\n 260: 'microvac',\n 261: 'poderíamos',\n 262: '14',\n 263: 'nenhuma',\n 264: 'duram',\n 265: 'pigarreou',\n 266: 'famílias',\n 267: 'foram',\n 268: 'oceano',\n 269: 'qualquer',\n 270: 'certo',\n 271: 'dignidade',\n 272: 'intenção',\n 273: 'multivac.',\n 274: 'pergunte',\n 275: 'carregar',\n 276: 'incorruptível',\n 277: 'mais.',\n 278: 'viram',\n 279: 'fraco',\n 280: 'seu',\n 281: 'dê',\n 282: 'perguntou',\n 283: '(',\n 284: 'incrivelmente',\n 285: 'pequenas',\n 286: 'algumas',\n 287: 'deus',\n 288: 'coleta',\n 289: 'pensar',\n 290: 'branca.',\n 291: 'consistia',\n 292: 'crianças',\n 293: 'época',\n 294: 'vou',\n 295: 'lameth',\n 296: 'finos',\n 297: 'zero',\n 298: 'merecer',\n 299: 'abriu',\n 300: 'partir',\n 301: 'isso',\n 302: 'noção',\n 303: 'novo.',\n 304: 'procurá-los',\n 305: 'passos',\n 306: 'agora.',\n 307: 'viviam',\n 308: 'jerrodette',\n 309: 'sala',\n 310: 'suspirou',\n 311: 'chamava',\n 312: 'outra.',\n 313: 'pararam',\n 314: 'toda',\n 315: 'retornaram',\n 316: 'perdeu-se',\n 317: 'bert.',\n 318: 'cruzados',\n 319: 'opacas',\n 320: 'duas.',\n 321: 'era',\n 322: 'morreram',\n 323: 'olhos',\n 324: 'foi',\n 325: 'sim',\n 326: 'velocidade',\n 327: 'metal',\n 328: 'função',\n 329: 'iriam.',\n 330: 'agitada',\n 331: 'mq-17j',\n 332: 'novas',\n 333: 'organizou',\n 334: 'quantidade',\n 335: 'natureza',\n 336: 'teoria',\n 337: 'pouco.',\n 338: 'terra',\n 339: 'apagarem',\n 340: 'alimentava',\n 341: 'aquela',\n 342: 'enredar',\n 343: 'girando',\n 344: 'cúbicas',\n 345: 'eles.',\n 346: 'estas',\n 347: 'restos',\n 348: 'maio',\n 349: 'desajeitadas',\n 350: 'recuperá-la',\n 351: 'alavanca',\n 352: 'geração',\n 353: 'parar',\n 354: 'alimentavam',\n 355: 'paisagem',\n 356: 'estiverem',\n 357: 'comprimento',\n 358: 'orientação',\n 359: 'fez',\n 360: 'possamos',\n 361: 'superficialmente',\n 362: 'ficaram',\n 363: 'sob',\n 364: 'aconteça',\n 365: 'relatório',\n 366: 'peça',\n 367: 'correr',\n 368: 'precisaremos',\n 369: 'idade',\n 370: 'quantas',\n 371: 'me',\n 372: 'exploração',\n 373: 'poupada',\n 374: 'primeiros',\n 375: 'conectou',\n 376: 'eventualmente',\n 377: 'pergunta.',\n 378: 'incomodá-lo',\n 379: 'mãe',\n 380: 'nunca.',\n 381: 'estarão',\n 382: 'experimentado',\n 383: 'disso',\n 384: 'faziam-se',\n 385: 'pausa',\n 386: 'nossa',\n 387: 'conseguiria',\n 388: 'observando',\n 389: 'acabado.',\n 390: 'assim',\n 391: 'ah',\n 392: 'milhão',\n 393: 'ouvimos',\n 394: 'te',\n 395: 'implementadas',\n 396: 'super',\n 397: 'colidirse',\n 398: 'passado',\n 399: 'breve',\n 400: 'lhe',\n 401: 'seca',\n 402: 'metálica',\n 403: 'lentamente',\n 404: 'cercava-os',\n 405: 'das',\n 406: 'importava',\n 407: 'cósmico',\n 408: 'adequada',\n 409: 'receptores',\n 410: 'consumava-se',\n 411: 'permanecia',\n 412: 'força',\n 413: 'transporte',\n 414: 'saber',\n 415: 'segurar',\n 416: 'teremos',\n 417: 'palavra',\n 418: 'no',\n 419: 'porções',\n 420: 'coletar',\n 421: 'dissipado',\n 422: 'anos…',\n 423: 'título',\n 424: 'gás',\n 425: 'pálidas',\n 426: 'dava',\n 427: 'computer',\n 428: 'milhas',\n 429: 'imerso',\n 430: 'costas',\n 431: 'olhou',\n 432: 'grupo',\n 433: 'máquina',\n 434: 'recursos',\n 435: 'energética',\n 436: 'três',\n 437: 'leve',\n 438: 'inglês',\n 439: 'necessário',\n 440: 'deixar',\n 441: 'intervalo',\n 442: 'início',\n 443: 'pioneira',\n 444: 'apagar',\n 445: 'anãs',\n 446: 'demanda',\n 447: 'afinal',\n 448: 'produzia',\n 449: 'veio',\n 450: 'anos',\n 451: 'sete',\n 452: 'perfeitos',\n 453: 'respondeu',\n 454: 'crianças.',\n 455: 'talvez',\n 456: 'permanecem',\n 457: 'elas',\n 458: 'programa',\n 459: 'responder',\n 460: 'obtidos',\n 461: 'pessoal',\n 462: 'viagens',\n 463: 'suas',\n 464: 'nunca',\n 465: 'chegamos',\n 466: 'seguros',\n 467: 'nisso',\n 468: 'reduzido',\n 469: 'assustadas',\n 470: 'trilhão',\n 471: 'corpo',\n 472: 'infinidade',\n 473: 'construídas',\n 474: 'haverá',\n 475: 'permitindo',\n 476: 'atividade',\n 477: 'quanto',\n 478: 'estalos',\n 479: 'suficiente',\n 480: 'silenciassem',\n 481: 'trilhões',\n 482: 'idéia',\n 483: 'únicos',\n 484: 'servia',\n 485: 'pensando',\n 486: '–',\n 487: 'computadores',\n 488: 'nova',\n 489: 'diante',\n 490: 'câmaras',\n 491: 'insuficientes',\n 492: 'válvulas',\n 493: 'navegou',\n 494: 'já',\n 495: 'mentes',\n 496: 'igualmente',\n 497: 'antes',\n 498: 'negros',\n 499: 'entanto',\n 500: 'tomou',\n 501: 'quantos',\n 502: 'do',\n 503: 'o',\n 504: 'rosto',\n 505: 'recebido',\n 506: 'assentava',\n 507: 'desafio',\n 508: 'parede',\n 509: 'dor',\n 510: 'operações',\n 511: 'sido',\n 512: 'interestelar',\n 513: 'sobrepujou',\n 514: 'tomaria',\n 515: 'permaneçam',\n 516: 'palavras',\n 517: 'como',\n 518: 'acelerada',\n 519: 'acs',\n 520: 'estava',\n 521: 'deixou',\n 522: 'suficientes',\n 523: 'fração',\n 524: 'pois',\n 525: 'tudo.',\n 526: 'retirou',\n 527: 'carga',\n 528: 'lugar',\n 529: 'fulgurante',\n 530: 'passo',\n 531: 'lá',\n 532: 'agir',\n 533: 'fornecer',\n 534: 'jerodettes',\n 535: 'questão',\n 536: 'trate',\n 537: 'suponho',\n 538: 'ajudar.',\n 539: 'agradecer',\n 540: 'graça',\n 541: 'operavam',\n 542: 'acerca',\n 543: 'habitava',\n 544: 'negro',\n 545: 'feliz',\n 546: 'acaba',\n 547: 'apagaram',\n 548: 'torna',\n 549: 'vazio',\n 550: 'quietas',\n 551: 'acostumei',\n 552: 'novos',\n 553: 'sabia',\n 554: 'seguinte',\n 555: 'perda',\n 556: 'absoluto',\n 557: 'remoto',\n 558: 'forma',\n 559: 'plano',\n 560: 'erguiam-se',\n 561: 'livremente',\n 562: 'definições',\n 563: 'desperdiçada',\n 564: 'começaram',\n 565: 'cálculos',\n 566: 'acho',\n 567: 'estações',\n 568: 'dos',\n 569: 'queria',\n 570: 'feito.',\n 571: 'homem',\n 572: 'curioso.',\n 573: 'ocasionalmente',\n 574: 'enquanto',\n 575: 'estação',\n 576: 'abrigando',\n 577: 'passagem',\n 578: 'realmente',\n 579: 'chuva',\n 580: 'sou',\n 581: 'podemos',\n 582: 'trêmulo',\n 583: 'gole',\n 584: 'infinito',\n 585: 'diabos',\n 586: 'receptor',\n 587: 'descansaram',\n 588: 'lembra',\n 589: 'reflexiva',\n 590: 'emendando',\n 591: 'saber.',\n 592: 'apreciavam',\n 593: 'espesso',\n 594: 'processando',\n 595: 'companhia',\n 596: 'mais',\n 597: 'impressas',\n 598: 'eons',\n 599: 'visor',\n 600: 'pudesse',\n 601: 'haviam',\n 602: 'molhada',\n 603: 'homens',\n 604: 'precisávamos',\n 605: 'ligar',\n 606: 'tudo',\n 607: 'morrendo',\n 608: 'porque',\n 609: 'contrariar',\n 610: 'capturada',\n 611: 'parou',\n 612: 'desaparecendo',\n 613: 'jerrodine',\n 614: 'zee',\n 615: 'parcos',\n 616: 'desde',\n 617: 'posta',\n 618: 'trás',\n 619: 'esfumaçados',\n 620: 'cinco',\n 621: 'incidente',\n 622: 'chamados',\n 623: 'planetária',\n 624: 'punhado',\n 625: 'informações',\n 626: 'estrela',\n 627: 'profundas',\n 628: 'técnicos',\n 629: 'sub-galácticas',\n 630: 'acabar',\n 631: 'segundo',\n 632: 'tampouco',\n 633: 'relaxar',\n 634: '100',\n 635: 'vai',\n 636: 'velhas',\n 637: 'preocupação',\n 638: 'combustível',\n 639: 'entre',\n 640: 'fundamentação',\n 641: 'correlacionados',\n 642: 'mal',\n 643: 'confidência',\n 644: 'pra',\n 645: 'estou',\n 646: 'encher',\n 647: 'subterrâneas',\n 648: 'está',\n 649: 'eu',\n 650: 'árvores',\n 651: 'poderia',\n 652: 'transbordando',\n 653: 'confortáveis',\n 654: 'com',\n 655: 'ponto',\n 656: 'luzes',\n 657: 'precisava',\n 658: 'feito',\n 659: 'lados',\n 660: 'particular',\n 661: 'imprima',\n 662: 'filamentos',\n 663: 'manhã',\n 664: 'existe',\n 665: 'ora',\n 666: 'pouco',\n 667: 'mantendo',\n 668: 'arcaico',\n 669: 'súbita',\n 670: 'carvão',\n 671: 'viável',\n 672: 'necessária',\n 673: 'significativa',\n 674: 'adiar',\n 675: 'preocupar.',\n 676: 'sobre',\n 677: 'quatro',\n 678: 'gritando',\n 679: 'levá-la',\n 680: 'solitário',\n 681: 'seres',\n 682: 'imensurável',\n 683: 'galáxias',\n 684: 'movimentou',\n 685: 'cósmico.',\n 686: 'corpos',\n 687: 'trabalhando',\n 688: 'apagariam',\n 689: 'planejava',\n 690: 'calor',\n 691: 'mostrou',\n 692: 'prime',\n 693: 'transformassem',\n 694: 'faltem',\n 695: 'origem',\n 696: 'pergunto',\n 697: 'resultantes',\n 698: 'difícil',\n 699: 'abriram',\n 700: 'morrer',\n 701: 'guiada',\n 702: 'assegurar',\n 703: 'teto',\n 704: 'tempo',\n 705: 'impedir',\n 706: 'pensar…',\n 707: 'você.',\n 708: 'presentes',\n 709: 'corre',\n 710: 'preguiçosos',\n 711: 'interrompeu',\n 712: 'comunicador-ac',\n 713: 'haver',\n 714: 'evitada',\n 715: 'revertida',\n 716: 'as',\n 717: 'fecharam',\n 718: 'viu',\n 719: 'voltar',\n 720: 'dia',\n 721: 'tenham',\n 722: 'multidão',\n 723: 'próprias',\n 724: 'melodiosa',\n 725: 'dentro',\n 726: 'acumulou',\n 727: 'última',\n 728: 'ninguém',\n 729: 'lupov',\n 730: 'energia',\n 731: 'também',\n 732: 'morte',\n 733: 'estaremos',\n 734: 'morta.',\n 735: 'aguardar.',\n 736: 'viabilizado',\n 737: 'juntar',\n 738: 'multivac',\n 739: 'todos',\n 740: 'semelhante',\n 741: 'até',\n 742: 'bilhão',\n 743: 'décadas',\n 744: 'reservas',\n 745: 'conseguir',\n 746: '%',\n 747: 'boa',\n 748: 'jazia',\n 749: 'juventude',\n 750: 'conseguiram',\n 751: 'longas',\n 752: 'restará',\n 753: '´para',\n 754: 'paralisou',\n 755: 'acabado',\n 756: 'pré-estabelecido',\n 757: 'maneiras',\n 758: ',',\n 759: 'esvaindo-se',\n 760: 'metade',\n 761: 'galáctico',\n 762: 'essa',\n 763: 'pensamento',\n 764: 'uniu-se',\n 765: 'resto',\n 766: 'autômatos',\n 767: 'globo',\n 768: 'vizinha',\n 769: 'fim.',\n 770: 'compartilhar',\n 771: 'conselho',\n 772: 'máximo',\n 773: 'tomar-lhe',\n 774: 'esse',\n 775: 'moleculares',\n 776: 'encolhessem',\n 777: 'serviu',\n 778: 'escala',\n 779: 'ondas',\n 780: 'chegar',\n 781: 'naves',\n 782: 'teria',\n 783: 'duas',\n 784: 'silêncio',\n 785: 'descansando',\n 786: 'individual',\n 787: 'sozinha',\n 788: 'viver',\n 789: 'se',\n 790: 'algum',\n 791: 'sem',\n 792: ':',\n 793: 'guiar',\n 794: 'usinas',\n 795: 'bolso',\n 796: 'invisíveis',\n 797: 'identidade',\n 798: 'explorava',\n 799: 'perplexo',\n 800: 'refinamento',\n 801: 'chacoalhá-los',\n 802: 'deixe',\n 803: 'tenha',\n 804: 'propôs',\n 805: 'observava',\n 806: 'plutão',\n 807: 'outro',\n 808: 'vida.',\n 809: 'fornecidas',\n 810: 'enviar',\n 811: 'dissipava',\n 812: 'abrigava',\n 813: ';',\n 814: 'olhando',\n 815: 'cuidadosamente',\n 816: 'delas',\n 817: 'escuridão',\n 818: 'final',\n 819: 'chamam',\n 820: '“',\n 821: 'mergulhou',\n 822: 'vagarosamente',\n 823: 'bertram',\n 824: 'percepção',\n 825: 'espera',\n 826: 'ligava-se',\n 827: 'rede',\n 828: 'crescido',\n 829: 'copo',\n 830: 'fica',\n 831: 'os',\n 832: 'lógica',\n 833: 'verdade',\n 834: 'linhas',\n 835: 'entrou',\n 836: 'apenas',\n 837: 'raça',\n 838: 'acordo',\n 839: 'espaços',\n 840: 'planetas',\n 841: 'ajudou',\n 842: 'pensava',\n 843: 'sutil',\n 844: 'lotada',\n 845: 'técnico',\n 846: 'presente',\n 847: 'empreendimento',\n 848: 'máquinas',\n 849: 'tínhamos',\n 850: 'aquietá-las.',\n 851: 'sussurrou',\n 852: 'levemente',\n 853: 'geométrica',\n 854: 'nave',\n 855: 'todos.',\n 856: 'sorriso',\n 857: 'brincadeira',\n 858: 'projetar',\n 859: 'gasta',\n 860: 'permitiram',\n 861: 'saltos',\n 862: 'produz',\n 863: 'quem',\n 864: 'vezes',\n 865: 'querida',\n 866: 'finais',\n 867: 'cabelo',\n 868: 'pensando.',\n 869: 'posso',\n 870: 'limitados',\n 871: 'repente',\n 872: 'podia',\n 873: 'contando',\n 874: 'deve',\n 875: 'durante',\n 876: 'população',\n 877: 'benção',\n 878: 'consome',\n 879: 'vinham',\n 880: 'bebida',\n 881: 'nascerem',\n 882: 'construía',\n 883: 'rarefeita',\n 884: 'utilizada',\n 885: 'após',\n 886: 'luminosa',\n 887: 'eram',\n 888: 'exasperada',\n 889: 'incontáveis',\n 890: 'ser',\n 891: 'entendi',\n 892: 'cima',\n 893: 'desengonçados',\n 894: 'fato',\n 895: 'mapa',\n 896: 'universal',\n 897: 'úmidos',\n 898: 'ac',\n 899: 'fazê-lo',\n 900: 'permitido',\n 901: 'destes',\n 902: 'agitava',\n 903: 'podem',\n 904: 'destino',\n 905: 'expandido',\n 906: 'direção',\n 907: 'encheremos',\n 908: 'transistores',\n 909: 'aumentar.',\n 910: 'novo',\n 911: 'geral',\n 912: 'vagavam',\n 913: 'levar',\n 914: 'árvore',\n 915: 'isso.',\n 916: 'creio',\n 917: 'cruzar',\n 918: 'cuidar',\n 919: 'estamos',\n 920: 'dizendo',\n 921: 'chamou',\n 922: 'material',\n 923: 'sub',\n 924: 'cuidados',\n 925: 'calmamente',\n 926: 'sabe',\n 927: 'pedaço',\n 928: 'preocupa',\n 929: 'campo',\n 930: 'coisas',\n 931: 'compreensíveis',\n 932: 'próprio',\n 933: 'primeira',\n 934: 'chamamos',\n 935: 'fundiu-se',\n 936: 'galáctico.',\n 937: 'dizia',\n 938: 'devemos',\n 939: 'àquela',\n 940: 'satisfeito',\n 941: 'junto',\n 942: 'vinte',\n 943: 'consigo',\n 944: 'alisando',\n 945: 'predescessores',\n 946: 'conquistas.',\n 947: 'colocou',\n 948: 'irá',\n 949: 'estar',\n 950: 'insuficientes.',\n 951: 'feita',\n 952: 'glória',\n 953: 'tomado',\n 954: 'este',\n 955: 'acredita',\n 956: 'penetrado',\n 957: 'fizesse',\n 958: 'drink',\n 959: 'menos',\n 960: 'maior',\n 961: 'estes',\n 962: 'infinitamente',\n 963: 'apontou',\n 964: 'daquele',\n 965: 'ouviu',\n 966: 'fizera',\n 967: 'havia',\n 968: 'nível',\n 969: 'começando',\n 970: 'ótima',\n 971: 'será',\n 972: 'símbolos',\n 973: 'respostas',\n 974: 'não',\n 975: 'simplesmente',\n 976: 'tantos',\n 977: 'desapontado',\n 978: 'sustentar',\n 979: 'eficiência',\n 980: 'interesse',\n 981: 'quiséssemos',\n 982: 'tornou',\n 983: 'gigantes',\n 984: 'movida',\n 985: 'perdendo',\n 986: 'marte',\n 987: 'inteligência',\n 988: 'acompanhara',\n 989: 'prontificou',\n 990: 'década',\n 991: 'todo',\n 992: 'desertas',\n 993: 'vênus',\n 994: '”',\n 995: 'milha',\n 996: 'jerrodd',\n 997: 'planetário',\n 998: 'resultado',\n 999: 'mim',\n ...}"
     ]
    }
   ],
   "source": [
    "# Dicionário para mapear os índices às palavras\n",
    "indice_palavra = {i: palavra for i, palavra in enumerate(vocab)}\n",
    "indice_palavra"
   ]
  },
  {
   "cell_type": "markdown",
   "metadata": {
    "application/vnd.databricks.v1+cell": {
     "cellMetadata": {},
     "inputWidgets": {},
     "nuid": "6b8c7abd-74c4-47c8-b54f-31dcef99edb8",
     "showTitle": false,
     "title": ""
    }
   },
   "source": [
    "A menos que se indique lo contrario, usamos un contexto de diez palabras a la izquierda y diez palabras a la derecha."
   ]
  },
  {
   "cell_type": "code",
   "execution_count": 0,
   "metadata": {
    "application/vnd.databricks.v1+cell": {
     "cellMetadata": {
      "byteLimit": 2048000,
      "rowLimit": 10000
     },
     "inputWidgets": {},
     "nuid": "67ccef90-5580-4933-abc5-87139007a9c8",
     "showTitle": false,
     "title": ""
    }
   },
   "outputs": [],
   "source": [
    "# Tamanho do contexto\n",
    "CONTEXT_SIZE = 10"
   ]
  },
  {
   "cell_type": "code",
   "execution_count": 0,
   "metadata": {
    "application/vnd.databricks.v1+cell": {
     "cellMetadata": {
      "byteLimit": 2048000,
      "rowLimit": 10000
     },
     "inputWidgets": {},
     "nuid": "cb4e8af8-9ce2-4bbc-8344-b571b8b5be9a",
     "showTitle": false,
     "title": ""
    }
   },
   "outputs": [
    {
     "output_type": "stream",
     "name": "stdout",
     "output_type": "stream",
     "text": [
      "Out[17]: array([[0., 0., 0., ..., 0., 0., 0.],\n       [0., 0., 0., ..., 0., 0., 0.],\n       [0., 0., 0., ..., 0., 0., 0.],\n       ...,\n       [0., 0., 0., ..., 0., 0., 0.],\n       [0., 0., 0., ..., 0., 0., 0.],\n       [0., 0., 0., ..., 0., 0., 0.]])"
     ]
    }
   ],
   "source": [
    "# Matriz de co-ocorrência preenchida com zeros\n",
    "co_occ_mat = np.zeros((vocab_size, vocab_size))\n",
    "co_occ_mat"
   ]
  },
  {
   "cell_type": "markdown",
   "metadata": {
    "application/vnd.databricks.v1+cell": {
     "cellMetadata": {},
     "inputWidgets": {},
     "nuid": "95b07d76-dc3b-4bb1-a83f-2fd243e6808f",
     "showTitle": false,
     "title": ""
    }
   },
   "source": [
    "Ahora pasamos los diccionarios de mapeo creados previamente y completamos la matriz de co-ocurrencia."
   ]
  },
  {
   "cell_type": "code",
   "execution_count": 0,
   "metadata": {
    "application/vnd.databricks.v1+cell": {
     "cellMetadata": {
      "byteLimit": 2048000,
      "rowLimit": 10000
     },
     "inputWidgets": {},
     "nuid": "922621e4-cc89-4b46-9147-a6ee6cd07d31",
     "showTitle": false,
     "title": ""
    }
   },
   "outputs": [],
   "source": [
    "# Loop externo por todo comprimento do vocabulário\n",
    "for i in range(comp_tokens):\n",
    "    \n",
    "    # Loop interno pelo tamanho do contexto\n",
    "    for dist in range(1, CONTEXT_SIZE + 1):\n",
    "        \n",
    "        # Obtém o índice do token\n",
    "        ix = palavra_indice[texto_token[i]]\n",
    "        \n",
    "        # Se a palara estiver à esquerda, inserimos à esquerda na matriz de co-ocorrência\n",
    "        if i - dist > 0:\n",
    "            left_ix = palavra_indice[texto_token[i - dist]]\n",
    "            co_occ_mat[ix, left_ix] += 1.0 / dist\n",
    "            \n",
    "        # Se a palara estiver à direita, inserimos à direita na matriz de co-ocorrência\n",
    "        if i + dist < len(texto_token):\n",
    "            right_ix = palavra_indice[texto_token[i + dist]]\n",
    "            co_occ_mat[ix, right_ix] += 1.0 / dist"
   ]
  },
  {
   "cell_type": "code",
   "execution_count": 0,
   "metadata": {
    "application/vnd.databricks.v1+cell": {
     "cellMetadata": {
      "byteLimit": 2048000,
      "rowLimit": 10000
     },
     "inputWidgets": {},
     "nuid": "4c5052a5-cd8b-40e7-9330-f1b647497e82",
     "showTitle": false,
     "title": ""
    }
   },
   "outputs": [
    {
     "output_type": "stream",
     "name": "stdout",
     "output_type": "stream",
     "text": [
      "Out[19]: array([[0.        , 0.        , 0.        , ..., 0.16666667, 0.        ,\n        0.1       ],\n       [0.        , 0.        , 0.        , ..., 0.        , 0.        ,\n        0.        ],\n       [0.        , 0.        , 0.        , ..., 0.        , 0.        ,\n        0.        ],\n       ...,\n       [0.16666667, 0.        , 0.        , ..., 0.4       , 0.5       ,\n        0.        ],\n       [0.        , 0.        , 0.        , ..., 0.5       , 0.        ,\n        0.        ],\n       [0.1       , 0.        , 0.        , ..., 0.        , 0.        ,\n        0.        ]])"
     ]
    }
   ],
   "source": [
    "# Matriz de co-ocorrência\n",
    "co_occ_mat"
   ]
  },
  {
   "cell_type": "code",
   "execution_count": 0,
   "metadata": {
    "application/vnd.databricks.v1+cell": {
     "cellMetadata": {
      "byteLimit": 2048000,
      "rowLimit": 10000
     },
     "inputWidgets": {},
     "nuid": "a5cc6788-0813-4e90-a2f5-79aa1b559507",
     "showTitle": false,
     "title": ""
    }
   },
   "outputs": [],
   "source": [
    "# Transposta da matriz de co-ocorrências\n",
    "# Retorna um array 2-D com uma linha para cada elemento não-zero \n",
    "co_occs = np.transpose(np.nonzero(co_occ_mat))"
   ]
  },
  {
   "cell_type": "code",
   "execution_count": 0,
   "metadata": {
    "application/vnd.databricks.v1+cell": {
     "cellMetadata": {
      "byteLimit": 2048000,
      "rowLimit": 10000
     },
     "inputWidgets": {},
     "nuid": "0cc3864a-414c-4f22-8676-0db2825f1078",
     "showTitle": false,
     "title": ""
    }
   },
   "outputs": [
    {
     "output_type": "stream",
     "name": "stdout",
     "output_type": "stream",
     "text": [
      "Shape da Matriz de Co-Ocorrência: (1397, 1397)\n"
     ]
    }
   ],
   "source": [
    "# Print\n",
    "print(\"Shape da Matriz de Co-Ocorrência:\", co_occ_mat.shape)"
   ]
  },
  {
   "cell_type": "code",
   "execution_count": 0,
   "metadata": {
    "application/vnd.databricks.v1+cell": {
     "cellMetadata": {
      "byteLimit": 2048000,
      "rowLimit": 10000
     },
     "inputWidgets": {},
     "nuid": "e5d6aefc-2948-4a2f-a15e-81df2eadf6e8",
     "showTitle": false,
     "title": ""
    }
   },
   "outputs": [
    {
     "output_type": "stream",
     "name": "stdout",
     "output_type": "stream",
     "text": [
      "Matriz de Co-Ocorrência Não-Zero:\n [[   0    6]\n [   0   12]\n [   0   19]\n ...\n [1396 1241]\n [1396 1279]\n [1396 1342]]\n"
     ]
    }
   ],
   "source": [
    "# Print\n",
    "print(\"Matriz de Co-Ocorrência Não-Zero:\\n\", co_occs)"
   ]
  },
  {
   "cell_type": "markdown",
   "metadata": {
    "application/vnd.databricks.v1+cell": {
     "cellMetadata": {},
     "inputWidgets": {},
     "nuid": "9a5b6c27-6a2d-47e5-86dd-02eb6638071b",
     "showTitle": false,
     "title": ""
    }
   },
   "source": [
    "### Crear el modelo"
   ]
  },
  {
   "cell_type": "code",
   "execution_count": 0,
   "metadata": {
    "application/vnd.databricks.v1+cell": {
     "cellMetadata": {
      "byteLimit": 2048000,
      "rowLimit": 10000
     },
     "inputWidgets": {},
     "nuid": "6316a552-cb81-408e-bed5-ea21bbe2ced0",
     "showTitle": false,
     "title": ""
    }
   },
   "outputs": [],
   "source": [
    "# Tamanho da embedding\n",
    "EMBEDDING_SIZE = 50"
   ]
  },
  {
   "cell_type": "code",
   "execution_count": 0,
   "metadata": {
    "application/vnd.databricks.v1+cell": {
     "cellMetadata": {
      "byteLimit": 2048000,
      "rowLimit": 10000
     },
     "inputWidgets": {},
     "nuid": "942c79cc-e420-4cfc-a8cf-33217764dcf7",
     "showTitle": false,
     "title": ""
    }
   },
   "outputs": [],
   "source": [
    "# Hiperparâmetros\n",
    "X_MAX = 100\n",
    "ALPHA = 0.75\n",
    "BATCH_SIZE = 32\n",
    "LEARNING_RATE = 0.05\n",
    "EPOCHS = 200"
   ]
  },
  {
   "cell_type": "code",
   "execution_count": 0,
   "metadata": {
    "application/vnd.databricks.v1+cell": {
     "cellMetadata": {
      "byteLimit": 2048000,
      "rowLimit": 10000
     },
     "inputWidgets": {},
     "nuid": "63dd6ce8-bd99-487c-af79-26d61ba05a76",
     "showTitle": false,
     "title": ""
    }
   },
   "outputs": [],
   "source": [
    "# Classe para o modelo\n",
    "class Glove(nn.Module):\n",
    "\n",
    "    # Método construtor\n",
    "    def __init__(self, vocab_size, comat, embedding_size, x_max, alpha):\n",
    "        super(Glove, self).__init__()\n",
    "        \n",
    "        # Matriz de embeddings com as palavras centrais\n",
    "        self.embedding_V = nn.Embedding(vocab_size, embedding_size)\n",
    "        \n",
    "        # Matriz de embeddings com as palavras de contexto\n",
    "        self.embedding_U = nn.Embedding(vocab_size, embedding_size)\n",
    "\n",
    "        # Bias\n",
    "        self.v_bias = nn.Embedding(vocab_size, 1)\n",
    "        self.u_bias = nn.Embedding(vocab_size, 1)\n",
    "        \n",
    "        # Inicializa os parâmtetros (pesos que a rede aprende durante o treinamento)\n",
    "        for params in self.parameters():\n",
    "            nn.init.uniform_(params, a = -0.5, b = 0.5)\n",
    "            \n",
    "        # Define os hiperparâmetros (que controlam o treinamento)\n",
    "        self.x_max = x_max\n",
    "        self.alpha = alpha\n",
    "        self.comat = comat\n",
    "    \n",
    "    # Função de forward\n",
    "    def forward(self, center_word_lookup, context_word_lookup):\n",
    "        \n",
    "        # Matrizes embedding de pesos para centro e contexto\n",
    "        center_embed = self.embedding_V(center_word_lookup)\n",
    "        target_embed = self.embedding_U(context_word_lookup)\n",
    "\n",
    "        # Matrizes embedding de bias para centro e contexto\n",
    "        center_bias = self.v_bias(center_word_lookup).squeeze(1)\n",
    "        target_bias = self.u_bias(context_word_lookup).squeeze(1)\n",
    "\n",
    "        # Elementos da matriz de co-ocorrência\n",
    "        co_occurrences = torch.tensor([self.comat[center_word_lookup[i].item(), context_word_lookup[i].item()]\n",
    "                                       for i in range(BATCH_SIZE)])\n",
    "        \n",
    "        # Carrega os pesos\n",
    "        weights = torch.tensor([self.weight_fn(var) for var in co_occurrences])\n",
    "\n",
    "        # Funçã de perda\n",
    "        loss = torch.sum(torch.pow((torch.sum(center_embed * target_embed, dim = 1)\n",
    "            + center_bias + target_bias) - torch.log(co_occurrences), 2) * weights)\n",
    "        \n",
    "        return loss\n",
    "       \n",
    "    # Definição do peso\n",
    "    def weight_fn(self, x):\n",
    "        if x < self.x_max:\n",
    "            return (x / self.x_max) ** self.alpha\n",
    "        return 1\n",
    "        \n",
    "    # Soma de V e U como nossos vetores de palavras\n",
    "    def embeddings(self):\n",
    "        return self.embedding_V.weight.data + self.embedding_U.weight.data"
   ]
  },
  {
   "cell_type": "code",
   "execution_count": 0,
   "metadata": {
    "application/vnd.databricks.v1+cell": {
     "cellMetadata": {
      "byteLimit": 2048000,
      "rowLimit": 10000
     },
     "inputWidgets": {},
     "nuid": "bad9b13f-b2c5-4558-af3a-3d8aa6f85ec0",
     "showTitle": false,
     "title": ""
    }
   },
   "outputs": [],
   "source": [
    "# Função para gerar um bacth de palavras\n",
    "def gera_batch(model, batch_size = BATCH_SIZE):\n",
    "    \n",
    "    # Extrai uma amostra\n",
    "    sample = np.random.choice(np.arange(len(co_occs)), size = batch_size, replace = False)\n",
    "    \n",
    "    # Listas de vetores\n",
    "    v_vecs_ix, u_vecs_ix = [], []\n",
    "    \n",
    "    # Loop pela amostra para gerar os vetores\n",
    "    for chosen in sample:\n",
    "        ind = tuple(co_occs[chosen])  \n",
    "        \n",
    "        lookup_ix_v = ind[0]\n",
    "        lookup_ix_u = ind[1]\n",
    "        \n",
    "        v_vecs_ix.append(lookup_ix_v)\n",
    "        u_vecs_ix.append(lookup_ix_u) \n",
    "        \n",
    "    return torch.tensor(v_vecs_ix), torch.tensor(u_vecs_ix)"
   ]
  },
  {
   "cell_type": "markdown",
   "metadata": {
    "application/vnd.databricks.v1+cell": {
     "cellMetadata": {},
     "inputWidgets": {},
     "nuid": "20e4dc6a-0eb2-4762-8d7c-86f926f269f7",
     "showTitle": false,
     "title": ""
    }
   },
   "source": [
    "### Entrenamiento modelo"
   ]
  },
  {
   "cell_type": "code",
   "execution_count": 0,
   "metadata": {
    "application/vnd.databricks.v1+cell": {
     "cellMetadata": {
      "byteLimit": 2048000,
      "rowLimit": 10000
     },
     "inputWidgets": {},
     "nuid": "9550f988-2411-4c8b-a859-1b6211aeb901",
     "showTitle": false,
     "title": ""
    }
   },
   "outputs": [],
   "source": [
    "# Função para o treinamento\n",
    "def treina_glove(comat):\n",
    "    \n",
    "    # Lista para os erros\n",
    "    losses = []\n",
    "    \n",
    "    # Cria o modelo Glove\n",
    "    model = Glove(vocab_size, comat, embedding_size = EMBEDDING_SIZE, x_max = X_MAX, alpha = ALPHA)\n",
    "    \n",
    "    # Otimizador\n",
    "    optimizer = optim.Adagrad(model.parameters(), lr = LEARNING_RATE)\n",
    "    \n",
    "    # Loop pelo número de épocas\n",
    "    for epoch in range(EPOCHS):\n",
    "        \n",
    "        # Erro total\n",
    "        total_loss = 0\n",
    "        \n",
    "        # Número de bacthes\n",
    "        num_batches = int(len(texto_token) / BATCH_SIZE)\n",
    "        \n",
    "        # Loop pelos batches\n",
    "        for batch in tqdm(range(num_batches)):\n",
    "            \n",
    "            # Zera os gradientes do modelo\n",
    "            model.zero_grad()\n",
    "            \n",
    "            # Obtém o bacth de dados\n",
    "            data = gera_batch(model, BATCH_SIZE)\n",
    "            \n",
    "            # Calcula o erro\n",
    "            loss = model(*data)\n",
    "            \n",
    "            # Executa o backpropagation\n",
    "            loss.backward()\n",
    "            \n",
    "            # Otimiza os pesos (aqui é onde ocorre o aprendizado)\n",
    "            optimizer.step()\n",
    "            \n",
    "            # Erro total para a epoch\n",
    "            total_loss += loss.item()\n",
    "            \n",
    "        # Erros do modelo\n",
    "        losses.append(total_loss)\n",
    "        \n",
    "        # Print da epoch e erro médio do modelo\n",
    "        print('Epoch : %d, Erro Médio : %.02f' % (epoch, np.mean(losses)))\n",
    "        \n",
    "    return model, losses "
   ]
  },
  {
   "cell_type": "code",
   "execution_count": 0,
   "metadata": {
    "application/vnd.databricks.v1+cell": {
     "cellMetadata": {
      "byteLimit": 2048000,
      "rowLimit": 10000
     },
     "inputWidgets": {},
     "nuid": "e730627e-bf74-441d-8b8e-78d4dd213cb5",
     "showTitle": false,
     "title": ""
    }
   },
   "outputs": [
    {
     "output_type": "stream",
     "name": "stdout",
     "output_type": "stream",
     "text": [
      "\r  0%|          | 0/165 [00:00<?, ?it/s]\r  8%|▊         | 14/165 [00:00<00:01, 137.89it/s]\r 27%|██▋       | 44/165 [00:00<00:00, 229.55it/s]\r 46%|████▌     | 76/165 [00:00<00:00, 269.05it/s]\r 66%|██████▌   | 109/165 [00:00<00:00, 291.33it/s]\r 84%|████████▍ | 139/165 [00:00<00:00, 287.45it/s]\r100%|██████████| 165/165 [00:00<00:00, 273.84it/s]\nEpoch : 0, Erro Médio : 183.94\n\r  0%|          | 0/165 [00:00<?, ?it/s]\r 15%|█▌        | 25/165 [00:00<00:00, 200.26it/s]\r 28%|██▊       | 46/165 [00:00<00:00, 187.46it/s]\r 50%|████▉     | 82/165 [00:00<00:00, 256.34it/s]\r 71%|███████   | 117/165 [00:00<00:00, 290.62it/s]\r 92%|█████████▏| 152/165 [00:00<00:00, 311.06it/s]\r100%|██████████| 165/165 [00:00<00:00, 283.33it/s]\nEpoch : 1, Erro Médio : 175.13\n\r  0%|          | 0/165 [00:00<?, ?it/s]\r 18%|█▊        | 30/165 [00:00<00:00, 267.43it/s]\r 40%|████      | 66/165 [00:00<00:00, 316.32it/s]\r 61%|██████    | 101/165 [00:00<00:00, 331.20it/s]\r 83%|████████▎ | 137/165 [00:00<00:00, 339.87it/s]\r100%|██████████| 165/165 [00:00<00:00, 314.46it/s]\nEpoch : 2, Erro Médio : 177.48\n\r  0%|          | 0/165 [00:00<?, ?it/s]\r 22%|██▏       | 37/165 [00:00<00:00, 360.85it/s]\r 45%|████▍     | 74/165 [00:00<00:00, 363.41it/s]\r 67%|██████▋   | 111/165 [00:00<00:00, 362.56it/s]\r 90%|████████▉ | 148/165 [00:00<00:00, 351.15it/s]\r100%|██████████| 165/165 [00:00<00:00, 355.33it/s]\nEpoch : 3, Erro Médio : 171.21\n\r  0%|          | 0/165 [00:00<?, ?it/s]\r  2%|▏         | 4/165 [00:00<00:05, 31.52it/s]\r  5%|▍         | 8/165 [00:00<00:05, 30.34it/s]\r  7%|▋         | 12/165 [00:00<00:04, 32.68it/s]\r 13%|█▎        | 22/165 [00:00<00:02, 55.79it/s]\r 33%|███▎      | 54/165 [00:00<00:00, 142.72it/s]\r 55%|█████▌    | 91/165 [00:00<00:00, 215.32it/s]\r 78%|███████▊  | 128/165 [00:00<00:00, 262.14it/s]\r100%|██████████| 165/165 [00:00<00:00, 294.46it/s]\r100%|██████████| 165/165 [00:00<00:00, 187.51it/s]\nEpoch : 4, Erro Médio : 161.16\n\r  0%|          | 0/165 [00:00<?, ?it/s]\r 22%|██▏       | 36/165 [00:00<00:00, 359.45it/s]\r 44%|████▎     | 72/165 [00:00<00:00, 339.26it/s]\r 65%|██████▌   | 108/165 [00:00<00:00, 348.12it/s]\r 87%|████████▋ | 144/165 [00:00<00:00, 349.81it/s]\r100%|██████████| 165/165 [00:00<00:00, 345.37it/s]\nEpoch : 5, Erro Médio : 159.03\n\r  0%|          | 0/165 [00:00<?, ?it/s]\r 22%|██▏       | 37/165 [00:00<00:00, 361.29it/s]\r 45%|████▍     | 74/165 [00:00<00:00, 315.36it/s]\r 67%|██████▋   | 111/165 [00:00<00:00, 336.80it/s]\r 90%|████████▉ | 148/165 [00:00<00:00, 345.93it/s]\r100%|██████████| 165/165 [00:00<00:00, 342.87it/s]\nEpoch : 6, Erro Médio : 153.70\n\r  0%|          | 0/165 [00:00<?, ?it/s]\r 20%|██        | 33/165 [00:00<00:00, 325.03it/s]\r 41%|████      | 68/165 [00:00<00:00, 336.46it/s]\r 64%|██████▎   | 105/165 [00:00<00:00, 347.62it/s]\r 85%|████████▌ | 141/165 [00:00<00:00, 352.15it/s]\r100%|██████████| 165/165 [00:00<00:00, 347.44it/s]\nEpoch : 7, Erro Médio : 149.29\n\r  0%|          | 0/165 [00:00<?, ?it/s]\r 23%|██▎       | 38/165 [00:00<00:00, 374.24it/s]\r 46%|████▌     | 76/165 [00:00<00:00, 289.11it/s]\r 68%|██████▊   | 112/165 [00:00<00:00, 314.62it/s]\r 88%|████████▊ | 145/165 [00:00<00:00, 292.64it/s]\r100%|██████████| 165/165 [00:00<00:00, 307.32it/s]\nEpoch : 8, Erro Médio : 147.22\n\r  0%|          | 0/165 [00:00<?, ?it/s]\r 22%|██▏       | 36/165 [00:00<00:00, 355.83it/s]\r 44%|████▎     | 72/165 [00:00<00:00, 325.96it/s]\r 68%|██████▊   | 112/165 [00:00<00:00, 354.54it/s]\r 90%|████████▉ | 148/165 [00:00<00:00, 352.18it/s]\r100%|██████████| 165/165 [00:00<00:00, 351.56it/s]\nEpoch : 9, Erro Médio : 142.96\n\r  0%|          | 0/165 [00:00<?, ?it/s]\r 22%|██▏       | 37/165 [00:00<00:00, 367.28it/s]\r 45%|████▍     | 74/165 [00:00<00:00, 285.94it/s]\r 67%|██████▋   | 111/165 [00:00<00:00, 318.09it/s]\r 90%|████████▉ | 148/165 [00:00<00:00, 334.35it/s]\r100%|██████████| 165/165 [00:00<00:00, 328.82it/s]\nEpoch : 10, Erro Médio : 139.34\n\r  0%|          | 0/165 [00:00<?, ?it/s]\r 22%|██▏       | 37/165 [00:00<00:00, 361.01it/s]\r 45%|████▍     | 74/165 [00:00<00:00, 347.50it/s]\r 66%|██████▌   | 109/165 [00:00<00:00, 346.11it/s]\r 88%|████████▊ | 146/165 [00:00<00:00, 352.31it/s]\r100%|██████████| 165/165 [00:00<00:00, 352.11it/s]\nEpoch : 11, Erro Médio : 136.44\n\r  0%|          | 0/165 [00:00<?, ?it/s]\r 19%|█▉        | 31/165 [00:00<00:00, 302.78it/s]\r 39%|███▉      | 65/165 [00:00<00:00, 319.59it/s]\r 61%|██████    | 101/165 [00:00<00:00, 337.11it/s]\r 84%|████████▎ | 138/165 [00:00<00:00, 349.49it/s]\r100%|██████████| 165/165 [00:00<00:00, 343.22it/s]\nEpoch : 12, Erro Médio : 132.98\n\r  0%|          | 0/165 [00:00<?, ?it/s]\r 22%|██▏       | 37/165 [00:00<00:00, 367.30it/s]\r 45%|████▍     | 74/165 [00:00<00:00, 362.55it/s]\r 67%|██████▋   | 111/165 [00:00<00:00, 357.08it/s]\r 89%|████████▉ | 147/165 [00:00<00:00, 350.10it/s]\r100%|██████████| 165/165 [00:00<00:00, 354.34it/s]\nEpoch : 13, Erro Médio : 129.42\n\r  0%|          | 0/165 [00:00<?, ?it/s]\r 12%|█▏        | 20/165 [00:00<00:00, 199.01it/s]\r 36%|███▌      | 59/165 [00:00<00:00, 308.78it/s]\r 55%|█████▍    | 90/165 [00:00<00:00, 298.69it/s]\r 76%|███████▋  | 126/165 [00:00<00:00, 320.52it/s]\r 99%|█████████▉| 163/165 [00:00<00:00, 336.50it/s]\r100%|██████████| 165/165 [00:00<00:00, 317.54it/s]\nEpoch : 14, Erro Médio : 125.95\n\r  0%|          | 0/165 [00:00<?, ?it/s]\r 22%|██▏       | 36/165 [00:00<00:00, 358.43it/s]\r 44%|████▎     | 72/165 [00:00<00:00, 347.79it/s]\r 65%|██████▍   | 107/165 [00:00<00:00, 346.30it/s]\r 87%|████████▋ | 144/165 [00:00<00:00, 353.98it/s]\r100%|██████████| 165/165 [00:00<00:00, 352.75it/s]\nEpoch : 15, Erro Médio : 122.40\n\r  0%|          | 0/165 [00:00<?, ?it/s]\r 21%|██        | 34/165 [00:00<00:00, 335.06it/s]\r 42%|████▏     | 70/165 [00:00<00:00, 348.22it/s]\r 64%|██████▎   | 105/165 [00:00<00:00, 337.67it/s]\r 86%|████████▌ | 142/165 [00:00<00:00, 349.76it/s]\r100%|██████████| 165/165 [00:00<00:00, 348.16it/s]\nEpoch : 16, Erro Médio : 119.53\n\r  0%|          | 0/165 [00:00<?, ?it/s]\r 20%|██        | 33/165 [00:00<00:00, 327.86it/s]\r 40%|████      | 66/165 [00:00<00:00, 263.02it/s]\r 62%|██████▏   | 102/165 [00:00<00:00, 299.21it/s]\r 84%|████████▎ | 138/165 [00:00<00:00, 320.58it/s]\r100%|██████████| 165/165 [00:00<00:00, 317.34it/s]\nEpoch : 17, Erro Médio : 117.00\n\r  0%|          | 0/165 [00:00<?, ?it/s]\r 22%|██▏       | 37/165 [00:00<00:00, 361.67it/s]\r 45%|████▍     | 74/165 [00:00<00:00, 354.39it/s]\r 67%|██████▋   | 110/165 [00:00<00:00, 304.26it/s]\r 90%|████████▉ | 148/165 [00:00<00:00, 329.85it/s]\r100%|██████████| 165/165 [00:00<00:00, 332.90it/s]\nEpoch : 18, Erro Médio : 114.14\n\r  0%|          | 0/165 [00:00<?, ?it/s]\r 22%|██▏       | 36/165 [00:00<00:00, 359.50it/s]\r 44%|████▎     | 72/165 [00:00<00:00, 229.05it/s]\r 65%|██████▌   | 108/165 [00:00<00:00, 274.05it/s]\r 88%|████████▊ | 146/165 [00:00<00:00, 307.03it/s]\r100%|██████████| 165/165 [00:00<00:00, 298.13it/s]\nEpoch : 19, Erro Médio : 111.72\n\r  0%|          | 0/165 [00:00<?, ?it/s]\r 16%|█▌        | 26/165 [00:00<00:00, 195.78it/s]\r 30%|██▉       | 49/165 [00:00<00:00, 197.23it/s]\r 47%|████▋     | 78/165 [00:00<00:00, 233.39it/s]\r 68%|██████▊   | 112/165 [00:00<00:00, 271.46it/s]\r 90%|████████▉ | 148/165 [00:00<00:00, 301.13it/s]\r100%|██████████| 165/165 [00:00<00:00, 274.98it/s]\nEpoch : 20, Erro Médio : 109.57\n\r  0%|          | 0/165 [00:00<?, ?it/s]\r 21%|██        | 35/165 [00:00<00:00, 348.98it/s]\r 42%|████▏     | 70/165 [00:00<00:00, 316.90it/s]\r 67%|██████▋   | 110/165 [00:00<00:00, 335.43it/s]\r 89%|████████▉ | 147/165 [00:00<00:00, 346.45it/s]\r100%|██████████| 165/165 [00:00<00:00, 344.72it/s]\nEpoch : 21, Erro Médio : 107.33\n\r  0%|          | 0/165 [00:00<?, ?it/s]\r 24%|██▍       | 40/165 [00:00<00:00, 392.74it/s]\r 48%|████▊     | 80/165 [00:00<00:00, 379.74it/s]\r 72%|███████▏  | 119/165 [00:00<00:00, 384.17it/s]\r 96%|█████████▌| 158/165 [00:00<00:00, 379.71it/s]\r100%|██████████| 165/165 [00:00<00:00, 379.70it/s]\nEpoch : 22, Erro Médio : 105.25\n\r  0%|          | 0/165 [00:00<?, ?it/s]\r 22%|██▏       | 36/165 [00:00<00:00, 351.23it/s]\r 44%|████▍     | 73/165 [00:00<00:00, 360.65it/s]\r 67%|██████▋   | 110/165 [00:00<00:00, 350.09it/s]\r 89%|████████▉ | 147/165 [00:00<00:00, 357.41it/s]\r100%|██████████| 165/165 [00:00<00:00, 355.62it/s]\nEpoch : 23, Erro Médio : 103.54\n\r  0%|          | 0/165 [00:00<?, ?it/s]\r 16%|█▌        | 26/165 [00:00<00:00, 254.25it/s]\r 36%|███▋      | 60/165 [00:00<00:00, 283.89it/s]\r 54%|█████▍    | 89/165 [00:00<00:00, 185.07it/s]\r 78%|███████▊  | 128/165 [00:00<00:00, 243.63it/s]\r 98%|█████████▊| 161/165 [00:00<00:00, 268.18it/s]\r100%|██████████| 165/165 [00:00<00:00, 252.59it/s]\nEpoch : 24, Erro Médio : 101.62\n\r  0%|          | 0/165 [00:00<?, ?it/s]\r 22%|██▏       | 36/165 [00:00<00:00, 357.76it/s]\r 44%|████▍     | 73/165 [00:00<00:00, 360.70it/s]\r 67%|██████▋   | 110/165 [00:00<00:00, 306.52it/s]\r 87%|████████▋ | 143/165 [00:00<00:00, 314.46it/s]\r100%|██████████| 165/165 [00:00<00:00, 304.17it/s]\nEpoch : 25, Erro Médio : 99.83\n\r  0%|          | 0/165 [00:00<?, ?it/s]\r 22%|██▏       | 36/165 [00:00<00:00, 357.68it/s]\r 44%|████▎     | 72/165 [00:00<00:00, 342.01it/s]\r 65%|██████▍   | 107/165 [00:00<00:00, 341.30it/s]\r 88%|████████▊ | 146/165 [00:00<00:00, 356.92it/s]\r100%|██████████| 165/165 [00:00<00:00, 353.98it/s]\nEpoch : 26, Erro Médio : 98.10\n\r  0%|          | 0/165 [00:00<?, ?it/s]\r 12%|█▏        | 19/165 [00:00<00:00, 185.73it/s]\r 34%|███▍      | 56/165 [00:00<00:00, 291.17it/s]\r 54%|█████▍    | 89/165 [00:00<00:00, 298.61it/s]\r 76%|███████▌  | 125/165 [00:00<00:00, 318.75it/s]\r 98%|█████████▊| 162/165 [00:00<00:00, 335.29it/s]\r100%|██████████| 165/165 [00:00<00:00, 314.42it/s]\nEpoch : 27, Erro Médio : 96.41\n\r  0%|          | 0/165 [00:00<?, ?it/s]\r 18%|█▊        | 30/165 [00:00<00:00, 295.11it/s]\r 41%|████      | 67/165 [00:00<00:00, 336.13it/s]\r 61%|██████    | 101/165 [00:00<00:00, 317.63it/s]\r 82%|████████▏ | 135/165 [00:00<00:00, 325.75it/s]\r100%|██████████| 165/165 [00:00<00:00, 329.20it/s]\nEpoch : 28, Erro Médio : 94.88\n\r  0%|          | 0/165 [00:00<?, ?it/s]\r 19%|█▉        | 31/165 [00:00<00:00, 278.33it/s]\r 36%|███▌      | 59/165 [00:00<00:00, 221.40it/s]\r 51%|█████     | 84/165 [00:00<00:00, 230.89it/s]\r 70%|██████▉   | 115/165 [00:00<00:00, 257.45it/s]\r 91%|█████████ | 150/165 [00:00<00:00, 287.97it/s]\r100%|██████████| 165/165 [00:00<00:00, 272.94it/s]\nEpoch : 29, Erro Médio : 93.31\n\r  0%|          | 0/165 [00:00<?, ?it/s]\r 21%|██        | 35/165 [00:00<00:00, 345.44it/s]\r 42%|████▏     | 70/165 [00:00<00:00, 342.31it/s]\r 64%|██████▎   | 105/165 [00:00<00:00, 345.15it/s]\r 85%|████████▍ | 140/165 [00:00<00:00, 317.91it/s]\r100%|██████████| 165/165 [00:00<00:00, 330.86it/s]\nEpoch : 30, Erro Médio : 91.87\n\r  0%|          | 0/165 [00:00<?, ?it/s]\r 22%|██▏       | 37/165 [00:00<00:00, 367.80it/s]\r 45%|████▍     | 74/165 [00:00<00:00, 345.64it/s]\r 67%|██████▋   | 111/165 [00:00<00:00, 354.27it/s]\r 89%|████████▉ | 147/165 [00:00<00:00, 352.32it/s]\r100%|██████████| 165/165 [00:00<00:00, 348.77it/s]\nEpoch : 31, Erro Médio : 90.42\n\r  0%|          | 0/165 [00:00<?, ?it/s]\r 22%|██▏       | 37/165 [00:00<00:00, 369.98it/s]\r 45%|████▍     | 74/165 [00:00<00:00, 332.34it/s]\r 68%|██████▊   | 112/165 [00:00<00:00, 352.26it/s]\r 90%|█████████ | 149/165 [00:00<00:00, 358.99it/s]\r100%|██████████| 165/165 [00:00<00:00, 350.43it/s]\nEpoch : 32, Erro Médio : 89.10\n\r  0%|          | 0/165 [00:00<?, ?it/s]\r 21%|██        | 35/165 [00:00<00:00, 348.72it/s]\r 44%|████▍     | 73/165 [00:00<00:00, 366.32it/s]\r 67%|██████▋   | 110/165 [00:00<00:00, 323.19it/s]\r 90%|████████▉ | 148/165 [00:00<00:00, 343.08it/s]\r100%|██████████| 165/165 [00:00<00:00, 342.43it/s]\nEpoch : 33, Erro Médio : 87.92\n\r  0%|          | 0/165 [00:00<?, ?it/s]\r 16%|█▋        | 27/165 [00:00<00:00, 268.22it/s]\r 39%|███▉      | 65/165 [00:00<00:00, 332.69it/s]\r 62%|██████▏   | 103/165 [00:00<00:00, 352.92it/s]\r 84%|████████▍ | 139/165 [00:00<00:00, 350.71it/s]\r100%|██████████| 165/165 [00:00<00:00, 344.88it/s]\nEpoch : 34, Erro Médio : 86.74\n\r  0%|          | 0/165 [00:00<?, ?it/s]\r 22%|██▏       | 37/165 [00:00<00:00, 367.96it/s]\r 45%|████▌     | 75/165 [00:00<00:00, 373.53it/s]\r 68%|██████▊   | 113/165 [00:00<00:00, 346.53it/s]\r 90%|████████▉ | 148/165 [00:00<00:00, 335.99it/s]\r100%|██████████| 165/165 [00:00<00:00, 344.27it/s]\nEpoch : 35, Erro Médio : 85.54\n\r  0%|          | 0/165 [00:00<?, ?it/s]\r  5%|▍         | 8/165 [00:00<00:01, 79.67it/s]\r 27%|██▋       | 45/165 [00:00<00:00, 249.94it/s]\r 48%|████▊     | 79/165 [00:00<00:00, 289.13it/s]\r 70%|███████   | 116/165 [00:00<00:00, 320.45it/s]\r 93%|█████████▎| 153/165 [00:00<00:00, 336.78it/s]\r100%|██████████| 165/165 [00:00<00:00, 305.09it/s]\nEpoch : 36, Erro Médio : 84.42\n\r  0%|          | 0/165 [00:00<?, ?it/s]\r 22%|██▏       | 36/165 [00:00<00:00, 358.17it/s]\r 44%|████▎     | 72/165 [00:00<00:00, 343.11it/s]\r 65%|██████▍   | 107/165 [00:00<00:00, 325.57it/s]\r 87%|████████▋ | 144/165 [00:00<00:00, 338.97it/s]\r100%|██████████| 165/165 [00:00<00:00, 333.35it/s]\nEpoch : 37, Erro Médio : 83.33\n\r  0%|          | 0/165 [00:00<?, ?it/s]\r 18%|█▊        | 30/165 [00:00<00:00, 299.79it/s]\r 41%|████      | 67/165 [00:00<00:00, 336.13it/s]\r 62%|██████▏   | 103/165 [00:00<00:00, 345.64it/s]\r 84%|████████▎ | 138/165 [00:00<00:00, 320.44it/s]\r100%|██████████| 165/165 [00:00<00:00, 329.35it/s]\nEpoch : 38, Erro Médio : 82.24\n\r  0%|          | 0/165 [00:00<?, ?it/s]\r 16%|█▌        | 26/165 [00:00<00:00, 255.55it/s]\r 39%|███▉      | 65/165 [00:00<00:00, 330.08it/s]\r 61%|██████    | 101/165 [00:00<00:00, 343.28it/s]\r 82%|████████▏ | 136/165 [00:00<00:00, 325.93it/s]\r100%|██████████| 165/165 [00:00<00:00, 313.45it/s]\nEpoch : 39, Erro Médio : 81.23\n\r  0%|          | 0/165 [00:00<?, ?it/s]\r 22%|██▏       | 37/165 [00:00<00:00, 369.96it/s]\r 45%|████▌     | 75/165 [00:00<00:00, 371.84it/s]\r 68%|██████▊   | 113/165 [00:00<00:00, 371.31it/s]\r 92%|█████████▏| 151/165 [00:00<00:00, 336.90it/s]\r100%|██████████| 165/165 [00:00<00:00, 341.00it/s]\nEpoch : 40, Erro Médio : 80.24\n\r  0%|          | 0/165 [00:00<?, ?it/s]\r 22%|██▏       | 37/165 [00:00<00:00, 363.66it/s]\r 45%|████▍     | 74/165 [00:00<00:00, 339.23it/s]\r 67%|██████▋   | 111/165 [00:00<00:00, 351.09it/s]\r 90%|████████▉ | 148/165 [00:00<00:00, 355.21it/s]\r100%|██████████| 165/165 [00:00<00:00, 330.23it/s]\nEpoch : 41, Erro Médio : 79.28\n\r  0%|          | 0/165 [00:00<?, ?it/s]\r 22%|██▏       | 37/165 [00:00<00:00, 368.61it/s]\r 45%|████▍     | 74/165 [00:00<00:00, 359.74it/s]\r 67%|██████▋   | 110/165 [00:00<00:00, 337.39it/s]\r 88%|████████▊ | 146/165 [00:00<00:00, 343.02it/s]\r100%|██████████| 165/165 [00:00<00:00, 343.40it/s]\nEpoch : 42, Erro Médio : 78.34\n\r  0%|          | 0/165 [00:00<?, ?it/s]\r 20%|██        | 33/165 [00:00<00:00, 326.74it/s]\r 43%|████▎     | 71/165 [00:00<00:00, 353.88it/s]\r 65%|██████▍   | 107/165 [00:00<00:00, 206.01it/s]\r 81%|████████  | 134/165 [00:00<00:00, 215.33it/s]\r100%|██████████| 165/165 [00:00<00:00, 247.98it/s]\nEpoch : 43, Erro Médio : 77.41\n\r  0%|          | 0/165 [00:00<?, ?it/s]\r 22%|██▏       | 37/165 [00:00<00:00, 369.22it/s]\r 45%|████▍     | 74/165 [00:00<00:00, 344.04it/s]\r 67%|██████▋   | 111/165 [00:00<00:00, 353.42it/s]\r 90%|█████████ | 149/165 [00:00<00:00, 361.47it/s]\r100%|██████████| 165/165 [00:00<00:00, 359.39it/s]\nEpoch : 44, Erro Médio : 76.56\n\r  0%|          | 0/165 [00:00<?, ?it/s]\r 22%|██▏       | 36/165 [00:00<00:00, 344.02it/s]\r 43%|████▎     | 71/165 [00:00<00:00, 206.37it/s]\r 58%|█████▊    | 95/165 [00:00<00:00, 172.72it/s]\r 79%|███████▉  | 131/165 [00:00<00:00, 222.81it/s]\r100%|██████████| 165/165 [00:00<00:00, 237.34it/s]\nEpoch : 45, Erro Médio : 75.74\n\r  0%|          | 0/165 [00:00<?, ?it/s]\r 22%|██▏       | 37/165 [00:00<00:00, 369.87it/s]\r 45%|████▍     | 74/165 [00:00<00:00, 366.90it/s]\r 68%|██████▊   | 113/165 [00:00<00:00, 373.23it/s]\r 92%|█████████▏| 151/165 [00:00<00:00, 349.43it/s]\r100%|██████████| 165/165 [00:00<00:00, 355.57it/s]\nEpoch : 46, Erro Médio : 74.90\n\r  0%|          | 0/165 [00:00<?, ?it/s]\r 23%|██▎       | 38/165 [00:00<00:00, 372.31it/s]\r 46%|████▌     | 76/165 [00:00<00:00, 361.74it/s]\r 68%|██████▊   | 113/165 [00:00<00:00, 333.73it/s]\r 90%|████████▉ | 148/165 [00:00<00:00, 338.22it/s]\r100%|██████████| 165/165 [00:00<00:00, 339.96it/s]\nEpoch : 47, Erro Médio : 74.12\n\r  0%|          | 0/165 [00:00<?, ?it/s]\r 21%|██        | 35/165 [00:00<00:00, 342.03it/s]\r 44%|████▎     | 72/165 [00:00<00:00, 353.55it/s]\r 65%|██████▌   | 108/165 [00:00<00:00, 304.63it/s]\r 85%|████████▍ | 140/165 [00:00<00:00, 297.99it/s]\r100%|██████████| 165/165 [00:00<00:00, 318.38it/s]\nEpoch : 48, Erro Médio : 73.33\n\r  0%|          | 0/165 [00:00<?, ?it/s]\r 21%|██        | 35/165 [00:00<00:00, 347.38it/s]\r 44%|████▍     | 73/165 [00:00<00:00, 362.19it/s]\r 68%|██████▊   | 113/165 [00:00<00:00, 376.70it/s]\r 93%|█████████▎| 153/165 [00:00<00:00, 383.79it/s]\r100%|██████████| 165/165 [00:00<00:00, 377.31it/s]\nEpoch : 49, Erro Médio : 72.59\n\r  0%|          | 0/165 [00:00<?, ?it/s]\r 24%|██▍       | 40/165 [00:00<00:00, 390.99it/s]\r 48%|████▊     | 80/165 [00:00<00:00, 352.75it/s]\r 70%|███████   | 116/165 [00:00<00:00, 333.54it/s]\r 93%|█████████▎| 154/165 [00:00<00:00, 347.84it/s]\r100%|██████████| 165/165 [00:00<00:00, 342.58it/s]\nEpoch : 50, Erro Médio : 71.85\n\r  0%|          | 0/165 [00:00<?, ?it/s]\r 23%|██▎       | 38/165 [00:00<00:00, 377.42it/s]\r 46%|████▌     | 76/165 [00:00<00:00, 377.75it/s]\r 69%|██████▉   | 114/165 [00:00<00:00, 362.24it/s]\r 92%|█████████▏| 152/165 [00:00<00:00, 365.58it/s]\r100%|██████████| 165/165 [00:00<00:00, 366.50it/s]\nEpoch : 51, Erro Médio : 71.11\n\r  0%|          | 0/165 [00:00<?, ?it/s]\r 19%|█▉        | 32/165 [00:00<00:00, 313.78it/s]\r 42%|████▏     | 69/165 [00:00<00:00, 341.07it/s]\r 63%|██████▎   | 104/165 [00:00<00:00, 343.51it/s]\r 84%|████████▍ | 139/165 [00:00<00:00, 341.06it/s]\r100%|██████████| 165/165 [00:00<00:00, 342.40it/s]\nEpoch : 52, Erro Médio : 70.41\n\r  0%|          | 0/165 [00:00<?, ?it/s]\r 15%|█▌        | 25/165 [00:00<00:00, 247.18it/s]\r 36%|███▌      | 59/165 [00:00<00:00, 300.20it/s]\r 58%|█████▊    | 96/165 [00:00<00:00, 328.74it/s]\r 78%|███████▊  | 129/165 [00:00<00:00, 271.27it/s]\r100%|██████████| 165/165 [00:00<00:00, 295.50it/s]\nEpoch : 53, Erro Médio : 69.73\n\r  0%|          | 0/165 [00:00<?, ?it/s]\r 22%|██▏       | 37/165 [00:00<00:00, 367.54it/s]\r 45%|████▍     | 74/165 [00:00<00:00, 343.76it/s]\r 66%|██████▌   | 109/165 [00:00<00:00, 342.67it/s]\r 88%|████████▊ | 145/165 [00:00<00:00, 348.95it/s]\r100%|██████████| 165/165 [00:00<00:00, 349.30it/s]\nEpoch : 54, Erro Médio : 69.09\n\r  0%|          | 0/165 [00:00<?, ?it/s]\r 21%|██        | 34/165 [00:00<00:00, 329.86it/s]\r 41%|████      | 67/165 [00:00<00:00, 304.93it/s]\r 60%|██████    | 99/165 [00:00<00:00, 306.93it/s]\r 82%|████████▏ | 136/165 [00:00<00:00, 328.11it/s]\r100%|██████████| 165/165 [00:00<00:00, 319.11it/s]\nEpoch : 55, Erro Médio : 68.44\n\r  0%|          | 0/165 [00:00<?, ?it/s]\r 24%|██▎       | 39/165 [00:00<00:00, 382.80it/s]\r 47%|████▋     | 78/165 [00:00<00:00, 376.31it/s]\r 70%|███████   | 116/165 [00:00<00:00, 369.37it/s]\r 93%|█████████▎| 154/165 [00:00<00:00, 372.32it/s]\r100%|██████████| 165/165 [00:00<00:00, 371.51it/s]\nEpoch : 56, Erro Médio : 67.82\n\r  0%|          | 0/165 [00:00<?, ?it/s]\r 15%|█▌        | 25/165 [00:00<00:00, 167.05it/s]\r 38%|███▊      | 62/165 [00:00<00:00, 265.35it/s]\r 59%|█████▉    | 98/165 [00:00<00:00, 302.27it/s]\r 81%|████████  | 133/165 [00:00<00:00, 317.47it/s]\r100%|██████████| 165/165 [00:00<00:00, 305.47it/s]\nEpoch : 57, Erro Médio : 67.21\n\r  0%|          | 0/165 [00:00<?, ?it/s]\r 22%|██▏       | 36/165 [00:00<00:00, 354.17it/s]\r 44%|████▍     | 73/165 [00:00<00:00, 360.50it/s]\r 67%|██████▋   | 110/165 [00:00<00:00, 353.45it/s]\r 88%|████████▊ | 146/165 [00:00<00:00, 334.81it/s]\r100%|██████████| 165/165 [00:00<00:00, 343.79it/s]\nEpoch : 58, Erro Médio : 66.59\n\r  0%|          | 0/165 [00:00<?, ?it/s]\r 22%|██▏       | 37/165 [00:00<00:00, 363.42it/s]\r 45%|████▍     | 74/165 [00:00<00:00, 337.85it/s]\r 65%|██████▌   | 108/165 [00:00<00:00, 273.87it/s]\r 85%|████████▌ | 141/165 [00:00<00:00, 290.22it/s]\r100%|██████████| 165/165 [00:00<00:00, 305.11it/s]\nEpoch : 59, Erro Médio : 66.02\n\r  0%|          | 0/165 [00:00<?, ?it/s]\r 22%|██▏       | 37/165 [00:00<00:00, 364.91it/s]\r 45%|████▍     | 74/165 [00:00<00:00, 313.11it/s]\r 64%|██████▍   | 106/165 [00:00<00:00, 315.20it/s]\r 87%|████████▋ | 143/165 [00:00<00:00, 332.55it/s]\r100%|██████████| 165/165 [00:00<00:00, 325.66it/s]\nEpoch : 60, Erro Médio : 65.46\n\r  0%|          | 0/165 [00:00<?, ?it/s]\r 22%|██▏       | 36/165 [00:00<00:00, 357.19it/s]\r 44%|████▎     | 72/165 [00:00<00:00, 355.08it/s]\r 65%|██████▌   | 108/165 [00:00<00:00, 348.27it/s]\r 87%|████████▋ | 144/165 [00:00<00:00, 351.25it/s]\r100%|██████████| 165/165 [00:00<00:00, 351.36it/s]\nEpoch : 61, Erro Médio : 64.90\n\r  0%|          | 0/165 [00:00<?, ?it/s]\r 17%|█▋        | 28/165 [00:00<00:00, 274.10it/s]\r 38%|███▊      | 62/165 [00:00<00:00, 309.34it/s]\r 59%|█████▉    | 98/165 [00:00<00:00, 328.63it/s]\r 80%|████████  | 132/165 [00:00<00:00, 330.06it/s]\r100%|██████████| 165/165 [00:00<00:00, 330.72it/s]\nEpoch : 62, Erro Médio : 64.35\n\r  0%|          | 0/165 [00:00<?, ?it/s]\r 22%|██▏       | 36/165 [00:00<00:00, 359.61it/s]\r 44%|████▎     | 72/165 [00:00<00:00, 356.64it/s]\r 65%|██████▌   | 108/165 [00:00<00:00, 347.89it/s]\r 87%|████████▋ | 143/165 [00:00<00:00, 332.69it/s]\r100%|██████████| 165/165 [00:00<00:00, 342.50it/s]\nEpoch : 63, Erro Médio : 63.85\n\r  0%|          | 0/165 [00:00<?, ?it/s]\r 21%|██        | 35/165 [00:00<00:00, 349.42it/s]\r 42%|████▏     | 70/165 [00:00<00:00, 336.15it/s]\r 65%|██████▌   | 108/165 [00:00<00:00, 355.22it/s]\r 89%|████████▉ | 147/165 [00:00<00:00, 368.28it/s]\r100%|██████████| 165/165 [00:00<00:00, 362.69it/s]\nEpoch : 64, Erro Médio : 63.34\n\r  0%|          | 0/165 [00:00<?, ?it/s]\r 22%|██▏       | 36/165 [00:00<00:00, 355.09it/s]\r 44%|████▎     | 72/165 [00:00<00:00, 351.22it/s]\r 65%|██████▌   | 108/165 [00:00<00:00, 342.00it/s]\r 88%|████████▊ | 146/165 [00:00<00:00, 355.32it/s]\r100%|██████████| 165/165 [00:00<00:00, 355.96it/s]\nEpoch : 65, Erro Médio : 62.84\n\r  0%|          | 0/165 [00:00<?, ?it/s]\r 22%|██▏       | 36/165 [00:00<00:00, 358.55it/s]\r 46%|████▌     | 76/165 [00:00<00:00, 377.91it/s]\r 70%|███████   | 116/165 [00:00<00:00, 385.28it/s]\r 94%|█████████▍| 155/165 [00:00<00:00, 379.21it/s]\r100%|██████████| 165/165 [00:00<00:00, 377.44it/s]\nEpoch : 66, Erro Médio : 62.36\n\r  0%|          | 0/165 [00:00<?, ?it/s]\r 24%|██▎       | 39/165 [00:00<00:00, 381.03it/s]\r 47%|████▋     | 78/165 [00:00<00:00, 323.87it/s]\r 68%|██████▊   | 113/165 [00:00<00:00, 334.35it/s]\r 90%|████████▉ | 148/165 [00:00<00:00, 338.21it/s]\r100%|██████████| 165/165 [00:00<00:00, 330.93it/s]\nEpoch : 67, Erro Médio : 61.86\n\r  0%|          | 0/165 [00:00<?, ?it/s]\r 22%|██▏       | 36/165 [00:00<00:00, 358.15it/s]\r 44%|████▎     | 72/165 [00:00<00:00, 339.53it/s]\r 68%|██████▊   | 112/165 [00:00<00:00, 363.22it/s]\r 92%|█████████▏| 151/165 [00:00<00:00, 370.29it/s]\r100%|██████████| 165/165 [00:00<00:00, 348.71it/s]\nEpoch : 68, Erro Médio : 61.38\n\r  0%|          | 0/165 [00:00<?, ?it/s]\r 17%|█▋        | 28/165 [00:00<00:00, 275.77it/s]\r 35%|███▍      | 57/165 [00:00<00:00, 280.77it/s]\r 58%|█████▊    | 95/165 [00:00<00:00, 324.83it/s]\r 78%|███████▊  | 129/165 [00:00<00:00, 327.82it/s]\r100%|██████████| 165/165 [00:00<00:00, 339.05it/s]\r100%|██████████| 165/165 [00:00<00:00, 325.03it/s]\nEpoch : 69, Erro Médio : 60.91\n\r  0%|          | 0/165 [00:00<?, ?it/s]\r 21%|██        | 34/165 [00:00<00:00, 337.91it/s]\r 44%|████▎     | 72/165 [00:00<00:00, 359.69it/s]\r 67%|██████▋   | 110/165 [00:00<00:00, 367.52it/s]\r 89%|████████▉ | 147/165 [00:00<00:00, 322.09it/s]\r100%|██████████| 165/165 [00:00<00:00, 337.74it/s]\nEpoch : 70, Erro Médio : 60.45\n\r  0%|          | 0/165 [00:00<?, ?it/s]\r 22%|██▏       | 37/165 [00:00<00:00, 366.51it/s]\r 45%|████▍     | 74/165 [00:00<00:00, 346.41it/s]\r 67%|██████▋   | 110/165 [00:00<00:00, 351.00it/s]\r 88%|████████▊ | 146/165 [00:00<00:00, 354.23it/s]\r100%|██████████| 165/165 [00:00<00:00, 351.94it/s]\nEpoch : 71, Erro Médio : 60.00\n\r  0%|          | 0/165 [00:00<?, ?it/s]\r 21%|██        | 34/165 [00:00<00:00, 338.97it/s]\r 43%|████▎     | 71/165 [00:00<00:00, 352.20it/s]\r 65%|██████▍   | 107/165 [00:00<00:00, 335.81it/s]\r 87%|████████▋ | 144/165 [00:00<00:00, 347.74it/s]\r100%|██████████| 165/165 [00:00<00:00, 344.50it/s]\nEpoch : 72, Erro Médio : 59.56\n\r  0%|          | 0/165 [00:00<?, ?it/s]\r 20%|██        | 33/165 [00:00<00:00, 322.02it/s]\r 42%|████▏     | 70/165 [00:00<00:00, 344.82it/s]\r 64%|██████▎   | 105/165 [00:00<00:00, 315.08it/s]\r 85%|████████▌ | 141/165 [00:00<00:00, 331.15it/s]\r100%|██████████| 165/165 [00:00<00:00, 331.56it/s]\nEpoch : 73, Erro Médio : 59.12\n\r  0%|          | 0/165 [00:00<?, ?it/s]\r 19%|█▉        | 31/165 [00:00<00:00, 308.23it/s]\r 38%|███▊      | 62/165 [00:00<00:00, 305.76it/s]\r 60%|██████    | 99/165 [00:00<00:00, 332.21it/s]\r 82%|████████▏ | 136/165 [00:00<00:00, 346.12it/s]\r100%|██████████| 165/165 [00:00<00:00, 334.71it/s]\nEpoch\n\n*** WARNING: max output size exceeded, skipping output. ***\n\n[00:00<00:00, 365.97it/s]\r 45%|████▍     | 74/165 [00:00<00:00, 354.44it/s]\r 68%|██████▊   | 112/165 [00:00<00:00, 363.28it/s]\r 91%|█████████ | 150/165 [00:00<00:00, 367.57it/s]\r100%|██████████| 165/165 [00:00<00:00, 365.19it/s]\nEpoch : 124, Erro Médio : 44.13\n\r  0%|          | 0/165 [00:00<?, ?it/s]\r 19%|█▉        | 31/165 [00:00<00:00, 304.13it/s]\r 38%|███▊      | 62/165 [00:00<00:00, 290.72it/s]\r 58%|█████▊    | 96/165 [00:00<00:00, 312.02it/s]\r 79%|███████▉  | 130/165 [00:00<00:00, 319.64it/s]\r100%|██████████| 165/165 [00:00<00:00, 326.86it/s]\nEpoch : 125, Erro Médio : 43.93\n\r  0%|          | 0/165 [00:00<?, ?it/s]\r 23%|██▎       | 38/165 [00:00<00:00, 375.37it/s]\r 46%|████▌     | 76/165 [00:00<00:00, 357.48it/s]\r 68%|██████▊   | 112/165 [00:00<00:00, 353.99it/s]\r 90%|████████▉ | 148/165 [00:00<00:00, 318.97it/s]\r100%|██████████| 165/165 [00:00<00:00, 334.91it/s]\nEpoch : 126, Erro Médio : 43.72\n\r  0%|          | 0/165 [00:00<?, ?it/s]\r 22%|██▏       | 37/165 [00:00<00:00, 364.46it/s]\r 45%|████▍     | 74/165 [00:00<00:00, 334.09it/s]\r 67%|██████▋   | 110/165 [00:00<00:00, 343.46it/s]\r 88%|████████▊ | 146/165 [00:00<00:00, 347.91it/s]\r100%|██████████| 165/165 [00:00<00:00, 346.95it/s]\nEpoch : 127, Erro Médio : 43.53\n\r  0%|          | 0/165 [00:00<?, ?it/s]\r 24%|██▎       | 39/165 [00:00<00:00, 380.43it/s]\r 47%|████▋     | 78/165 [00:00<00:00, 347.36it/s]\r 68%|██████▊   | 113/165 [00:00<00:00, 333.21it/s]\r 91%|█████████ | 150/165 [00:00<00:00, 344.06it/s]\r100%|██████████| 165/165 [00:00<00:00, 346.21it/s]\nEpoch : 128, Erro Médio : 43.33\n\r  0%|          | 0/165 [00:00<?, ?it/s]\r 16%|█▌        | 26/165 [00:00<00:00, 254.46it/s]\r 39%|███▉      | 64/165 [00:00<00:00, 324.24it/s]\r 59%|█████▉    | 97/165 [00:00<00:00, 309.42it/s]\r 83%|████████▎ | 137/165 [00:00<00:00, 340.63it/s]\r100%|██████████| 165/165 [00:00<00:00, 336.13it/s]\nEpoch : 129, Erro Médio : 43.14\n\r  0%|          | 0/165 [00:00<?, ?it/s]\r 24%|██▎       | 39/165 [00:00<00:00, 297.43it/s]\r 46%|████▌     | 76/165 [00:00<00:00, 331.36it/s]\r 69%|██████▉   | 114/165 [00:00<00:00, 351.48it/s]\r 91%|█████████ | 150/165 [00:00<00:00, 347.30it/s]\r100%|██████████| 165/165 [00:00<00:00, 343.37it/s]\nEpoch : 130, Erro Médio : 42.94\n\r  0%|          | 0/165 [00:00<?, ?it/s]\r 23%|██▎       | 38/165 [00:00<00:00, 379.04it/s]\r 46%|████▌     | 76/165 [00:00<00:00, 376.23it/s]\r 69%|██████▉   | 114/165 [00:00<00:00, 368.77it/s]\r 92%|█████████▏| 151/165 [00:00<00:00, 367.69it/s]\r100%|██████████| 165/165 [00:00<00:00, 368.15it/s]\nEpoch : 131, Erro Médio : 42.75\n\r  0%|          | 0/165 [00:00<?, ?it/s]\r 19%|█▉        | 32/165 [00:00<00:00, 319.69it/s]\r 42%|████▏     | 69/165 [00:00<00:00, 348.36it/s]\r 63%|██████▎   | 104/165 [00:00<00:00, 322.76it/s]\r 85%|████████▌ | 141/165 [00:00<00:00, 339.53it/s]\r100%|██████████| 165/165 [00:00<00:00, 339.42it/s]\nEpoch : 132, Erro Médio : 42.57\n\r  0%|          | 0/165 [00:00<?, ?it/s]\r 22%|██▏       | 37/165 [00:00<00:00, 362.69it/s]\r 45%|████▍     | 74/165 [00:00<00:00, 363.15it/s]\r 67%|██████▋   | 111/165 [00:00<00:00, 354.15it/s]\r 89%|████████▉ | 147/165 [00:00<00:00, 304.14it/s]\r100%|██████████| 165/165 [00:00<00:00, 325.54it/s]\nEpoch : 133, Erro Médio : 42.38\n\r  0%|          | 0/165 [00:00<?, ?it/s]\r 23%|██▎       | 38/165 [00:00<00:00, 370.18it/s]\r 46%|████▌     | 76/165 [00:00<00:00, 351.12it/s]\r 68%|██████▊   | 112/165 [00:00<00:00, 316.34it/s]\r 91%|█████████ | 150/165 [00:00<00:00, 337.79it/s]\r100%|██████████| 165/165 [00:00<00:00, 340.29it/s]\nEpoch : 134, Erro Médio : 42.20\n\r  0%|          | 0/165 [00:00<?, ?it/s]\r 23%|██▎       | 38/165 [00:00<00:00, 373.83it/s]\r 46%|████▌     | 76/165 [00:00<00:00, 340.28it/s]\r 68%|██████▊   | 113/165 [00:00<00:00, 351.02it/s]\r 93%|█████████▎| 153/165 [00:00<00:00, 367.19it/s]\r100%|██████████| 165/165 [00:00<00:00, 361.95it/s]\nEpoch : 135, Erro Médio : 42.02\n\r  0%|          | 0/165 [00:00<?, ?it/s]\r 20%|██        | 33/165 [00:00<00:00, 322.17it/s]\r 42%|████▏     | 70/165 [00:00<00:00, 349.65it/s]\r 65%|██████▌   | 108/165 [00:00<00:00, 359.69it/s]\r 87%|████████▋ | 144/165 [00:00<00:00, 345.25it/s]\r100%|██████████| 165/165 [00:00<00:00, 350.63it/s]\nEpoch : 136, Erro Médio : 41.84\n\r  0%|          | 0/165 [00:00<?, ?it/s]\r 18%|█▊        | 29/165 [00:00<00:00, 283.28it/s]\r 40%|████      | 66/165 [00:00<00:00, 332.61it/s]\r 62%|██████▏   | 103/165 [00:00<00:00, 345.87it/s]\r 84%|████████▎ | 138/165 [00:00<00:00, 339.08it/s]\r100%|██████████| 165/165 [00:00<00:00, 339.09it/s]\nEpoch : 137, Erro Médio : 41.66\n\r  0%|          | 0/165 [00:00<?, ?it/s]\r 22%|██▏       | 36/165 [00:00<00:00, 357.42it/s]\r 44%|████▍     | 73/165 [00:00<00:00, 360.59it/s]\r 67%|██████▋   | 110/165 [00:00<00:00, 361.57it/s]\r 89%|████████▉ | 147/165 [00:00<00:00, 356.28it/s]\r100%|██████████| 165/165 [00:00<00:00, 349.05it/s]\nEpoch : 138, Erro Médio : 41.48\n\r  0%|          | 0/165 [00:00<?, ?it/s]\r 22%|██▏       | 36/165 [00:00<00:00, 351.58it/s]\r 44%|████▎     | 72/165 [00:00<00:00, 356.42it/s]\r 65%|██████▌   | 108/165 [00:00<00:00, 344.07it/s]\r 87%|████████▋ | 143/165 [00:00<00:00, 341.22it/s]\r100%|██████████| 165/165 [00:00<00:00, 345.51it/s]\nEpoch : 139, Erro Médio : 41.30\n\r  0%|          | 0/165 [00:00<?, ?it/s]\r 22%|██▏       | 37/165 [00:00<00:00, 360.12it/s]\r 45%|████▍     | 74/165 [00:00<00:00, 283.66it/s]\r 65%|██████▍   | 107/165 [00:00<00:00, 299.48it/s]\r 84%|████████▎ | 138/165 [00:00<00:00, 291.51it/s]\r100%|██████████| 165/165 [00:00<00:00, 307.20it/s]\nEpoch : 140, Erro Médio : 41.13\n\r  0%|          | 0/165 [00:00<?, ?it/s]\r 19%|█▉        | 32/165 [00:00<00:00, 312.81it/s]\r 41%|████      | 68/165 [00:00<00:00, 338.40it/s]\r 64%|██████▎   | 105/165 [00:00<00:00, 349.08it/s]\r 85%|████████▍ | 140/165 [00:00<00:00, 338.97it/s]\r100%|██████████| 165/165 [00:00<00:00, 341.88it/s]\nEpoch : 141, Erro Médio : 40.96\n\r  0%|          | 0/165 [00:00<?, ?it/s]\r 21%|██        | 35/165 [00:00<00:00, 346.93it/s]\r 42%|████▏     | 70/165 [00:00<00:00, 224.40it/s]\r 65%|██████▍   | 107/165 [00:00<00:00, 274.04it/s]\r 85%|████████▌ | 141/165 [00:00<00:00, 295.41it/s]\r100%|██████████| 165/165 [00:00<00:00, 293.01it/s]\nEpoch : 142, Erro Médio : 40.79\n\r  0%|          | 0/165 [00:00<?, ?it/s]\r 21%|██        | 35/165 [00:00<00:00, 341.33it/s]\r 44%|████▎     | 72/165 [00:00<00:00, 353.68it/s]\r 66%|██████▌   | 109/165 [00:00<00:00, 357.80it/s]\r 88%|████████▊ | 145/165 [00:00<00:00, 333.52it/s]\r100%|██████████| 165/165 [00:00<00:00, 340.55it/s]\nEpoch : 143, Erro Médio : 40.62\n\r  0%|          | 0/165 [00:00<?, ?it/s]\r 22%|██▏       | 36/165 [00:00<00:00, 357.78it/s]\r 44%|████▎     | 72/165 [00:00<00:00, 330.02it/s]\r 66%|██████▌   | 109/165 [00:00<00:00, 346.98it/s]\r 87%|████████▋ | 144/165 [00:00<00:00, 344.08it/s]\r100%|██████████| 165/165 [00:00<00:00, 346.00it/s]\nEpoch : 144, Erro Médio : 40.45\n\r  0%|          | 0/165 [00:00<?, ?it/s]\r 22%|██▏       | 36/165 [00:00<00:00, 353.70it/s]\r 44%|████▎     | 72/165 [00:00<00:00, 292.15it/s]\r 62%|██████▏   | 102/165 [00:00<00:00, 272.99it/s]\r 84%|████████▎ | 138/165 [00:00<00:00, 302.32it/s]\r100%|██████████| 165/165 [00:00<00:00, 294.34it/s]\nEpoch : 145, Erro Médio : 40.29\n\r  0%|          | 0/165 [00:00<?, ?it/s]\r 21%|██        | 35/165 [00:00<00:00, 347.51it/s]\r 45%|████▍     | 74/165 [00:00<00:00, 371.85it/s]\r 68%|██████▊   | 112/165 [00:00<00:00, 364.00it/s]\r 90%|█████████ | 149/165 [00:00<00:00, 359.73it/s]\r100%|██████████| 165/165 [00:00<00:00, 362.95it/s]\nEpoch : 146, Erro Médio : 40.13\n\r  0%|          | 0/165 [00:00<?, ?it/s]\r 14%|█▍        | 23/165 [00:00<00:00, 204.57it/s]\r 36%|███▌      | 59/165 [00:00<00:00, 289.13it/s]\r 58%|█████▊    | 96/165 [00:00<00:00, 321.96it/s]\r 78%|███████▊  | 129/165 [00:00<00:00, 319.22it/s]\r100%|██████████| 165/165 [00:00<00:00, 330.47it/s]\r100%|██████████| 165/165 [00:00<00:00, 314.47it/s]\nEpoch : 147, Erro Médio : 39.96\n\r  0%|          | 0/165 [00:00<?, ?it/s]\r 22%|██▏       | 37/165 [00:00<00:00, 364.22it/s]\r 45%|████▍     | 74/165 [00:00<00:00, 360.56it/s]\r 67%|██████▋   | 111/165 [00:00<00:00, 352.06it/s]\r 89%|████████▉ | 147/165 [00:00<00:00, 332.04it/s]\r100%|██████████| 165/165 [00:00<00:00, 341.92it/s]\nEpoch : 148, Erro Médio : 39.80\n\r  0%|          | 0/165 [00:00<?, ?it/s]\r 22%|██▏       | 36/165 [00:00<00:00, 359.18it/s]\r 44%|████▎     | 72/165 [00:00<00:00, 345.42it/s]\r 65%|██████▌   | 108/165 [00:00<00:00, 351.10it/s]\r 87%|████████▋ | 144/165 [00:00<00:00, 350.43it/s]\r100%|██████████| 165/165 [00:00<00:00, 352.42it/s]\nEpoch : 149, Erro Médio : 39.64\n\r  0%|          | 0/165 [00:00<?, ?it/s]\r 23%|██▎       | 38/165 [00:00<00:00, 374.02it/s]\r 46%|████▌     | 76/165 [00:00<00:00, 365.22it/s]\r 68%|██████▊   | 113/165 [00:00<00:00, 262.57it/s]\r 92%|█████████▏| 152/165 [00:00<00:00, 301.90it/s]\r100%|██████████| 165/165 [00:00<00:00, 308.58it/s]\nEpoch : 150, Erro Médio : 39.49\n\r  0%|          | 0/165 [00:00<?, ?it/s]\r 22%|██▏       | 36/165 [00:00<00:00, 355.89it/s]\r 45%|████▌     | 75/165 [00:00<00:00, 374.74it/s]\r 69%|██████▉   | 114/165 [00:00<00:00, 380.42it/s]\r 93%|█████████▎| 153/165 [00:00<00:00, 379.83it/s]\r100%|██████████| 165/165 [00:00<00:00, 377.43it/s]\nEpoch : 151, Erro Médio : 39.33\n\r  0%|          | 0/165 [00:00<?, ?it/s]\r  4%|▎         | 6/165 [00:00<00:02, 53.91it/s]\r 19%|█▉        | 31/165 [00:00<00:00, 163.65it/s]\r 41%|████      | 68/165 [00:00<00:00, 253.79it/s]\r 59%|█████▉    | 98/165 [00:00<00:00, 261.13it/s]\r 82%|████████▏ | 136/165 [00:00<00:00, 300.56it/s]\r100%|██████████| 165/165 [00:00<00:00, 273.49it/s]\nEpoch : 152, Erro Médio : 39.18\n\r  0%|          | 0/165 [00:00<?, ?it/s]\r 22%|██▏       | 37/165 [00:00<00:00, 361.50it/s]\r 45%|████▍     | 74/165 [00:00<00:00, 358.98it/s]\r 67%|██████▋   | 110/165 [00:00<00:00, 350.85it/s]\r 88%|████████▊ | 146/165 [00:00<00:00, 277.79it/s]\r100%|██████████| 165/165 [00:00<00:00, 308.92it/s]\nEpoch : 153, Erro Médio : 39.03\n\r  0%|          | 0/165 [00:00<?, ?it/s]\r 22%|██▏       | 37/165 [00:00<00:00, 367.84it/s]\r 45%|████▍     | 74/165 [00:00<00:00, 350.87it/s]\r 67%|██████▋   | 110/165 [00:00<00:00, 296.22it/s]\r 88%|████████▊ | 145/165 [00:00<00:00, 314.63it/s]\r100%|██████████| 165/165 [00:00<00:00, 318.78it/s]\nEpoch : 154, Erro Médio : 38.88\n\r  0%|          | 0/165 [00:00<?, ?it/s]\r 23%|██▎       | 38/165 [00:00<00:00, 377.49it/s]\r 46%|████▌     | 76/165 [00:00<00:00, 235.09it/s]\r 67%|██████▋   | 110/165 [00:00<00:00, 268.74it/s]\r 87%|████████▋ | 144/165 [00:00<00:00, 291.92it/s]\r100%|██████████| 165/165 [00:00<00:00, 292.17it/s]\nEpoch : 155, Erro Médio : 38.72\n\r  0%|          | 0/165 [00:00<?, ?it/s]\r  6%|▌         | 10/165 [00:00<00:01, 98.66it/s]\r 27%|██▋       | 45/165 [00:00<00:00, 244.91it/s]\r 50%|█████     | 83/165 [00:00<00:00, 304.64it/s]\r 69%|██████▉   | 114/165 [00:00<00:00, 294.94it/s]\r 92%|█████████▏| 152/165 [00:00<00:00, 324.27it/s]\r100%|██████████| 165/165 [00:00<00:00, 299.34it/s]\nEpoch : 156, Erro Médio : 38.58\n\r  0%|          | 0/165 [00:00<?, ?it/s]\r 22%|██▏       | 36/165 [00:00<00:00, 358.18it/s]\r 44%|████▎     | 72/165 [00:00<00:00, 345.38it/s]\r 67%|██████▋   | 110/165 [00:00<00:00, 356.90it/s]\r 90%|████████▉ | 148/165 [00:00<00:00, 362.37it/s]\r100%|██████████| 165/165 [00:00<00:00, 358.95it/s]\nEpoch : 157, Erro Médio : 38.43\n\r  0%|          | 0/165 [00:00<?, ?it/s]\r 23%|██▎       | 38/165 [00:00<00:00, 377.06it/s]\r 46%|████▌     | 76/165 [00:00<00:00, 314.77it/s]\r 69%|██████▉   | 114/165 [00:00<00:00, 338.22it/s]\r 92%|█████████▏| 152/165 [00:00<00:00, 351.47it/s]\r100%|██████████| 165/165 [00:00<00:00, 347.07it/s]\nEpoch : 158, Erro Médio : 38.28\n\r  0%|          | 0/165 [00:00<?, ?it/s]\r 12%|█▏        | 20/165 [00:00<00:00, 197.41it/s]\r 36%|███▌      | 59/165 [00:00<00:00, 307.12it/s]\r 59%|█████▉    | 97/165 [00:00<00:00, 338.00it/s]\r 81%|████████  | 134/165 [00:00<00:00, 350.30it/s]\r100%|██████████| 165/165 [00:00<00:00, 336.13it/s]\nEpoch : 159, Erro Médio : 38.13\n\r  0%|          | 0/165 [00:00<?, ?it/s]\r 14%|█▍        | 23/165 [00:00<00:00, 206.51it/s]\r 34%|███▍      | 56/165 [00:00<00:00, 274.56it/s]\r 52%|█████▏    | 85/165 [00:00<00:00, 278.43it/s]\r 71%|███████   | 117/165 [00:00<00:00, 292.17it/s]\r 93%|█████████▎| 153/165 [00:00<00:00, 315.72it/s]\r100%|██████████| 165/165 [00:00<00:00, 298.87it/s]\nEpoch : 160, Erro Médio : 37.99\n\r  0%|          | 0/165 [00:00<?, ?it/s]\r 13%|█▎        | 22/165 [00:00<00:00, 216.85it/s]\r 27%|██▋       | 44/165 [00:00<00:00, 172.31it/s]\r 45%|████▌     | 75/165 [00:00<00:00, 224.87it/s]\r 64%|██████▍   | 106/165 [00:00<00:00, 254.02it/s]\r 87%|████████▋ | 144/165 [00:00<00:00, 294.52it/s]\r100%|██████████| 165/165 [00:00<00:00, 268.75it/s]\nEpoch : 161, Erro Médio : 37.85\n\r  0%|          | 0/165 [00:00<?, ?it/s]\r 20%|██        | 33/165 [00:00<00:00, 324.92it/s]\r 42%|████▏     | 70/165 [00:00<00:00, 349.79it/s]\r 64%|██████▎   | 105/165 [00:00<00:00, 338.26it/s]\r 87%|████████▋ | 143/165 [00:00<00:00, 352.85it/s]\r100%|██████████| 165/165 [00:00<00:00, 351.01it/s]\nEpoch : 162, Erro Médio : 37.71\n\r  0%|          | 0/165 [00:00<?, ?it/s]\r 22%|██▏       | 36/165 [00:00<00:00, 354.53it/s]\r 44%|████▎     | 72/165 [00:00<00:00, 325.83it/s]\r 64%|██████▍   | 106/165 [00:00<00:00, 329.96it/s]\r 87%|████████▋ | 143/165 [00:00<00:00, 336.42it/s]\r100%|██████████| 165/165 [00:00<00:00, 338.01it/s]\nEpoch : 163, Erro Médio : 37.57\n\r  0%|          | 0/165 [00:00<?, ?it/s]\r 21%|██        | 34/165 [00:00<00:00, 331.96it/s]\r 43%|████▎     | 71/165 [00:00<00:00, 353.69it/s]\r 65%|██████▌   | 108/165 [00:00<00:00, 360.12it/s]\r 88%|████████▊ | 146/165 [00:00<00:00, 365.60it/s]\r100%|██████████| 165/165 [00:00<00:00, 359.43it/s]\nEpoch : 164, Erro Médio : 37.44\n\r  0%|          | 0/165 [00:00<?, ?it/s]\r 18%|█▊        | 30/165 [00:00<00:00, 299.09it/s]\r 39%|███▉      | 64/165 [00:00<00:00, 322.89it/s]\r 60%|██████    | 99/165 [00:00<00:00, 334.90it/s]\r 82%|████████▏ | 135/165 [00:00<00:00, 341.16it/s]\r100%|██████████| 165/165 [00:00<00:00, 341.97it/s]\nEpoch : 165, Erro Médio : 37.30\n\r  0%|          | 0/165 [00:00<?, ?it/s]\r 22%|██▏       | 37/165 [00:00<00:00, 366.28it/s]\r 45%|████▍     | 74/165 [00:00<00:00, 365.50it/s]\r 69%|██████▉   | 114/165 [00:00<00:00, 377.81it/s]\r 92%|█████████▏| 152/165 [00:00<00:00, 351.93it/s]\r100%|██████████| 165/165 [00:00<00:00, 358.42it/s]\nEpoch : 166, Erro Médio : 37.16\n\r  0%|          | 0/165 [00:00<?, ?it/s]\r 23%|██▎       | 38/165 [00:00<00:00, 374.30it/s]\r 46%|████▌     | 76/165 [00:00<00:00, 344.21it/s]\r 69%|██████▉   | 114/165 [00:00<00:00, 356.08it/s]\r 92%|█████████▏| 152/165 [00:00<00:00, 361.84it/s]\r100%|██████████| 165/165 [00:00<00:00, 359.58it/s]\nEpoch : 167, Erro Médio : 37.03\n\r  0%|          | 0/165 [00:00<?, ?it/s]\r 23%|██▎       | 38/165 [00:00<00:00, 376.87it/s]\r 46%|████▌     | 76/165 [00:00<00:00, 357.36it/s]\r 68%|██████▊   | 112/165 [00:00<00:00, 294.78it/s]\r 92%|█████████▏| 151/165 [00:00<00:00, 324.71it/s]\r100%|██████████| 165/165 [00:00<00:00, 329.35it/s]\nEpoch : 168, Erro Médio : 36.90\n\r  0%|          | 0/165 [00:00<?, ?it/s]\r 19%|█▉        | 32/165 [00:00<00:00, 317.46it/s]\r 41%|████      | 68/165 [00:00<00:00, 339.83it/s]\r 64%|██████▍   | 106/165 [00:00<00:00, 355.39it/s]\r 86%|████████▌ | 142/165 [00:00<00:00, 296.46it/s]\r100%|██████████| 165/165 [00:00<00:00, 312.82it/s]\nEpoch : 169, Erro Médio : 36.77\n\r  0%|          | 0/165 [00:00<?, ?it/s]\r 18%|█▊        | 30/165 [00:00<00:00, 262.65it/s]\r 38%|███▊      | 63/165 [00:00<00:00, 296.66it/s]\r 60%|██████    | 99/165 [00:00<00:00, 322.69it/s]\r 80%|████████  | 132/165 [00:00<00:00, 322.59it/s]\r100%|██████████| 165/165 [00:00<00:00, 322.25it/s]\nEpoch : 170, Erro Médio : 36.64\n\r  0%|          | 0/165 [00:00<?, ?it/s]\r 22%|██▏       | 37/165 [00:00<00:00, 366.23it/s]\r 45%|████▍     | 74/165 [00:00<00:00, 354.71it/s]\r 67%|██████▋   | 111/165 [00:00<00:00, 357.74it/s]\r 89%|████████▉ | 147/165 [00:00<00:00, 332.61it/s]\r100%|██████████| 165/165 [00:00<00:00, 342.56it/s]\nEpoch : 171, Erro Médio : 36.51\n\r  0%|          | 0/165 [00:00<?, ?it/s]\r 22%|██▏       | 37/165 [00:00<00:00, 364.03it/s]\r 45%|████▍     | 74/165 [00:00<00:00, 341.97it/s]\r 66%|██████▌   | 109/165 [00:00<00:00, 331.50it/s]\r 89%|████████▉ | 147/165 [00:00<00:00, 347.09it/s]\r100%|██████████| 165/165 [00:00<00:00, 345.50it/s]\nEpoch : 172, Erro Médio : 36.39\n\r  0%|          | 0/165 [00:00<?, ?it/s]\r 22%|██▏       | 37/165 [00:00<00:00, 364.32it/s]\r 45%|████▍     | 74/165 [00:00<00:00, 356.54it/s]\r 67%|██████▋   | 110/165 [00:00<00:00, 288.19it/s]\r 90%|████████▉ | 148/165 [00:00<00:00, 319.36it/s]\r100%|██████████| 165/165 [00:00<00:00, 324.99it/s]\nEpoch : 173, Erro Médio : 36.26\n\r  0%|          | 0/165 [00:00<?, ?it/s]\r 21%|██        | 34/165 [00:00<00:00, 331.20it/s]\r 41%|████      | 68/165 [00:00<00:00, 323.37it/s]\r 64%|██████▎   | 105/165 [00:00<00:00, 342.56it/s]\r 85%|████████▌ | 141/165 [00:00<00:00, 348.78it/s]\r100%|██████████| 165/165 [00:00<00:00, 322.50it/s]\nEpoch : 174, Erro Médio : 36.13\n\r  0%|          | 0/165 [00:00<?, ?it/s]\r 20%|██        | 33/165 [00:00<00:00, 328.78it/s]\r 41%|████      | 68/165 [00:00<00:00, 340.28it/s]\r 62%|██████▏   | 103/165 [00:00<00:00, 328.67it/s]\r 83%|████████▎ | 137/165 [00:00<00:00, 331.21it/s]\r100%|██████████| 165/165 [00:00<00:00, 336.74it/s]\nEpoch : 175, Erro Médio : 36.01\n\r  0%|          | 0/165 [00:00<?, ?it/s]\r 22%|██▏       | 37/165 [00:00<00:00, 368.13it/s]\r 45%|████▍     | 74/165 [00:00<00:00, 345.68it/s]\r 67%|██████▋   | 110/165 [00:00<00:00, 349.89it/s]\r 88%|████████▊ | 146/165 [00:00<00:00, 351.40it/s]\r100%|██████████| 165/165 [00:00<00:00, 341.92it/s]\nEpoch : 176, Erro Médio : 35.89\n\r  0%|          | 0/165 [00:00<?, ?it/s]\r 22%|██▏       | 37/165 [00:00<00:00, 364.17it/s]\r 45%|████▍     | 74/165 [00:00<00:00, 356.13it/s]\r 67%|██████▋   | 110/165 [00:00<00:00, 342.29it/s]\r 89%|████████▉ | 147/165 [00:00<00:00, 349.87it/s]\r100%|██████████| 165/165 [00:00<00:00, 351.98it/s]\nEpoch : 177, Erro Médio : 35.77\n\r  0%|          | 0/165 [00:00<?, ?it/s]\r 22%|██▏       | 37/165 [00:00<00:00, 361.46it/s]\r 45%|████▍     | 74/165 [00:00<00:00, 352.57it/s]\r 67%|██████▋   | 110/165 [00:00<00:00, 299.14it/s]\r 91%|█████████ | 150/165 [00:00<00:00, 332.37it/s]\r100%|██████████| 165/165 [00:00<00:00, 333.92it/s]\nEpoch : 178, Erro Médio : 35.64\n\r  0%|          | 0/165 [00:00<?, ?it/s]\r 23%|██▎       | 38/165 [00:00<00:00, 372.37it/s]\r 46%|████▌     | 76/165 [00:00<00:00, 348.54it/s]\r 68%|██████▊   | 112/165 [00:00<00:00, 351.65it/s]\r 90%|████████▉ | 148/165 [00:00<00:00, 353.93it/s]\r100%|██████████| 165/165 [00:00<00:00, 351.01it/s]\nEpoch : 179, Erro Médio : 35.52\n\r  0%|          | 0/165 [00:00<?, ?it/s]\r 22%|██▏       | 37/165 [00:00<00:00, 364.52it/s]\r 45%|████▍     | 74/165 [00:00<00:00, 292.74it/s]\r 67%|██████▋   | 111/165 [00:00<00:00, 323.01it/s]\r 90%|████████▉ | 148/165 [00:00<00:00, 337.93it/s]\r100%|██████████| 165/165 [00:00<00:00, 327.74it/s]\nEpoch : 180, Erro Médio : 35.39\n\r  0%|          | 0/165 [00:00<?, ?it/s]\r  3%|▎         | 5/165 [00:00<00:03, 49.46it/s]\r 23%|██▎       | 38/165 [00:00<00:00, 211.38it/s]\r 44%|████▍     | 73/165 [00:00<00:00, 273.51it/s]\r 67%|██████▋   | 110/165 [00:00<00:00, 309.26it/s]\r 86%|████████▌ | 142/165 [00:00<00:00, 302.60it/s]\r100%|██████████| 165/165 [00:00<00:00, 285.35it/s]\nEpoch : 181, Erro Médio : 35.28\n\r  0%|          | 0/165 [00:00<?, ?it/s]\r 24%|██▍       | 40/165 [00:00<00:00, 399.29it/s]\r 48%|████▊     | 80/165 [00:00<00:00, 376.06it/s]\r 72%|███████▏  | 118/165 [00:00<00:00, 352.46it/s]\r 93%|█████████▎| 154/165 [00:00<00:00, 349.35it/s]\r100%|██████████| 165/165 [00:00<00:00, 356.09it/s]\nEpoch : 182, Erro Médio : 35.16\n\r  0%|          | 0/165 [00:00<?, ?it/s]\r 22%|██▏       | 36/165 [00:00<00:00, 358.29it/s]\r 44%|████▎     | 72/165 [00:00<00:00, 353.20it/s]\r 65%|██████▌   | 108/165 [00:00<00:00, 334.66it/s]\r 88%|████████▊ | 145/165 [00:00<00:00, 347.74it/s]\r100%|██████████| 165/165 [00:00<00:00, 348.49it/s]\nEpoch : 183, Erro Médio : 35.04\n\r  0%|          | 0/165 [00:00<?, ?it/s]\r 23%|██▎       | 38/165 [00:00<00:00, 371.07it/s]\r 46%|████▌     | 76/165 [00:00<00:00, 338.50it/s]\r 68%|██████▊   | 113/165 [00:00<00:00, 351.71it/s]\r 90%|█████████ | 149/165 [00:00<00:00, 352.07it/s]\r100%|██████████| 165/165 [00:00<00:00, 351.60it/s]\nEpoch : 184, Erro Médio : 34.92\n\r  0%|          | 0/165 [00:00<?, ?it/s]\r 22%|██▏       | 37/165 [00:00<00:00, 361.80it/s]\r 45%|████▍     | 74/165 [00:00<00:00, 336.21it/s]\r 65%|██████▌   | 108/165 [00:00<00:00, 334.42it/s]\r 86%|████████▌ | 142/165 [00:00<00:00, 334.22it/s]\r100%|██████████| 165/165 [00:00<00:00, 333.82it/s]\nEpoch : 185, Erro Médio : 34.81\n\r  0%|          | 0/165 [00:00<?, ?it/s]\r 23%|██▎       | 38/165 [00:00<00:00, 374.67it/s]\r 46%|████▌     | 76/165 [00:00<00:00, 368.70it/s]\r 68%|██████▊   | 113/165 [00:00<00:00, 340.42it/s]\r 92%|█████████▏| 151/165 [00:00<00:00, 354.70it/s]\r100%|██████████| 165/165 [00:00<00:00, 356.51it/s]\nEpoch : 186, Erro Médio : 34.69\n\r  0%|          | 0/165 [00:00<?, ?it/s]\r 20%|██        | 33/165 [00:00<00:00, 326.60it/s]\r 43%|████▎     | 71/165 [00:00<00:00, 356.66it/s]\r 66%|██████▌   | 109/165 [00:00<00:00, 363.02it/s]\r 88%|████████▊ | 146/165 [00:00<00:00, 344.23it/s]\r100%|██████████| 165/165 [00:00<00:00, 348.17it/s]\nEpoch : 187, Erro Médio : 34.58\n\r  0%|          | 0/165 [00:00<?, ?it/s]\r 22%|██▏       | 37/165 [00:00<00:00, 363.28it/s]\r 45%|████▍     | 74/165 [00:00<00:00, 362.73it/s]\r 67%|██████▋   | 111/165 [00:00<00:00, 351.27it/s]\r 89%|████████▉ | 147/165 [00:00<00:00, 329.04it/s]\r100%|██████████| 165/165 [00:00<00:00, 343.43it/s]\nEpoch : 188, Erro Médio : 34.46\n\r  0%|          | 0/165 [00:00<?, ?it/s]\r 24%|██▎       | 39/165 [00:00<00:00, 380.95it/s]\r 47%|████▋     | 78/165 [00:00<00:00, 378.18it/s]\r 70%|███████   | 116/165 [00:00<00:00, 356.80it/s]\r 93%|█████████▎| 154/165 [00:00<00:00, 363.34it/s]\r100%|██████████| 165/165 [00:00<00:00, 364.76it/s]\nEpoch : 189, Erro Médio : 34.35\n\r  0%|          | 0/165 [00:00<?, ?it/s]\r 22%|██▏       | 37/165 [00:00<00:00, 367.48it/s]\r 45%|████▍     | 74/165 [00:00<00:00, 275.88it/s]\r 64%|██████▍   | 106/165 [00:00<00:00, 292.66it/s]\r 87%|████████▋ | 144/165 [00:00<00:00, 322.58it/s]\r100%|██████████| 165/165 [00:00<00:00, 319.01it/s]\nEpoch : 190, Erro Médio : 34.24\n\r  0%|          | 0/165 [00:00<?, ?it/s]\r 21%|██        | 35/165 [00:00<00:00, 343.92it/s]\r 44%|████▎     | 72/165 [00:00<00:00, 354.39it/s]\r 66%|██████▌   | 109/165 [00:00<00:00, 360.09it/s]\r 88%|████████▊ | 146/165 [00:00<00:00, 357.68it/s]\r100%|██████████| 165/165 [00:00<00:00, 357.21it/s]\nEpoch : 191, Erro Médio : 34.13\n\r  0%|          | 0/165 [00:00<?, ?it/s]\r 23%|██▎       | 38/165 [00:00<00:00, 371.56it/s]\r 46%|████▌     | 76/165 [00:00<00:00, 340.43it/s]\r 68%|██████▊   | 113/165 [00:00<00:00, 351.95it/s]\r 90%|█████████ | 149/165 [00:00<00:00, 350.20it/s]\r100%|██████████| 165/165 [00:00<00:00, 344.28it/s]\nEpoch : 192, Erro Médio : 34.02\n\r  0%|          | 0/165 [00:00<?, ?it/s]\r 23%|██▎       | 38/165 [00:00<00:00, 371.01it/s]\r 46%|████▌     | 76/165 [00:00<00:00, 368.30it/s]\r 68%|██████▊   | 113/165 [00:00<00:00, 365.70it/s]\r 91%|█████████ | 150/165 [00:00<00:00, 362.03it/s]\r100%|██████████| 165/165 [00:00<00:00, 336.22it/s]\nEpoch : 193, Erro Médio : 33.91\n\r  0%|          | 0/165 [00:00<?, ?it/s]\r 19%|█▉        | 31/165 [00:00<00:00, 309.31it/s]\r 41%|████      | 68/165 [00:00<00:00, 339.89it/s]\r 64%|██████▎   | 105/165 [00:00<00:00, 349.69it/s]\r 85%|████████▍ | 140/165 [00:00<00:00, 326.46it/s]\r100%|██████████| 165/165 [00:00<00:00, 334.50it/s]\nEpoch : 194, Erro Médio : 33.80\n\r  0%|          | 0/165 [00:00<?, ?it/s]\r 22%|██▏       | 36/165 [00:00<00:00, 358.14it/s]\r 44%|████▍     | 73/165 [00:00<00:00, 359.91it/s]\r 66%|██████▌   | 109/165 [00:00<00:00, 359.83it/s]\r 88%|████████▊ | 145/165 [00:00<00:00, 339.18it/s]\r100%|██████████| 165/165 [00:00<00:00, 347.08it/s]\nEpoch : 195, Erro Médio : 33.70\n\r  0%|          | 0/165 [00:00<?, ?it/s]\r 21%|██        | 34/165 [00:00<00:00, 336.94it/s]\r 42%|████▏     | 70/165 [00:00<00:00, 348.76it/s]\r 64%|██████▎   | 105/165 [00:00<00:00, 338.46it/s]\r 84%|████████▍ | 139/165 [00:00<00:00, 336.68it/s]\r100%|██████████| 165/165 [00:00<00:00, 338.73it/s]\nEpoch : 196, Erro Médio : 33.59\n\r  0%|          | 0/165 [00:00<?, ?it/s]\r 22%|██▏       | 37/165 [00:00<00:00, 360.09it/s]\r 45%|████▍     | 74/165 [00:00<00:00, 359.38it/s]\r 67%|██████▋   | 110/165 [00:00<00:00, 338.70it/s]\r 88%|████████▊ | 146/165 [00:00<00:00, 346.26it/s]\r100%|██████████| 165/165 [00:00<00:00, 346.21it/s]\nEpoch : 197, Erro Médio : 33.49\n\r  0%|          | 0/165 [00:00<?, ?it/s]\r 20%|██        | 33/165 [00:00<00:00, 322.09it/s]\r 42%|████▏     | 69/165 [00:00<00:00, 343.03it/s]\r 64%|██████▍   | 106/165 [00:00<00:00, 351.26it/s]\r 87%|████████▋ | 143/165 [00:00<00:00, 355.36it/s]\r100%|██████████| 165/165 [00:00<00:00, 348.73it/s]\nEpoch : 198, Erro Médio : 33.38\n\r  0%|          | 0/165 [00:00<?, ?it/s]\r 22%|██▏       | 37/165 [00:00<00:00, 365.31it/s]\r 45%|████▍     | 74/165 [00:00<00:00, 333.47it/s]\r 67%|██████▋   | 111/165 [00:00<00:00, 346.46it/s]\r 89%|████████▉ | 147/165 [00:00<00:00, 349.92it/s]\r100%|██████████| 165/165 [00:00<00:00, 340.48it/s]Epoch : 199, Erro Médio : 33.27\n\n"
     ]
    }
   ],
   "source": [
    "# Executa a função de treinamento e retorna o modelo e os erros\n",
    "model, losses = treina_glove(co_occ_mat)"
   ]
  },
  {
   "cell_type": "code",
   "execution_count": 0,
   "metadata": {
    "application/vnd.databricks.v1+cell": {
     "cellMetadata": {
      "byteLimit": 2048000,
      "rowLimit": 10000
     },
     "inputWidgets": {},
     "nuid": "76f8315e-bd34-48a5-b109-acd687dc166e",
     "showTitle": false,
     "title": ""
    }
   },
   "outputs": [],
   "source": [
    "# Função para o plot do erro durante o treinamento\n",
    "def plot_loss(losses, title):\n",
    "    plt.plot(range(len(losses)), losses)\n",
    "    plt.xlabel('Epoch')\n",
    "    plt.ylabel('Erro')\n",
    "    plt.title(title)\n",
    "    plt.figure()"
   ]
  },
  {
   "cell_type": "code",
   "execution_count": 0,
   "metadata": {
    "application/vnd.databricks.v1+cell": {
     "cellMetadata": {
      "byteLimit": 2048000,
      "rowLimit": 10000
     },
     "inputWidgets": {},
     "nuid": "e01c0028-7cd6-4dae-a520-4545d84d892c",
     "showTitle": false,
     "title": ""
    }
   },
   "outputs": [
    {
     "output_type": "display_data",
     "data": {
      "image/png": "[encoded data removed]"
     },
     "metadata": {
      "application/vnd.databricks.v1+output": {
       "addedWidgets": {},
       "arguments": {},
       "data": "data:image/png;base64,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\n",
       "datasetInfos": [],
       "metadata": {},
       "removedWidgets": [],
       "type": "image"
      }
     },
     "output_type": "display_data"
    },
    {
     "output_type": "stream",
     "name": "stdout",
     "output_type": "stream",
     "text": [
      "<Figure size 432x288 with 0 Axes>"
     ]
    }
   ],
   "source": [
    "# Plot\n",
    "plot_loss(losses, \"Erro de Treinamento do Modelo GloVe\")"
   ]
  },
  {
   "cell_type": "markdown",
   "metadata": {
    "application/vnd.databricks.v1+cell": {
     "cellMetadata": {},
     "inputWidgets": {},
     "nuid": "5b5a4159-6a8f-4661-8165-c4f2cb67fdf4",
     "showTitle": false,
     "title": ""
    },
    "collapsed": true
   },
   "source": [
    "### Prueba del modelo: similitud de palabras, analogías de palabras"
   ]
  },
  {
   "cell_type": "code",
   "execution_count": 0,
   "metadata": {
    "application/vnd.databricks.v1+cell": {
     "cellMetadata": {
      "byteLimit": 2048000,
      "rowLimit": 10000
     },
     "inputWidgets": {},
     "nuid": "0c3f087f-ab14-4cf6-bf72-e69afe954654",
     "showTitle": false,
     "title": ""
    }
   },
   "outputs": [],
   "source": [
    "# Função que retorna a embedding de uma palavra\n",
    "def get_palavra(palavra, modelo, word_to_ix):\n",
    "    return model.embeddings()[word_to_ix[palavra]]"
   ]
  },
  {
   "cell_type": "code",
   "execution_count": 0,
   "metadata": {
    "application/vnd.databricks.v1+cell": {
     "cellMetadata": {
      "byteLimit": 2048000,
      "rowLimit": 10000
     },
     "inputWidgets": {},
     "nuid": "11ceae79-12eb-4506-b5fd-fbc774810de3",
     "showTitle": false,
     "title": ""
    }
   },
   "outputs": [],
   "source": [
    "# Função para busca a palavra mais próxima\n",
    "def busca_palavra_similaridade(vec, word_to_ix, n = 10):\n",
    "    all_dists = [(w, torch.dist(vec, get_palavra(w, model, palavra_indice))) for w in palavra_indice]\n",
    "    return sorted(all_dists, key = lambda t: t[1])[:n]"
   ]
  },
  {
   "cell_type": "code",
   "execution_count": 0,
   "metadata": {
    "application/vnd.databricks.v1+cell": {
     "cellMetadata": {
      "byteLimit": 2048000,
      "rowLimit": 10000
     },
     "inputWidgets": {},
     "nuid": "0c21216c-e202-412f-9d80-1015fb6092e6",
     "showTitle": false,
     "title": ""
    }
   },
   "outputs": [
    {
     "output_type": "stream",
     "name": "stdout",
     "output_type": "stream",
     "text": [
      "tensor([-0.7018,  0.3016, -0.0958, -0.3624, -0.3387, -0.3424,  0.2970, -0.4657,\n         0.0435, -0.6102, -0.1784,  0.3023, -0.6658, -0.1643, -0.6655, -0.1890,\n         0.3069, -0.0094, -0.0759,  0.0228,  0.3036,  0.3219,  0.5959, -0.2540,\n         0.6937,  0.2831, -0.6802, -0.0291,  0.6015, -0.0423, -0.3522, -0.9533,\n         0.8402,  0.3116,  0.6320, -0.1315, -0.2989,  0.1198,  1.2698, -0.0834,\n        -0.4395, -0.2904, -0.6198,  0.2936, -0.3939, -0.0949, -0.0535, -0.6117,\n         0.3224, -0.1095])\n"
     ]
    }
   ],
   "source": [
    "# Gerando o vetor (embedding) de uma palavra \n",
    "vector = get_palavra(\"espaço\", model, palavra_indice)\n",
    "print(vector)"
   ]
  },
  {
   "cell_type": "code",
   "execution_count": 0,
   "metadata": {
    "application/vnd.databricks.v1+cell": {
     "cellMetadata": {
      "byteLimit": 2048000,
      "rowLimit": 10000
     },
     "inputWidgets": {},
     "nuid": "ee677e44-d51b-4870-a2c3-f587ab1f3707",
     "showTitle": false,
     "title": ""
    }
   },
   "outputs": [
    {
     "output_type": "stream",
     "name": "stdout",
     "output_type": "stream",
     "text": [
      "Out[36]: [('espaço', tensor(0.)),\n ('com', tensor(3.4000)),\n ('universo', tensor(3.4619)),\n ('galáctico', tensor(3.4937)),\n ('nem', tensor(3.5229)),\n ('tem', tensor(3.5276)),\n ('comprimento', tensor(3.5597)),\n ('televisor', tensor(3.5643)),\n ('este', tensor(3.5745)),\n ('gente', tensor(3.6015))]"
     ]
    }
   ],
   "source": [
    "# Busca as palavras similares à palavra \"espaço\"\n",
    "busca_palavra_similaridade(vector, palavra_indice)"
   ]
  },
  {
   "cell_type": "markdown",
   "metadata": {
    "application/vnd.databricks.v1+cell": {
     "cellMetadata": {},
     "inputWidgets": {},
     "nuid": "978eae40-a229-45e9-8805-2d875101a2b4",
     "showTitle": false,
     "title": ""
    }
   },
   "source": [
    "Tenga en cuenta que la palabra \"espaço\" tiene una distancia de 0 a sí misma. La siguiente palabra más parecida a \"espaço\" es \"universo\" y así sucesivamente. Cuanto menor es la distancia, más similar es la palabra. Recordando que la búsqueda de similitud se realiza con incrustaciones entrenadas con el modelo GloVe.\n",
    "\n",
    "Un ejemplo más:"
   ]
  },
  {
   "cell_type": "code",
   "execution_count": 0,
   "metadata": {
    "application/vnd.databricks.v1+cell": {
     "cellMetadata": {
      "byteLimit": 2048000,
      "rowLimit": 10000
     },
     "inputWidgets": {},
     "nuid": "45e897a2-2535-4176-9ece-b1fde1cedd99",
     "showTitle": false,
     "title": ""
    }
   },
   "outputs": [
    {
     "output_type": "stream",
     "name": "stdout",
     "output_type": "stream",
     "text": [
      "tensor([-0.3083, -0.4301, -0.2868,  0.1254, -1.1010, -0.3225,  0.5754, -0.7881,\n         0.7264, -0.2867,  0.3433, -0.2317, -0.9531,  0.4242,  0.7692,  0.1683,\n         0.9031,  0.4141, -0.1682,  0.0748,  0.2886,  0.6519, -0.1678, -0.3751,\n         0.8174, -0.0206,  0.2456, -0.7030,  0.1159, -0.4770,  0.0685, -0.6596,\n        -0.4187, -0.0438,  0.0971, -0.1268, -0.4552,  0.3048,  0.3166,  0.2685,\n        -0.5331,  0.0143,  0.6414, -0.6915,  0.1629,  1.0304, -0.4738, -0.2568,\n         1.2829, -0.3359])\n"
     ]
    }
   ],
   "source": [
    "# Gerando o vetor (embedding) de uma palavra \n",
    "vector = get_palavra(\"solar\", model, palavra_indice)\n",
    "print(vector)"
   ]
  },
  {
   "cell_type": "code",
   "execution_count": 0,
   "metadata": {
    "application/vnd.databricks.v1+cell": {
     "cellMetadata": {
      "byteLimit": 2048000,
      "rowLimit": 10000
     },
     "inputWidgets": {},
     "nuid": "62fd761c-c1c8-4c66-b217-de94b8d95dcc",
     "showTitle": false,
     "title": ""
    }
   },
   "outputs": [
    {
     "output_type": "stream",
     "name": "stdout",
     "output_type": "stream",
     "text": [
      "Out[38]: [('solar', tensor(0.)),\n ('energia', tensor(3.1621)),\n ('à', tensor(3.6011)),\n ('carregar', tensor(3.7791)),\n ('fumaça', tensor(3.8077)),\n ('com', tensor(3.8649)),\n ('incontáveis', tensor(3.8873)),\n ('imortais', tensor(3.8942)),\n ('meu', tensor(3.9037)),\n ('unidades', tensor(3.9195))]"
     ]
    }
   ],
   "source": [
    "# Busca as palavras similares à palavra \"solar\"\n",
    "busca_palavra_similaridade(vector, palavra_indice)"
   ]
  },
  {
   "cell_type": "markdown",
   "metadata": {
    "application/vnd.databricks.v1+cell": {
     "cellMetadata": {},
     "inputWidgets": {},
     "nuid": "35f2d7b0-eba8-4fb6-b280-aa2e8c171983",
     "showTitle": false,
     "title": ""
    }
   },
   "source": [
    "La distancia de la palabra \"solar\" a sí misma es 0 y la palabra con la mayor similitud es \"energia\", lo que tiene mucho sentido si lees el texto de Asimov que se usó para entrenar el modelo."
   ]
  },
  {
   "cell_type": "markdown",
   "metadata": {
    "application/vnd.databricks.v1+cell": {
     "cellMetadata": {},
     "inputWidgets": {},
     "nuid": "2325366f-b528-48d4-8861-d534dfce655e",
     "showTitle": false,
     "title": ""
    }
   },
   "source": [
    "### Analogía\n",
    "\n",
    "![imagem](files/tables/glove.png)"
   ]
  },
  {
   "cell_type": "markdown",
   "metadata": {
    "application/vnd.databricks.v1+cell": {
     "cellMetadata": {},
     "inputWidgets": {},
     "nuid": "8ad88726-3c6e-4c80-96f8-10874551c802",
     "showTitle": false,
     "title": ""
    }
   },
   "source": [
    "Tenga en cuenta en la imagen de arriba que creamos una \"fórmula\" con 3 palabras para buscar la cuarta palabra, lo cual se hace por analogía con incrustaciones (vectores de palabras).\n",
    "\n",
    "Luego creamos una función para buscar la palabra por analogía en el formato:\n",
    "\n",
    "palabra1 : palabra2 :: palabra3 : ?"
   ]
  },
  {
   "cell_type": "code",
   "execution_count": 0,
   "metadata": {
    "application/vnd.databricks.v1+cell": {
     "cellMetadata": {
      "byteLimit": 2048000,
      "rowLimit": 10000
     },
     "inputWidgets": {},
     "nuid": "85e8b10b-b80d-4f64-ab4e-fdb05bc5d4b1",
     "showTitle": false,
     "title": ""
    }
   },
   "outputs": [],
   "source": [
    "# Função para busca de palavra por analogia\n",
    "def busca_analogia(p1, p2, p3, n = 5, filtro = True):\n",
    "    \n",
    "    # Print\n",
    "    print('\\n[%s : %s :: %s : ?]' % (p1, p2, p3))\n",
    "   \n",
    "    # p2 - p1 + p3 = p4\n",
    "    closest_words = busca_palavra_similaridade(get_palavra(p2, model, palavra_indice) - \n",
    "                                               get_palavra(p1, model, palavra_indice) + \n",
    "                                               get_palavra(p3, model, palavra_indice), \n",
    "                                               palavra_indice)\n",
    "    \n",
    "    # Vamos excluir as 3 palavras passadas como parâmetro\n",
    "    if filtro:\n",
    "        closest_words = [t for t in closest_words if t[0] not in [p1, p2, p3]]\n",
    "        \n",
    "    for tuple in closest_words[:n]:\n",
    "        print('(%.4f) %s' % (tuple[1], tuple[0]))"
   ]
  },
  {
   "cell_type": "code",
   "execution_count": 0,
   "metadata": {
    "application/vnd.databricks.v1+cell": {
     "cellMetadata": {
      "byteLimit": 2048000,
      "rowLimit": 10000
     },
     "inputWidgets": {},
     "nuid": "3520629f-669f-462d-a216-dff68f1cb65f",
     "showTitle": false,
     "title": ""
    }
   },
   "outputs": [
    {
     "output_type": "stream",
     "name": "stdout",
     "output_type": "stream",
     "text": [
      "\n[família : crianças :: humano : ?]\n(5.2347) dessas\n(5.3481) únicos\n(5.4792) qualquer\n(5.5147) fundamentação\n(5.5312) assustados\n"
     ]
    }
   ],
   "source": [
    "# Busca por analogia\n",
    "busca_analogia(\"família\", \"crianças\", \"humano\")"
   ]
  },
  {
   "cell_type": "markdown",
   "metadata": {
    "application/vnd.databricks.v1+cell": {
     "cellMetadata": {},
     "inputWidgets": {},
     "nuid": "17e24609-5325-45b4-86c1-8013373b5521",
     "showTitle": false,
     "title": ""
    }
   },
   "source": [
    "Y ahí están las palabras que mejor se ajustan a la cuarta palabra, según nuestro modelo.\n",
    "\n",
    "¡A mayor distancia, menor similitud! Entrena al modelo con tus propios textos y experimenta con la búsqueda de similitud."
   ]
  },
  {
   "cell_type": "markdown",
   "metadata": {
    "application/vnd.databricks.v1+cell": {
     "cellMetadata": {},
     "inputWidgets": {},
     "nuid": "bb1e62df-daa4-49b9-afd4-3157758a0655",
     "showTitle": false,
     "title": ""
    },
    "collapsed": true
   },
   "source": [
    "# Fin"
   ]
  }
 ],
 "metadata": {
  "anaconda-cloud": {},
  "application/vnd.databricks.v1+notebook": {
   "dashboards": [],
   "language": "python",
   "notebookMetadata": {
    "pythonIndentUnit": 2
   },
   "notebookName": "GloVe_script",
   "notebookOrigID": 2149675970377271,
   "widgets": {}
  },
  "kernelspec": {
   "display_name": "Python 3",
   "language": "python",
   "name": "python3"
  },
  "language_info": {
   "codemirror_mode": {
    "name": "ipython",
    "version": 3
   },
   "file_extension": ".py",
   "mimetype": "text/x-python",
   "name": "python",
   "nbconvert_exporter": "python",
   "pygments_lexer": "ipython3",
   "version": "3.7.6"
  }
 },
 "nbformat": 4,
 "nbformat_minor": 0
}
